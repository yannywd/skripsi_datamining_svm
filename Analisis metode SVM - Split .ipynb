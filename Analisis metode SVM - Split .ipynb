{
 "cells": [
  {
   "cell_type": "markdown",
   "metadata": {},
   "source": [
    "## Analisis Klasifikasi Keluhan Tweet @PosIndonesia menggunakan metode SVM (Support Vector Machine Split "
   ]
  },
  {
   "cell_type": "markdown",
   "metadata": {},
   "source": [
    "Memproses data yang sudah bersih (di preprocessing) :"
   ]
  },
  {
   "cell_type": "code",
   "execution_count": 2,
   "metadata": {
    "scrolled": true
   },
   "outputs": [
    {
     "data": {
      "text/html": [
       "<div>\n",
       "<style>\n",
       "    .dataframe thead tr:only-child th {\n",
       "        text-align: right;\n",
       "    }\n",
       "\n",
       "    .dataframe thead th {\n",
       "        text-align: left;\n",
       "    }\n",
       "\n",
       "    .dataframe tbody tr th {\n",
       "        vertical-align: top;\n",
       "    }\n",
       "</style>\n",
       "<table border=\"1\" class=\"dataframe\">\n",
       "  <thead>\n",
       "    <tr style=\"text-align: right;\">\n",
       "      <th></th>\n",
       "      <th>ID</th>\n",
       "      <th>label</th>\n",
       "      <th>tweet</th>\n",
       "    </tr>\n",
       "  </thead>\n",
       "  <tbody>\n",
       "    <tr>\n",
       "      <th>0</th>\n",
       "      <td>1</td>\n",
       "      <td>terlambat</td>\n",
       "      <td>posindonesia kau sungguh sangat lot sekali cum...</td>\n",
       "    </tr>\n",
       "    <tr>\n",
       "      <th>1</th>\n",
       "      <td>2</td>\n",
       "      <td>terlambat</td>\n",
       "      <td>min resi sampai kapan yah koo lama bgt ga sampaj</td>\n",
       "    </tr>\n",
       "    <tr>\n",
       "      <th>2</th>\n",
       "      <td>3</td>\n",
       "      <td>terlambat</td>\n",
       "      <td>blm pernah pake next day telat minggu koq pali...</td>\n",
       "    </tr>\n",
       "    <tr>\n",
       "      <th>3</th>\n",
       "      <td>4</td>\n",
       "      <td>terlambat</td>\n",
       "      <td>barang ambil aja gak takut lama klu anter gpp ...</td>\n",
       "    </tr>\n",
       "    <tr>\n",
       "      <th>4</th>\n",
       "      <td>5</td>\n",
       "      <td>terlambat</td>\n",
       "      <td>paket no blm jg padahal pake pos express udah ...</td>\n",
       "    </tr>\n",
       "  </tbody>\n",
       "</table>\n",
       "</div>"
      ],
      "text/plain": [
       "   ID      label                                              tweet\n",
       "0   1  terlambat  posindonesia kau sungguh sangat lot sekali cum...\n",
       "1   2  terlambat   min resi sampai kapan yah koo lama bgt ga sampaj\n",
       "2   3  terlambat  blm pernah pake next day telat minggu koq pali...\n",
       "3   4  terlambat  barang ambil aja gak takut lama klu anter gpp ...\n",
       "4   5  terlambat  paket no blm jg padahal pake pos express udah ..."
      ]
     },
     "execution_count": 2,
     "metadata": {},
     "output_type": "execute_result"
    }
   ],
   "source": [
    "import pandas as pd\n",
    "\n",
    "df = pd.read_csv('Data/CleanDatasetStopwordStemmer.csv', header=0, names=['ID','label','tweet'])\n",
    "df.head()"
   ]
  },
  {
   "cell_type": "markdown",
   "metadata": {},
   "source": [
    "## Proses Klasifikasi dengan SVM"
   ]
  },
  {
   "cell_type": "markdown",
   "metadata": {},
   "source": [
    "Mengimport library yang diperlukan untuk klasifikasi dengan metode SVM"
   ]
  },
  {
   "cell_type": "code",
   "execution_count": 3,
   "metadata": {
    "collapsed": true
   },
   "outputs": [],
   "source": [
    "import numpy as np\n",
    "import pandas as pd\n",
    "import matplotlib.pyplot as plt\n",
    "from sklearn.feature_extraction.text import CountVectorizer\n",
    "from sklearn.feature_extraction.text import TfidfVectorizer\n",
    "from sklearn.metrics import average_precision_score\n",
    "from sklearn.metrics import precision_recall_curve\n",
    "from sklearn.model_selection import train_test_split\n",
    "from sklearn.model_selection import KFold\n",
    "from sklearn.metrics import confusion_matrix\n",
    "from sklearn.metrics import classification_report\n",
    "from sklearn import metrics\n",
    "#SVM\n",
    "from sklearn import svm\n",
    "from sklearn.svm import LinearSVC\n",
    "import time"
   ]
  },
  {
   "cell_type": "markdown",
   "metadata": {},
   "source": [
    "Label"
   ]
  },
  {
   "cell_type": "code",
   "execution_count": 5,
   "metadata": {},
   "outputs": [
    {
     "data": {
      "text/html": [
       "<div>\n",
       "<style>\n",
       "    .dataframe thead tr:only-child th {\n",
       "        text-align: right;\n",
       "    }\n",
       "\n",
       "    .dataframe thead th {\n",
       "        text-align: left;\n",
       "    }\n",
       "\n",
       "    .dataframe tbody tr th {\n",
       "        vertical-align: top;\n",
       "    }\n",
       "</style>\n",
       "<table border=\"1\" class=\"dataframe\">\n",
       "  <thead>\n",
       "    <tr style=\"text-align: right;\">\n",
       "      <th></th>\n",
       "      <th>ID</th>\n",
       "      <th>label</th>\n",
       "      <th>tweet</th>\n",
       "    </tr>\n",
       "  </thead>\n",
       "  <tbody>\n",
       "    <tr>\n",
       "      <th>0</th>\n",
       "      <td>1</td>\n",
       "      <td>0</td>\n",
       "      <td>posindonesia kau sungguh sangat lot sekali cum...</td>\n",
       "    </tr>\n",
       "    <tr>\n",
       "      <th>1</th>\n",
       "      <td>2</td>\n",
       "      <td>0</td>\n",
       "      <td>min resi sampai kapan yah koo lama bgt ga sampaj</td>\n",
       "    </tr>\n",
       "    <tr>\n",
       "      <th>2</th>\n",
       "      <td>3</td>\n",
       "      <td>0</td>\n",
       "      <td>blm pernah pake next day telat minggu koq pali...</td>\n",
       "    </tr>\n",
       "    <tr>\n",
       "      <th>3</th>\n",
       "      <td>4</td>\n",
       "      <td>0</td>\n",
       "      <td>barang ambil aja gak takut lama klu anter gpp ...</td>\n",
       "    </tr>\n",
       "    <tr>\n",
       "      <th>4</th>\n",
       "      <td>5</td>\n",
       "      <td>0</td>\n",
       "      <td>paket no blm jg padahal pake pos express udah ...</td>\n",
       "    </tr>\n",
       "  </tbody>\n",
       "</table>\n",
       "</div>"
      ],
      "text/plain": [
       "   ID label                                              tweet\n",
       "0   1     0  posindonesia kau sungguh sangat lot sekali cum...\n",
       "1   2     0   min resi sampai kapan yah koo lama bgt ga sampaj\n",
       "2   3     0  blm pernah pake next day telat minggu koq pali...\n",
       "3   4     0  barang ambil aja gak takut lama klu anter gpp ...\n",
       "4   5     0  paket no blm jg padahal pake pos express udah ..."
      ]
     },
     "execution_count": 5,
     "metadata": {},
     "output_type": "execute_result"
    }
   ],
   "source": [
    "df.loc[df[\"label\"]=='terlambat',\"label\"]=0\n",
    "df.loc[df[\"label\"]=='sistem',\"label\"]=1\n",
    "df.loc[df[\"label\"]=='gagal',\"label\"]=2\n",
    "df.loc[df[\"label\"]=='jaminan',\"label\"]=3\n",
    "df.loc[df[\"label\"]=='pelayanan',\"label\"]=4\n",
    "df.loc[df[\"label\"]=='respon',\"label\"]=5\n",
    "\n",
    "df.head()"
   ]
  },
  {
   "cell_type": "code",
   "execution_count": 6,
   "metadata": {
    "collapsed": true,
    "scrolled": true
   },
   "outputs": [],
   "source": [
    "df_x=df[\"tweet\"]\n",
    "df_y=df[\"label\"]\n",
    "\n",
    "X_train, X_test, y_train, y_test = train_test_split(df_x, df_y, test_size=0.2, random_state=1)\n",
    "#x_train, x_test, y_train, y_test = train_test_split(df_x, df_y, test_size=0.3,random_state=3)\n",
    "#x_train, x_val, y_train, y_val = train_test_split(df_x, df_y, test_size=0.1,random_state=3)"
   ]
  },
  {
   "cell_type": "markdown",
   "metadata": {},
   "source": [
    "## Tunning parameter"
   ]
  },
  {
   "cell_type": "code",
   "execution_count": 4,
   "metadata": {
    "collapsed": true
   },
   "outputs": [],
   "source": [
    "from sklearn.svm import SVC\n",
    "\n",
    "df=pd.read_csv('data/CleanDatasetStopwordStemmer.csv',sep=',', header=0,names=['id','label','tweet',],encoding=\"ISO-8859-1\")\n",
    "\n",
    "df.loc[df[\"label\"]=='terlambat',\"label\"]=0\n",
    "df.loc[df[\"label\"]=='sistem',\"label\"]=1\n",
    "df.loc[df[\"label\"]=='gagal',\"label\"]=2\n",
    "df.loc[df[\"label\"]=='jaminan',\"label\"]=3\n",
    "df.loc[df[\"label\"]=='pelayanan',\"label\"]=4\n",
    "df.loc[df[\"label\"]=='respon',\"label\"]=5\n",
    "\n",
    "df_x=df[\"tweet\"]\n",
    "df_y=df[\"label\"]\n",
    "\n",
    "cv=CountVectorizer()"
   ]
  },
  {
   "cell_type": "markdown",
   "metadata": {},
   "source": [
    "## Linear (C)"
   ]
  },
  {
   "cell_type": "code",
   "execution_count": 12,
   "metadata": {},
   "outputs": [
    {
     "name": "stdout",
     "output_type": "stream",
     "text": [
      "Parameter C\n",
      "0.001\n",
      "---Support Vector-----\n",
      "[288 304 291 292 299 298]\n",
      "----------------------------------\n",
      "Parameter C\n",
      "0.01\n",
      "---Support Vector-----\n",
      "[288 305 291 292 299 298]\n",
      "----------------------------------\n",
      "Parameter C\n",
      "0.1\n",
      "---Support Vector-----\n",
      "[282 294 261 290 295 283]\n",
      "----------------------------------\n",
      "Parameter C\n",
      "1\n",
      "---Support Vector-----\n",
      "[231 233 180 239 267 211]\n",
      "----------------------------------\n",
      "Parameter C\n",
      "10\n",
      "---Support Vector-----\n",
      "[238 239 178 239 271 211]\n",
      "----------------------------------\n",
      "Parameter C\n",
      "100\n",
      "---Support Vector-----\n",
      "[238 239 178 238 266 213]\n",
      "----------------------------------\n",
      "Parameter C\n",
      "1000\n",
      "---Support Vector-----\n",
      "[238 239 178 238 266 213]\n",
      "----------------------------------\n",
      "----------------------------------\n",
      "---Akurasi-----\n",
      "[13.963963963963963, 13.963963963963963, 78.82882882882883, 87.61261261261262, 86.48648648648648, 86.48648648648648, 86.48648648648648]\n"
     ]
    }
   ],
   "source": [
    "C_range=[0.001,0.01,0.1,1,10,100,1000]\n",
    "acc_score=[]\n",
    "\n",
    "for c in C_range:\n",
    "        x_train, x_test, y_train, y_test = train_test_split(df_x, df_y, test_size=0.2,random_state=3)\n",
    "        \n",
    "        x_traincv=cv.fit_transform(x_train)\n",
    "        z=x_traincv.toarray()\n",
    "        z\n",
    "        vectorizer = TfidfVectorizer(min_df=1)\n",
    "        X = vectorizer.fit_transform(df_x)\n",
    "        idf = vectorizer._tfidf.idf_\n",
    "        cv1=TfidfVectorizer(min_df=1,stop_words=[\"\"])\n",
    "        x_traincv1 = cv1.fit_transform(x_train)\n",
    "        a=x_traincv1.toarray() \n",
    "        print(\"Parameter C\")\n",
    "        print c\n",
    "        metode = svm.SVC(kernel='linear',C=c)\n",
    "        y_train=y_train.astype('int')\n",
    "        metode.fit(x_traincv1,y_train)\n",
    "        print(\"---Support Vector-----\")\n",
    "        print metode.n_support_ \n",
    "        print(\"----------------------------------\")\n",
    "        x_testcv1=cv1.transform(x_test)\n",
    "        pred=metode.predict(x_testcv1)\n",
    "        actu=np.array(y_test).astype(None)\n",
    "        count=0\n",
    "\n",
    "        for i in range (len(pred)):\n",
    "            if pred[i]==actu[i]:\n",
    "                count=count +1\n",
    "        count\n",
    "        len(actu)\n",
    "\n",
    "        akurasi=count/444.0*100\n",
    "        acc_score.append(akurasi)\n",
    "    \n",
    "print(\"----------------------------------\")\n",
    "print(\"---Akurasi-----\")\n",
    "print acc_score"
   ]
  },
  {
   "cell_type": "markdown",
   "metadata": {},
   "source": [
    "## Polynomial c,d, dan gamma"
   ]
  },
  {
   "cell_type": "code",
   "execution_count": 6,
   "metadata": {},
   "outputs": [
    {
     "name": "stdout",
     "output_type": "stream",
     "text": [
      "Parameter Degree\n",
      "2\n",
      "---Support Vector-----\n",
      "[288 308 291 292 299 298]\n",
      "----------------------------------\n",
      "Parameter Degree\n",
      "3\n",
      "---Support Vector-----\n",
      "[288 308 291 292 299 298]\n",
      "----------------------------------\n",
      "Parameter Degree\n",
      "4\n",
      "---Support Vector-----\n",
      "[288 308 291 292 299 298]\n",
      "----------------------------------\n",
      "Parameter Degree\n",
      "5\n",
      "---Support Vector-----\n",
      "[288 308 291 292 299 298]\n",
      "----------------------------------\n",
      "Parameter Degree\n",
      "6\n",
      "---Support Vector-----\n",
      "[288 308 291 292 299 298]\n",
      "----------------------------------\n",
      "----------------------------------\n",
      "---Akurasi-----\n",
      "[13.963963963963963, 13.963963963963963, 13.963963963963963, 13.963963963963963, 13.963963963963963]\n"
     ]
    }
   ],
   "source": [
    "degree=[2,3,4,5,6]\n",
    "acc_score=[]\n",
    "\n",
    "for d in degree:\n",
    "        x_train, x_test, y_train, y_test = train_test_split(df_x, df_y, test_size=0.2,random_state=3)\n",
    "        x_traincv=cv.fit_transform(x_train)\n",
    "        z=x_traincv.toarray()\n",
    "        z\n",
    "        vectorizer = TfidfVectorizer(min_df=1)\n",
    "        X = vectorizer.fit_transform(df_x)\n",
    "        idf = vectorizer._tfidf.idf_\n",
    "        cv1=TfidfVectorizer(min_df=1,stop_words=[\"\"])\n",
    "        x_traincv1 = cv1.fit_transform(x_train)\n",
    "        a=x_traincv1.toarray() \n",
    "        print(\"Parameter Degree\")\n",
    "        print d\n",
    "        metode = svm.SVC(kernel='poly', degree=d) \n",
    "        y_train=y_train.astype('int')\n",
    "        metode.fit(x_traincv1,y_train)\n",
    "        print(\"---Support Vector-----\")\n",
    "        print metode.n_support_ \n",
    "        print(\"----------------------------------\")\n",
    "        x_testcv1=cv1.transform(x_test)\n",
    "        pred=metode.predict(x_testcv1)\n",
    "        actu=np.array(y_test).astype(None)\n",
    "        count=0\n",
    "\n",
    "        for i in range (len(pred)):\n",
    "            if pred[i]==actu[i]:\n",
    "                count=count +1\n",
    "        count\n",
    "        len(actu)\n",
    "\n",
    "        akurasi=count/444.0*100\n",
    "        acc_score.append(akurasi)\n",
    "print(\"----------------------------------\")\n",
    "print(\"---Akurasi-----\")\n",
    "print acc_score"
   ]
  },
  {
   "cell_type": "code",
   "execution_count": 17,
   "metadata": {},
   "outputs": [
    {
     "name": "stdout",
     "output_type": "stream",
     "text": [
      "Parameter C\n",
      "[0.001, 0.01, 0.1, 1, 10, 100, 1000]\n",
      "----------------------------------\n",
      "[13.963963963963963, 13.963963963963963, 13.963963963963963, 13.963963963963963, 13.963963963963963, 13.963963963963963, 13.963963963963963]\n"
     ]
    }
   ],
   "source": [
    "C_range=[0.001,0.01,0.1,1,10,100,1000]\n",
    "acc_score=[]\n",
    "\n",
    "for c in C_range:\n",
    "        x_train, x_test, y_train, y_test = train_test_split(df_x, df_y, test_size=0.2,random_state=3)\n",
    "        x_traincv=cv.fit_transform(x_train)\n",
    "        z=x_traincv.toarray()\n",
    "        z\n",
    "        vectorizer = TfidfVectorizer(min_df=1)\n",
    "        X = vectorizer.fit_transform(df_x)\n",
    "        idf = vectorizer._tfidf.idf_\n",
    "        cv1=TfidfVectorizer(min_df=1,stop_words=[\"\"])\n",
    "        x_traincv1 = cv1.fit_transform(x_train)\n",
    "        a=x_traincv1.toarray() \n",
    "        metode = svm.SVC(kernel='poly', C=c) \n",
    "\n",
    "        y_train=y_train.astype('int')\n",
    "        metode.fit(x_traincv1,y_train)\n",
    "        x_testcv1=cv1.transform(x_test)\n",
    "        pred=metode.predict(x_testcv1)\n",
    "        actu=np.array(y_test).astype(None)\n",
    "        count=0\n",
    "\n",
    "        for i in range (len(pred)):\n",
    "            if pred[i]==actu[i]:\n",
    "                count=count +1\n",
    "        count\n",
    "        len(actu)\n",
    "\n",
    "        akurasi=count/444.0*100\n",
    "        acc_score.append(akurasi)\n",
    "print(\"Parameter C\")    \n",
    "print C_range\n",
    "print(\"----------------------------------\")\n",
    "print acc_score"
   ]
  },
  {
   "cell_type": "code",
   "execution_count": 20,
   "metadata": {},
   "outputs": [
    {
     "name": "stdout",
     "output_type": "stream",
     "text": [
      "Parameter Gamma\n",
      "[0.001, 0.01, 0.1, 1, 10, 100, 1000]\n",
      "----------------------------------\n",
      "[13.963963963963963, 13.963963963963963, 13.963963963963963, 75.0, 77.7027027027027, 77.7027027027027, 77.7027027027027]\n"
     ]
    }
   ],
   "source": [
    "gamma_range=[0.001,0.01,0.1,1,10,100,1000]\n",
    "acc_score=[]\n",
    "\n",
    "for g in gamma_range:\n",
    "        x_train, x_test, y_train, y_test = train_test_split(df_x, df_y, test_size=0.2,random_state=3)\n",
    "        x_traincv=cv.fit_transform(x_train)\n",
    "        z=x_traincv.toarray()\n",
    "        z\n",
    "        vectorizer = TfidfVectorizer(min_df=1)\n",
    "        X = vectorizer.fit_transform(df_x)\n",
    "        idf = vectorizer._tfidf.idf_\n",
    "        cv1=TfidfVectorizer(min_df=1,stop_words=[\"\"])\n",
    "        x_traincv1 = cv1.fit_transform(x_train)\n",
    "        a=x_traincv1.toarray() \n",
    "        metode = svm.SVC(kernel='poly', gamma=g) \n",
    "\n",
    "        y_train=y_train.astype('int')\n",
    "        metode.fit(x_traincv1,y_train)\n",
    "        x_testcv1=cv1.transform(x_test)\n",
    "        pred=metode.predict(x_testcv1)\n",
    "        actu=np.array(y_test).astype(None)\n",
    "        count=0\n",
    "\n",
    "        for i in range (len(pred)):\n",
    "            if pred[i]==actu[i]:\n",
    "                count=count +1\n",
    "        count\n",
    "        len(actu)\n",
    "\n",
    "        akurasi=count/444.0*100\n",
    "        acc_score.append(akurasi)\n",
    "print(\"Parameter Gamma\")  \n",
    "print gamma_range\n",
    "print(\"----------------------------------\")\n",
    "print acc_score"
   ]
  },
  {
   "cell_type": "code",
   "execution_count": 21,
   "metadata": {},
   "outputs": [
    {
     "name": "stdout",
     "output_type": "stream",
     "text": [
      "Parameter Gamma Degree= 2\n",
      "[0.001, 0.01, 0.1, 1, 10, 100, 1000]\n",
      "----------------------------------\n",
      "[13.963963963963963, 13.963963963963963, 13.963963963963963, 85.58558558558559, 86.03603603603604, 86.03603603603604, 86.03603603603604]\n"
     ]
    }
   ],
   "source": [
    "gamma_range=[0.001,0.01,0.1,1,10,100,1000]\n",
    "acc_score=[]\n",
    "\n",
    "for g in gamma_range:\n",
    "        x_train, x_test, y_train, y_test = train_test_split(df_x, df_y, test_size=0.2,random_state=3)\n",
    "        x_traincv=cv.fit_transform(x_train)\n",
    "        z=x_traincv.toarray()\n",
    "        z\n",
    "        vectorizer = TfidfVectorizer(min_df=1)\n",
    "        X = vectorizer.fit_transform(df_x)\n",
    "        idf = vectorizer._tfidf.idf_\n",
    "        cv1=TfidfVectorizer(min_df=1,stop_words=[\"\"])\n",
    "        x_traincv1 = cv1.fit_transform(x_train)\n",
    "        a=x_traincv1.toarray() \n",
    "        metode = svm.SVC(kernel='poly', gamma=g, degree=2) \n",
    "\n",
    "        y_train=y_train.astype('int')\n",
    "        metode.fit(x_traincv1,y_train)\n",
    "        x_testcv1=cv1.transform(x_test)\n",
    "        pred=metode.predict(x_testcv1)\n",
    "        actu=np.array(y_test).astype(None)\n",
    "        count=0\n",
    "\n",
    "        for i in range (len(pred)):\n",
    "            if pred[i]==actu[i]:\n",
    "                count=count +1\n",
    "        count\n",
    "        len(actu)\n",
    "\n",
    "        akurasi=count/444.0*100\n",
    "        acc_score.append(akurasi)\n",
    "print(\"Parameter Gamma Degree= 2\") \n",
    "print gamma_range\n",
    "print(\"----------------------------------\")\n",
    "print acc_score"
   ]
  },
  {
   "cell_type": "markdown",
   "metadata": {},
   "source": [
    "## RBF c dan gamma"
   ]
  },
  {
   "cell_type": "code",
   "execution_count": 22,
   "metadata": {},
   "outputs": [
    {
     "name": "stdout",
     "output_type": "stream",
     "text": [
      "Parameter Gamma\n",
      "[0.001, 0.01, 0.1, 1, 10, 100, 1000]\n",
      "----------------------------------\n",
      "[13.963963963963963, 13.963963963963963, 85.13513513513513, 88.28828828828829, 14.63963963963964, 13.73873873873874, 13.73873873873874]\n"
     ]
    }
   ],
   "source": [
    "gamma_range=[0.001,0.01,0.1,1,10,100,1000]\n",
    "acc_score=[]\n",
    "\n",
    "for g in gamma_range:\n",
    "    x_train, x_test, y_train, y_test = train_test_split(df_x, df_y, test_size=0.2,random_state=3)\n",
    "    x_traincv=cv.fit_transform(x_train)\n",
    "    z=x_traincv.toarray()\n",
    "    vectorizer = TfidfVectorizer(min_df=1)\n",
    "    X = vectorizer.fit_transform(df_x)\n",
    "    idf = vectorizer._tfidf.idf_\n",
    "    cv1=TfidfVectorizer(min_df=1,stop_words=[\"\"])\n",
    "    x_traincv1 = cv1.fit_transform(x_train)\n",
    "    a=x_traincv1.toarray() \n",
    "\n",
    "    metode = svm.SVC(kernel='rbf', gamma=g) \n",
    "    y_train=y_train.astype('int')\n",
    "    metode.fit(x_traincv1,y_train)\n",
    "    x_testcv1=cv1.transform(x_test)\n",
    "    pred=metode.predict(x_testcv1)\n",
    "    actu=np.array(y_test).astype(None)\n",
    "    count=0\n",
    "\n",
    "    for i in range (len(pred)):\n",
    "        if pred[i]==actu[i]:\n",
    "            count=count +1\n",
    "    count\n",
    "    len(actu)\n",
    "\n",
    "    akurasi=count/444.0*100\n",
    "    acc_score.append(akurasi)\n",
    "print(\"Parameter Gamma\")   \n",
    "print gamma_range\n",
    "print(\"----------------------------------\")\n",
    "print acc_score"
   ]
  },
  {
   "cell_type": "code",
   "execution_count": 23,
   "metadata": {},
   "outputs": [
    {
     "name": "stdout",
     "output_type": "stream",
     "text": [
      "Parameter C\n",
      "[0.001, 0.01, 0.1, 1, 10, 100, 1000]\n",
      "----------------------------------\n",
      "[13.963963963963963, 13.963963963963963, 13.963963963963963, 13.963963963963963, 13.963963963963963, 55.63063063063063, 88.06306306306307]\n"
     ]
    }
   ],
   "source": [
    "C_range=[0.001,0.01,0.1,1,10,100,1000]\n",
    "acc_score=[]\n",
    "\n",
    "for c in C_range:\n",
    "    x_train, x_test, y_train, y_test = train_test_split(df_x, df_y, test_size=0.2,random_state=3)\n",
    "    x_traincv=cv.fit_transform(x_train)\n",
    "    z=x_traincv.toarray()\n",
    "    vectorizer = TfidfVectorizer(min_df=1)\n",
    "    X = vectorizer.fit_transform(df_x)\n",
    "    idf = vectorizer._tfidf.idf_\n",
    "    cv1=TfidfVectorizer(min_df=1,stop_words=[\"\"])\n",
    "    x_traincv1 = cv1.fit_transform(x_train)\n",
    "    a=x_traincv1.toarray() \n",
    "    # linear SVM\n",
    "    metode = svm.SVC(kernel='rbf', C=c) \n",
    "    y_train=y_train.astype('int')\n",
    "    metode.fit(x_traincv1,y_train)\n",
    "    x_testcv1=cv1.transform(x_test)\n",
    "    pred=metode.predict(x_testcv1)\n",
    "    actu=np.array(y_test).astype(None)\n",
    "    count=0\n",
    "\n",
    "    for i in range (len(pred)):\n",
    "        if pred[i]==actu[i]:\n",
    "            count=count +1\n",
    "    count\n",
    "    len(actu)\n",
    "\n",
    "    akurasi=count/444.0*100\n",
    "    acc_score.append(akurasi)\n",
    "print(\"Parameter C\") \n",
    "print C_range\n",
    "print(\"----------------------------------\")\n",
    "print acc_score"
   ]
  }
 ],
 "metadata": {
  "kernelspec": {
   "display_name": "Python 2",
   "language": "python",
   "name": "python2"
  },
  "language_info": {
   "codemirror_mode": {
    "name": "ipython",
    "version": 2
   },
   "file_extension": ".py",
   "mimetype": "text/x-python",
   "name": "python",
   "nbconvert_exporter": "python",
   "pygments_lexer": "ipython2",
   "version": "2.7.14"
  }
 },
 "nbformat": 4,
 "nbformat_minor": 2
}
