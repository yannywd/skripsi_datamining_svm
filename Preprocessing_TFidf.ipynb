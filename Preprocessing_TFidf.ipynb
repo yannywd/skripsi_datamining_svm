{
 "cells": [
  {
   "cell_type": "markdown",
   "metadata": {},
   "source": [
    "# PreProcessing"
   ]
  },
  {
   "cell_type": "markdown",
   "metadata": {},
   "source": [
    "Melakukan klasifikasi keluhan pada data tweet @PosIndonesia, pertama mengambil data tweet menggunakan AmbilDataTwitter/exporter.py, data yang diambil adalah sebagai berikut :"
   ]
  },
  {
   "cell_type": "markdown",
   "metadata": {},
   "source": [
    "## Data Awal"
   ]
  },
  {
   "cell_type": "code",
   "execution_count": 1,
   "metadata": {
    "scrolled": true
   },
   "outputs": [
    {
     "data": {
      "text/html": [
       "<div>\n",
       "<style>\n",
       "    .dataframe thead tr:only-child th {\n",
       "        text-align: right;\n",
       "    }\n",
       "\n",
       "    .dataframe thead th {\n",
       "        text-align: left;\n",
       "    }\n",
       "\n",
       "    .dataframe tbody tr th {\n",
       "        vertical-align: top;\n",
       "    }\n",
       "</style>\n",
       "<table border=\"1\" class=\"dataframe\">\n",
       "  <thead>\n",
       "    <tr style=\"text-align: right;\">\n",
       "      <th></th>\n",
       "      <th>ID</th>\n",
       "      <th>label</th>\n",
       "      <th>tweet</th>\n",
       "    </tr>\n",
       "  </thead>\n",
       "  <tbody>\n",
       "    <tr>\n",
       "      <th>0</th>\n",
       "      <td>1</td>\n",
       "      <td>terlambat</td>\n",
       "      <td>#PosIndonesia kau sungguh sangat lemot sekali....</td>\n",
       "    </tr>\n",
       "    <tr>\n",
       "      <th>1</th>\n",
       "      <td>2</td>\n",
       "      <td>terlambat</td>\n",
       "      <td>@BukaBantuan @bukalapak @PosIndonesia min resi...</td>\n",
       "    </tr>\n",
       "    <tr>\n",
       "      <th>2</th>\n",
       "      <td>3</td>\n",
       "      <td>terlambat</td>\n",
       "      <td>@fauzannur14 saya blm pernah pake next day sam...</td>\n",
       "    </tr>\n",
       "    <tr>\n",
       "      <th>3</th>\n",
       "      <td>4</td>\n",
       "      <td>terlambat</td>\n",
       "      <td>@PosIndonesia</td>\n",
       "    </tr>\n",
       "    <tr>\n",
       "      <th>4</th>\n",
       "      <td>5</td>\n",
       "      <td>terlambat</td>\n",
       "      <td>@PosIndonesia</td>\n",
       "    </tr>\n",
       "  </tbody>\n",
       "</table>\n",
       "</div>"
      ],
      "text/plain": [
       "   ID      label                                              tweet\n",
       "0   1  terlambat  #PosIndonesia kau sungguh sangat lemot sekali....\n",
       "1   2  terlambat  @BukaBantuan @bukalapak @PosIndonesia min resi...\n",
       "2   3  terlambat  @fauzannur14 saya blm pernah pake next day sam...\n",
       "3   4  terlambat                                     @PosIndonesia \n",
       "4   5  terlambat                                     @PosIndonesia "
      ]
     },
     "execution_count": 1,
     "metadata": {},
     "output_type": "execute_result"
    }
   ],
   "source": [
    "import pandas as pd\n",
    "\n",
    "df = pd.read_csv('Data/Dataset.csv', skiprows=[0], names=['ID','label','tweet'])\n",
    "df.head()"
   ]
  },
  {
   "cell_type": "markdown",
   "metadata": {},
   "source": [
    "## Preprocessing text tweet"
   ]
  },
  {
   "cell_type": "markdown",
   "metadata": {},
   "source": [
    "Kemudian masuk proses preprocessing, yaitu menghapus element yang tidak diperlukan pada data tweet, pertama yaitu menghapus stoword menggunakan library stopword sastrawi "
   ]
  },
  {
   "cell_type": "code",
   "execution_count": 3,
   "metadata": {},
   "outputs": [
    {
     "name": "stdout",
     "output_type": "stream",
     "text": [
      "Processing 2221/2221\n",
      "Saved processed tweets to: CleanDataset untuk Hasil_stopword\n"
     ]
    }
   ],
   "source": [
    "import re\n",
    "import sys\n",
    "from utils import write_status\n",
    "from Sastrawi.StopWordRemover.StopWordRemoverFactory import StopWordRemoverFactory\n",
    "\n",
    "def preprocess_word(word):\n",
    "    # Menghapus tanda baca\n",
    "    word = word.strip('\\'\"?!,.():;')\n",
    "    # Menghapus repetisi seperti apaaa --> apa\n",
    "    word = re.sub(r'(.)\\1\\1+', r'\\1', word)\n",
    "    # Remove - & '\n",
    "    word = re.sub(r'(-|\\')', '', word)\n",
    "    return word\n",
    "\n",
    "def is_valid_word(word):\n",
    "    # Check if word begins with an alphabet\n",
    "    return (re.search(r'^[a-zA-Z][a-z0-9A-Z\\._]*$', word) is not None)\n",
    "\n",
    "#  Convert emoji \n",
    "def handle_emojis(tweet):\n",
    "    # Smile -- :), : ), :-), (:, ( :, (-:, :')\n",
    "    tweet = re.sub(r'(:\\s?\\)|:-\\)|\\(\\s?:|\\(-:|:\\'\\))','senyum', tweet)\n",
    "    # Laugh -- :D, : D, :-D, xD, x-D, XD, X-D\n",
    "    tweet = re.sub(r'(:\\s?D|:-D|x-?D|X-?D)','tawa', tweet)\n",
    "    # Love -- <3, :*\n",
    "    tweet = re.sub(r'(<3|:\\*)','cinta', tweet)\n",
    "    # Wink -- ;-), ;), ;-D, ;D, (;,  (-;\n",
    "    tweet = re.sub(r'(;-?\\)|;-?D|\\(-?;)','kedip', tweet)\n",
    "    # Sad -- :-(, : (, :(, ):, )-:\n",
    "    tweet = re.sub(r'(:\\s?\\(|:-\\(|\\)\\s?:|\\)-:)','sedih', tweet)\n",
    "    # Cry -- :,(, :'(, :\"(\n",
    "    tweet = re.sub(r'(:,\\(|:\\'\\(|:\"\\()','tangis', tweet)\n",
    "    return tweet\n",
    "\n",
    "def preprocess_tweet(tweet):\n",
    "    processed_tweet = []\n",
    "    # Convert menjadi lower case\n",
    "    tweet = tweet.lower()\n",
    "    # Menghapus URL\n",
    "    tweet = re.sub(r'((www\\.[\\S]+)|(https?://[\\S]+)|(pic.twitter.com[\\S]+))','', tweet)\n",
    "    # Menghapus @blabla usermention\n",
    "    tweet = re.sub(r'@[\\S]+', '', tweet)\n",
    "    # Menghapus #hashtag\n",
    "    tweet = re.sub(r'#(\\S+)', r' \\1 ', tweet)\n",
    "    # Menghapus RT (retweet)\n",
    "    tweet = re.sub(r'\\brt\\b', '', tweet)\n",
    "    # Mengganti 2+ dots dengan spasi\n",
    "    tweet = re.sub(r'\\.{2,}', ' ', tweet)\n",
    "    # Mengganti resi 13 atau 15 angka dan huruf\n",
    "    #tweet = re.sub(r'(\\b\\w{15}\\b)|(\\b\\w{13}\\b)|(\\b\\w{11}\\b)|(\\b\\w{12}\\b)','resi', tweet)\n",
    "    # Strip space, \" and ' from tweet\n",
    "    tweet = tweet.strip(' \"\\'')\n",
    "    # Mengganti emoji \n",
    "    tweet = handle_emojis(tweet)\n",
    "    # Menghapus SAMPE2 -- sampe\n",
    "    tweet = re.sub(r'(\\S+)2', r'\\1', tweet)\n",
    "    # Menghapus multiple spasi dengan single spasi\n",
    "    tweet = re.sub(r'(\\b\\w{1}\\b)','', tweet)\n",
    "    # Menghapus 1 character\n",
    "    tweet = re.sub(r'#(\\S+)', r' \\1 ', tweet)\n",
    "    words = tweet.split()\n",
    "\n",
    "    for word in words:\n",
    "        word = preprocess_word(word)\n",
    "        if is_valid_word(word):\n",
    "            if use_stopword:\n",
    "                word = stopword.remove(word)\n",
    "            processed_tweet.append(word)\n",
    "\n",
    "    return ' '.join(processed_tweet)\n",
    "\n",
    "def preprocess_csv(Dataset, Hasil, test_file=False):\n",
    "    save_to_file = open('Data/CleanDatasetStopword.csv', 'w')\n",
    "\n",
    "    with open('Data/Dataset.csv', 'r') as csv:\n",
    "        lines = csv.readlines()\n",
    "        total = len(lines)\n",
    "        for i, line in enumerate(lines):\n",
    "            tweet_id = line[:line.find(',')]\n",
    "            if not test_file:\n",
    "                line = line[1 + line.find(','):]\n",
    "                kategori = str(line[:line.find(',')])\n",
    "            line = line[1 + line.find(','):]\n",
    "            tweet = line\n",
    "            processed_tweet = preprocess_tweet(tweet)\n",
    "            if not test_file:\n",
    "                save_to_file.write('%s,%s,%s\\n' %\n",
    "                                   (tweet_id, kategori, processed_tweet))\n",
    "            else:\n",
    "                save_to_file.write('%s,%s\\n' %\n",
    "                                   (tweet_id, processed_tweet))\n",
    "            write_status(i + 1, total)\n",
    "    save_to_file.close()\n",
    "    print '\\nSaved processed tweets to: %s' % Hasil\n",
    "    return Hasil\n",
    "\n",
    "if __name__ == '__main__':\n",
    "    use_stopword = True\n",
    "    Dataset = sys.argv[1]\n",
    "    if use_stopword:\n",
    "        factory = StopWordRemoverFactory()\n",
    "        #stopwords = factory.get_stop_words()\n",
    "        stopword = factory.create_stop_word_remover()\n",
    "        #print(stopwords)\n",
    "        Hasil = sys.argv[1][:-4] + 'CleanDataset untuk Hasil_stopword'\n",
    "    Hasil = sys.argv[1][:-4] + 'CleanDataset untuk Hasil_stopword'\n",
    "    preprocess_csv(Dataset, Hasil, test_file=False)"
   ]
  },
  {
   "cell_type": "markdown",
   "metadata": {},
   "source": [
    "Kemudian proses stemming yaitu mengubah kata menjadi kata dasar menggunakan stemmer menggunakan library stemmer sastrawi "
   ]
  },
  {
   "cell_type": "code",
   "execution_count": 13,
   "metadata": {},
   "outputs": [
    {
     "name": "stdout",
     "output_type": "stream",
     "text": [
      "Processing 2221/2221\n",
      "Saved processed tweets to: CleanDataset untuk Hasil_stemmer\n"
     ]
    }
   ],
   "source": [
    "import re\n",
    "import sys\n",
    "from utils import write_status\n",
    "from Sastrawi.Stemmer.StemmerFactory import StemmerFactory\n",
    "\n",
    "import re\n",
    "import sys\n",
    "from utils import write_status\n",
    "from Sastrawi.StopWordRemover.StopWordRemoverFactory import StopWordRemoverFactory\n",
    "\n",
    "def preprocess_word(word):\n",
    "    # Menghapus tanda baca\n",
    "    word = word.strip('\\'\"?!,.():;')\n",
    "    # Menghapus repetisi seperti apaaa --> apa\n",
    "    word = re.sub(r'(.)\\1\\1+', r'\\1', word)\n",
    "    # Remove - & '\n",
    "    word = re.sub(r'(-|\\')', '', word)\n",
    "    return word\n",
    "\n",
    "def is_valid_word(word):\n",
    "    # Check if word begins with an alphabet\n",
    "    return (re.search(r'^[a-zA-Z][a-z0-9A-Z\\._]*$', word) is not None)\n",
    "\n",
    "#  Convert emoji \n",
    "def handle_emojis(tweet):\n",
    "    # Smile -- :), : ), :-), (:, ( :, (-:, :')\n",
    "    tweet = re.sub(r'(:\\s?\\)|:-\\)|\\(\\s?:|\\(-:|:\\'\\))','senyum', tweet)\n",
    "    # Laugh -- :D, : D, :-D, xD, x-D, XD, X-D\n",
    "    tweet = re.sub(r'(:\\s?D|:-D|x-?D|X-?D)','tawa', tweet)\n",
    "    # Love -- <3, :*\n",
    "    tweet = re.sub(r'(<3|:\\*)','cinta', tweet)\n",
    "    # Wink -- ;-), ;), ;-D, ;D, (;,  (-;\n",
    "    tweet = re.sub(r'(;-?\\)|;-?D|\\(-?;)','kedip', tweet)\n",
    "    # Sad -- :-(, : (, :(, ):, )-:\n",
    "    tweet = re.sub(r'(:\\s?\\(|:-\\(|\\)\\s?:|\\)-:)','sedih', tweet)\n",
    "    # Cry -- :,(, :'(, :\"(\n",
    "    tweet = re.sub(r'(:,\\(|:\\'\\(|:\"\\()','tangis', tweet)\n",
    "    return tweet\n",
    "\n",
    "def preprocess_tweet(tweet):\n",
    "    processed_tweet = []\n",
    "    # Convert menjadi lower case\n",
    "    tweet = tweet.lower()\n",
    "    # Menghapus URL\n",
    "    tweet = re.sub(r'((www\\.[\\S]+)|(https?://[\\S]+)|(pic.twitter.com[\\S]+))','', tweet)\n",
    "    # Menghapus @blabla usermention\n",
    "    tweet = re.sub(r'@[\\S]+', '', tweet)\n",
    "    # Menghapus #hashtag\n",
    "    tweet = re.sub(r'#(\\S+)', r' \\1 ', tweet)\n",
    "    # Menghapus RT (retweet)\n",
    "    tweet = re.sub(r'\\brt\\b', '', tweet)\n",
    "    # Mengganti 2+ dots dengan spasi\n",
    "    tweet = re.sub(r'\\.{2,}', ' ', tweet)\n",
    "    # Mengganti resi 13 atau 15 angka dan huruf\n",
    "    #tweet = re.sub(r'(\\b\\w{15}\\b)|(\\b\\w{13}\\b)|(\\b\\w{11}\\b)|(\\b\\w{12}\\b)','resi', tweet)\n",
    "    # Strip space, \" and ' from tweet\n",
    "    tweet = tweet.strip(' \"\\'')\n",
    "    # Mengganti emoji \n",
    "    tweet = handle_emojis(tweet)\n",
    "    # Menghapus SAMPE2 -- sampe\n",
    "    tweet = re.sub(r'(\\S+)2', r'\\1', tweet)\n",
    "    # Menghapus multiple spasi dengan single spasi\n",
    "    tweet = re.sub(r'(\\b\\w{1}\\b)','', tweet)\n",
    "    # Menghapus 1 character\n",
    "    tweet = re.sub(r'#(\\S+)', r' \\1 ', tweet)\n",
    "    words = tweet.split()\n",
    "\n",
    "    for word in words:\n",
    "        word = preprocess_word(word)\n",
    "        if is_valid_word(word):\n",
    "            if use_stemmer:\n",
    "                word = str(stemmer.stem(word))\n",
    "            processed_tweet.append(word)\n",
    "\n",
    "    return ' '.join(processed_tweet)\n",
    "\n",
    "def preprocess_csv(Dataset, Hasil, test_file=False):\n",
    "    save_to_file = open('Data/CleanDatasetStopwordStemmer.csv', 'w')\n",
    "\n",
    "    with open('Data/CleanDatasetStopword.csv', 'r') as csv:\n",
    "        lines = csv.readlines()\n",
    "        total = len(lines)\n",
    "        for i, line in enumerate(lines):\n",
    "            tweet_id = line[:line.find(',')]\n",
    "            if not test_file:\n",
    "                line = line[1 + line.find(','):]\n",
    "                kategori = str(line[:line.find(',')])\n",
    "            line = line[1 + line.find(','):]\n",
    "            tweet = line\n",
    "            processed_tweet = preprocess_tweet(tweet)\n",
    "            if not test_file:\n",
    "                save_to_file.write('%s,%s,%s\\n' %\n",
    "                                   (tweet_id, kategori, processed_tweet))\n",
    "            else:\n",
    "                save_to_file.write('%s,%s\\n' %\n",
    "                                   (tweet_id, processed_tweet))\n",
    "            write_status(i + 1, total)\n",
    "    save_to_file.close()\n",
    "    print '\\nSaved processed tweets to: %s' % Hasil\n",
    "    return Hasil\n",
    "\n",
    "if __name__ == '__main__':\n",
    "    use_stemmer = True\n",
    "    Dataset = sys.argv[1]\n",
    "    if use_stemmer:\n",
    "        factory = StemmerFactory()\n",
    "        stemmer = factory.create_stemmer()         \n",
    "        Hasil = sys.argv[1][:-4] + 'CleanDataset untuk Hasil_stemmer'\n",
    "    Hasil = sys.argv[1][:-4] + 'CleanDataset untuk Hasil_stemmer'\n",
    "    preprocess_csv(Dataset, Hasil, test_file=False)"
   ]
  },
  {
   "cell_type": "markdown",
   "metadata": {},
   "source": [
    "## Data tweet yang sudah bersih"
   ]
  },
  {
   "cell_type": "markdown",
   "metadata": {},
   "source": [
    "Menampilkan data yang sudah bersih yaitu Data/CleanDatasetStopwordStemmer.csv"
   ]
  },
  {
   "cell_type": "code",
   "execution_count": 3,
   "metadata": {},
   "outputs": [
    {
     "data": {
      "text/html": [
       "<div>\n",
       "<style>\n",
       "    .dataframe thead tr:only-child th {\n",
       "        text-align: right;\n",
       "    }\n",
       "\n",
       "    .dataframe thead th {\n",
       "        text-align: left;\n",
       "    }\n",
       "\n",
       "    .dataframe tbody tr th {\n",
       "        vertical-align: top;\n",
       "    }\n",
       "</style>\n",
       "<table border=\"1\" class=\"dataframe\">\n",
       "  <thead>\n",
       "    <tr style=\"text-align: right;\">\n",
       "      <th></th>\n",
       "      <th>id</th>\n",
       "      <th>label</th>\n",
       "      <th>tweet</th>\n",
       "    </tr>\n",
       "  </thead>\n",
       "  <tbody>\n",
       "    <tr>\n",
       "      <th>0</th>\n",
       "      <td>1</td>\n",
       "      <td>terlambat</td>\n",
       "      <td>posindonesia kau sungguh sangat lot sekali cum...</td>\n",
       "    </tr>\n",
       "    <tr>\n",
       "      <th>1</th>\n",
       "      <td>2</td>\n",
       "      <td>terlambat</td>\n",
       "      <td>min resi sampai kapan yah koo lama bgt ga sampaj</td>\n",
       "    </tr>\n",
       "    <tr>\n",
       "      <th>2</th>\n",
       "      <td>3</td>\n",
       "      <td>terlambat</td>\n",
       "      <td>blm pernah pake next day telat minggu koq pali...</td>\n",
       "    </tr>\n",
       "    <tr>\n",
       "      <th>3</th>\n",
       "      <td>4</td>\n",
       "      <td>terlambat</td>\n",
       "      <td>barang ambil aja gak takut lama klu anter gpp ...</td>\n",
       "    </tr>\n",
       "    <tr>\n",
       "      <th>4</th>\n",
       "      <td>5</td>\n",
       "      <td>terlambat</td>\n",
       "      <td>paket no blm jg padahal pake pos express udah ...</td>\n",
       "    </tr>\n",
       "  </tbody>\n",
       "</table>\n",
       "</div>"
      ],
      "text/plain": [
       "   id      label                                              tweet\n",
       "0   1  terlambat  posindonesia kau sungguh sangat lot sekali cum...\n",
       "1   2  terlambat   min resi sampai kapan yah koo lama bgt ga sampaj\n",
       "2   3  terlambat  blm pernah pake next day telat minggu koq pali...\n",
       "3   4  terlambat  barang ambil aja gak takut lama klu anter gpp ...\n",
       "4   5  terlambat  paket no blm jg padahal pake pos express udah ..."
      ]
     },
     "execution_count": 3,
     "metadata": {},
     "output_type": "execute_result"
    }
   ],
   "source": [
    "df=pd.read_csv('data/CleanDatasetStopwordStemmer.csv',skiprows=[0], sep=',',names=['id','label','tweet',],encoding=\"ISO-8859-1\")\n",
    "df.head()"
   ]
  },
  {
   "cell_type": "code",
   "execution_count": 5,
   "metadata": {
    "collapsed": true
   },
   "outputs": [],
   "source": [
    "import pandas as pd\n",
    "import numpy as np\n",
    "import seaborn as sns"
   ]
  },
  {
   "cell_type": "code",
   "execution_count": 6,
   "metadata": {
    "scrolled": true
   },
   "outputs": [
    {
     "data": {
      "text/plain": [
       "id       0\n",
       "label    0\n",
       "tweet    0\n",
       "dtype: int64"
      ]
     },
     "execution_count": 6,
     "metadata": {},
     "output_type": "execute_result"
    }
   ],
   "source": [
    "df=pd.read_csv('data/CleanDatasetStopwordStemmer.csv',skiprows=[0], sep=',',names=['id','label','tweet',],encoding=\"ISO-8859-1\")\n",
    "df.head()\n",
    "df.isnull().sum()"
   ]
  },
  {
   "cell_type": "code",
   "execution_count": 7,
   "metadata": {},
   "outputs": [
    {
     "data": {
      "text/plain": [
       "(2220, 3)"
      ]
     },
     "execution_count": 7,
     "metadata": {},
     "output_type": "execute_result"
    }
   ],
   "source": [
    "df.shape"
   ]
  },
  {
   "cell_type": "code",
   "execution_count": 8,
   "metadata": {},
   "outputs": [
    {
     "name": "stdout",
     "output_type": "stream",
     "text": [
      "Total data: 2220\n",
      "Kategori Keluhan karena Terlambat: 370\n",
      "Kategori Keluhan karena Kesalahan sistem: 370\n",
      "Kategori Keluhan karena Gagal kirim: 370\n",
      "Kategori Keluhan karena Barang rusak: 370\n",
      "Kategori Keluhan karena Pelayanan petugas: 370\n",
      "Kategori Keluhan karena Respon terhadap keluhan: 370\n"
     ]
    }
   ],
   "source": [
    "print(\"Total data: {}\".format(df.shape[0]))\n",
    "print(\"Kategori Keluhan karena Terlambat: {}\".format(df[df.label == 'terlambat'].shape[0]))\n",
    "print(\"Kategori Keluhan karena Kesalahan sistem: {}\".format(df[df.label == 'sistem'].shape[0]))\n",
    "print(\"Kategori Keluhan karena Gagal kirim: {}\".format(df[df.label == 'gagal'].shape[0]))\n",
    "print(\"Kategori Keluhan karena Barang rusak: {}\".format(df[df.label == 'jaminan'].shape[0]))\n",
    "print(\"Kategori Keluhan karena Pelayanan petugas: {}\".format(df[df.label == 'pelayanan'].shape[0]))\n",
    "print(\"Kategori Keluhan karena Respon terhadap keluhan: {}\".format(df[df.label == 'respon'].shape[0]))"
   ]
  },
  {
   "cell_type": "markdown",
   "metadata": {},
   "source": [
    "## TF IDF"
   ]
  },
  {
   "cell_type": "code",
   "execution_count": 9,
   "metadata": {},
   "outputs": [
    {
     "name": "stdout",
     "output_type": "stream",
     "text": [
      "{u'jaminan': 1, u'respon': 3, u'gagal': 0, u'terlambat': 5, u'pelayanan': 2, u'sistem': 4}\n",
      "\n",
      "Jumlah fitur y(label): 6\n"
     ]
    }
   ],
   "source": [
    "from sklearn.feature_extraction.text import CountVectorizer\n",
    "# create the transform\n",
    "df_y=df[\"label\"]\n",
    "vectorizer = CountVectorizer()\n",
    "# tokenize and build vocab\n",
    "a=vectorizer.fit(df_y)\n",
    "Fitur= len(vectorizer.vocabulary_)\n",
    "print(vectorizer.vocabulary_)\n",
    "print '\\nJumlah fitur y(label): %s' % Fitur "
   ]
  },
  {
   "cell_type": "code",
   "execution_count": 4,
   "metadata": {},
   "outputs": [
    {
     "name": "stdout",
     "output_type": "stream",
     "text": [
      "{u'nmer': 2471, u'tlfn': 3628, u'bngt': 429, u'tubagus': 3708, u'brusaha': 485, u'hati': 1328, u'tiba': 3601, u'banyuwangi': 258, u'lebur': 1984, u'putus': 2882, u'integrity': 1448, u'blm': 417, u'rr043908597id': 3024, u'dalem': 710, u'tasikmalaya': 3505, u'pasang': 2642, u'gadatang': 1172, u'mnggu': 2298, u'tweet': 3732, u'bgitu': 371, u'es17308730kr': 1101, u'nominal': 2480, u'berani': 337, u'kalimantan': 1619, u'cilacap': 597, u'sukoharjo': 3415, u'teweh': 3581, u'coba': 630, u'merchant': 2241, u'manis': 2143, u'jempol': 1539, u'dagang': 703, u'eg15465791kr': 1021, u'deli': 752, u'dollar': 936, u'rem': 2941, u'siapa': 3256, u'belitbelit': 317, u'sermh': 3225, u'klobisasusahngapaiandipermudah': 1790, u'postingan': 2816, u'bengkulu': 328, u'kudu': 1901, u'makasihsenyum': 2104, u'senin': 3207, u'kemaren': 1705, u'manokwari': 2145, u'direspond': 861, u'bla': 410, u'murni': 2351, u'upload': 3792, u'cma': 627, u'upa': 3789, u'hr': 1378, u'trakcing': 3670, u'ru2495095nl': 3042, u'geus': 1230, u'ueddan': 3757, u'gakprofesional': 1181, u'makanya': 2098, u'ente': 1091, u'agakagak': 41, u'bojonegoro': 438, u'hadoh': 1286, u'toling': 3647, u'titip': 3623, u'pindah': 2740, u'pasuk': 2650, u'gatot': 1205, u'dktr': 913, u'cileunyi': 601, u'naik': 2363, u'kargo': 1646, u'mbok': 2191, u'penasaran': 2689, u'esok': 1104, u'mega': 2203, u'ditelp': 883, u'neh': 2384, u'masbravo': 2168, u'blum': 426, u'kantos': 1637, u'kantor': 1634, u'minta': 2270, u'asia': 165, u'informasi': 1434, u'klau': 1784, u'tarutung': 3502, u'maksudnyaa': 2117, u'indramayu': 1429, u'moga': 2306, u'serah': 3216, u'kue': 1903, u'nyadar': 2511, u'tipu': 3622, u'dahh': 706, u'lebarang': 1982, u'remeh': 2942, u'komplek': 1832, u'mklumin': 2280, u'never': 2396, u'mei': 2204, u'komplen': 1834, u'bangkot': 236, u'china': 589, u'bintang': 395, u'pati': 2653, u'mamah': 2129, u'catat': 557, u'sumbang': 3423, u'dokumen': 935, u'juang': 1574, u'gla': 1249, u'ra838548717tw': 2888, u'nunggunya': 2507, u'mentok': 2237, u'aku': 65, u'dri': 954, u'sjk': 3288, u'kardus': 1644, u'koja': 1814, u'mksi': 2285, u'mksh': 2284, u'bru': 482, u'jujur': 1580, u'kalong': 1623, u'molor': 2310, u'brp': 478, u'bro': 476, u'indonsesia': 1428, u'moral': 2313, u'brg': 469, u'asuransi': 170, u'total': 3657, u'banjarbaru': 241, u'telp': 3538, u'dng': 922, u'jakartabarat': 1492, u'parkir': 2637, u'lwt': 2072, u'maen': 2083, u'suara': 3406, u'call': 538, u'telf': 3534, u'cc604156509de': 562, u'until': 3782, u'gedung': 1212, u'uneguneg': 3772, u'krnnya': 1885, u'hahh': 1291, u'padang': 2594, u'kacau': 1600, u'pgiriman': 2726, u'notif': 2489, u'haha': 1289, u'konsisten': 1844, u'dteksi': 961, u'tracknya': 3666, u'phone': 2729, u'eg618475343jp': 1039, u'konsekuen': 1843, u'gempa': 1220, u'kredibilitas': 1874, u'kgk': 1751, u'sortir': 3361, u'hiduppbb': 1350, u'td': 3512, u'me': 2198, u'mpds37188181461300': 2322, u'primasari': 2828, u'ma': 2074, u'ih': 1404, u'mo': 2303, u'kode': 1811, u'tny': 3638, u'ubah': 3744, u'nyata': 2525, u'cililitan': 602, u'mw': 2356, u'yati': 3900, u'ms': 2331, u'jaman': 1503, u'mager': 2087, u'tlong': 3631, u'my': 2357, u'iherb': 1405, u'pintu': 2744, u'dengn': 765, u'minpos': 2269, u'jatuh': 1521, u'mataram': 2178, u'india': 1422, u'repot': 2952, u'penting': 2697, u'tempunak': 3550, u'denger': 764, u'lp1904340sg': 2055, u'krusakkan': 1888, u'repon': 2950, u'nyebrang': 2528, u'bingung': 393, u'gede': 1210, u'eg186060kr': 1025, u'nengara': 2393, u'satu': 3127, u'bung': 511, u'hehehehehe': 1336, u'krain': 1873, u'jagung': 1488, u'pantesan': 2630, u'udqh': 3756, u'jubel': 1576, u'yogyakarta': 3909, u'konten': 1847, u'machine': 2081, u'amazing': 98, u'kaji': 1607, u'digembar': 822, u'gate': 1204, u'ngapain': 2414, u'dongs': 939, u'lecek': 1985, u'lah': 1934, u'kerjain': 1728, u'mess': 2246, u'after': 37, u'saling': 3086, u'customs': 693, u'thankyou': 3590, u'kec': 1678, u'syedih': 3447, u'lwat': 2071, u'president': 2825, u'tembus': 3545, u'adik': 24, u'lap': 1961, u'kalian': 1617, u'cy50484671de': 695, u'amin': 103, u'attempt': 179, u'tegal': 3521, u'dihub': 824, u'nambahin': 2367, u'ibunda': 1400, u'tulis': 3716, u'bahasa': 208, u'mohon': 2308, u'huhuu': 1390, u'tegas': 3523, u'ngomong': 2456, u'order': 2576, u'tunggu': 3722, u'profesionalisme': 2842, u'wus': 3887, u'eg1969031kr': 1026, u'dech': 740, u'feedback': 1131, u'office': 2541, u'banget': 232, u'aduh': 33, u'bhkan': 375, u'cantum': 547, u'meski': 2245, u'namax': 2366, u'keluarga': 1700, u'responsive': 2971, u'kadangkadang': 1602, u'treking': 3682, u'cidaun': 593, u'trtanggl': 3696, u'llihat': 2019, u'senyum': 3210, u'priuk': 2833, u'dgnti': 791, u'fix': 1143, u'la0404397us': 1922, u'hehehee': 1335, u'crew': 670, u'better': 365, u'gimane': 1240, u'benteng': 333, u'gimana': 1238, u'metion': 2250, u'ea37807575cn': 991, u'didatengin': 814, u'pjk': 2751, u'retur': 2976, u'jenis': 1541, u'beban': 296, u'dilabelin': 838, u'berbulanbulan': 342, u'bang': 231, u'twitt': 3736, u'bebas': 297, u'en003411535jp': 1084, u'pelat': 2677, u'komfirmasi': 1820, u'one': 2560, u'bank': 244, u'lapor': 1964, u'tenggelam': 3557, u'dilakukak': 840, u'untul': 3786, u'sepatu': 3211, u'tempat': 3547, u'cukup': 683, u'untuk': 3785, u'integrasi': 1447, u'kampret': 1628, u'nyampai': 2514, u'eg7104906kr': 1047, u'bantu': 250, u'mdh': 2194, u'yaudah': 3901, u'kirim': 1764, u'cuma': 684, u'kemari': 1706, u'solutif': 3353, u'bodok': 435, u'ngaco': 2399, u'posindo': 2804, u'lazada': 1974, u'invoicenya': 1458, u'rw': 3054, u'rp': 3014, u'yagitu': 3894, u'barangkali': 263, u'rs': 3035, u'pinggir': 2742, u'sms': 3327, u'aju': 56, u'smp': 3321, u'vifa': 3819, u'jkt': 1557, u'tanggulang': 3485, u'kunci': 1907, u'rn3561545gb': 3007, u'ditindaklanjuti': 885, u'sampaj': 3096, u'aja': 53, u'sampah': 3092, u'ditlfn': 887, u'korupsi': 1859, u'aje': 55, u'sma': 3314, u'umum': 3767, u'kesel': 1738, u'foto': 1154, u'lacak': 1929, u'dimn': 844, u'indsia': 1430, u'sana': 3108, u'ngetwit': 2447, u'free': 1158, u'standard': 3384, u'nti': 2497, u'htnb': 1385, u'tahun': 3460, u'tragis': 3668, u'ntb': 2496, u'rindu': 2997, u'kenapa': 1715, u'ato': 176, u'kalaupun': 1614, u'ecek': 999, u'days': 735, u'luruh': 2068, u'redline': 2927, u'isi': 1464, u'direport': 859, u'ats': 177, u'biji': 384, u'daya': 734, u'administrasi': 29, u'sobek': 3339, u'paringin': 2636, u'banten': 247, u'harus': 1322, u'rano': 2901, u'def749594040433': 743, u'istilah': 1465, u'ruko': 3047, u'woocommerce': 3881, u'es20930kr': 1102, u'indomesia': 1424, u'tel': 3527, u'soalmya': 3336, u'barcodenya': 270, u'halopos161': 1304, u'ee17969085id': 1007, u'menindaklanjuti': 2229, u'service': 3230, u'nihsedih': 2466, u'prancis': 2821, u'kelipetnya': 1696, u'menhitung': 2228, u'nyebahi': 2526, u'laennya': 1930, u'daer': 701, u'responnya': 2967, u'balesanya': 220, u'too': 3655, u'jambi': 1505, u'gegara': 1213, u'aamiinn': 5, u'abrik': 9, u'lp11595345sg': 2053, u'pakeg': 2604, u'otomatis': 2580, u'diperhatiin': 850, u'bbrp': 287, u'sintang': 3278, u'paket': 2605, u'nahh': 2362, u'dwiputra': 986, u'skrng': 3300, u'palsu': 2619, u'gerak': 1224, u'ry903907103cn': 3068, u'pdahal': 2661, u'doang': 927, u'sulawesi': 3417, u'trek': 3681, u'rokok': 3011, u'selisih': 3187, u'kampang': 1627, u'bjonegoro': 405, u'jaring': 1515, u'betulin': 367, u'ktr': 1895, u'lembang': 1990, u'besi': 361, u'trakhir': 3671, u'doong': 941, u'cengkareng': 571, u'begini': 304, u'ngomongnya': 2457, u'timbang': 3611, u'dlm': 916, u'masyarakat': 2176, u'deprok': 773, u'lba': 1976, u'manner': 2144, u'saputra': 3120, u'lbh': 1977, u'penyok': 2700, u'ray': 2912, u'ilang': 1413, u'klian': 1787, u'hankam': 1311, u'sampul': 3106, u'kaya': 1664, u'bojong': 439, u'kermh': 1731, u'operasi': 2568, u'komplit': 1836, u'pdhl': 2665, u'lumpur': 2065, u'desember': 779, u'kayu': 1666, u'miminnya': 2262, u'ru10567378nl': 3041, u'diwebsite': 904, u'trnyta': 3692, u'cj16705816us': 616, u'sendiri': 3203, u'tanyain': 3493, u'rr2746184de': 3032, u'regular': 2933, u'germany': 1227, u'bsk': 489, u'bsd': 488, u'callcenter': 539, u'gmana': 1253, u'bsa': 487, u'colomadu': 637, u'perancis': 2702, u'dok': 932, u'biwan': 403, u'kecwa': 1683, u'doa': 926, u'kosmetik': 1862, u'nihh': 2465, u'payakumbuh': 2656, u'maju': 2096, u'mpds391611467807': 2325, u'mampir': 2131, u'yank': 3899, u'gambar': 1185, u'larang': 1965, u'pkt': 2760, u'karna': 1647, u'tempuh': 3549, u'tbtb': 3511, u'sleman': 3306, u'skr': 3297, u'ngecek': 2423, u'nang': 2368, u'pkd': 2754, u'pke': 2755, u'hampir14': 1307, u'baik': 210, u'next': 2397, u'udh': 3755, u'pkl': 2759, u'make': 2109, u'menu': 2238, u'mnrt': 2300, u'boleh': 442, u'hrs': 1381, u'konfirm': 1840, u'sangat': 3111, u'pelang': 2675, u'hri': 1380, u'kali': 1616, u'badak': 198, u'capek': 551, u'pelann': 2676, u'hra': 1379, u'figuranya': 1136, u'dn': 921, u'mulai': 2345, u'distribusi': 876, u'dm': 918, u'bohong': 437, u'dh': 792, u'di': 795, u'dg': 788, u'mmbrikan': 2290, u'stop': 3398, u'dc': 738, u'yuniar': 3916, u'da': 698, u'pelayananya': 2679, u'amazon': 99, u'prangko': 2822, u'bajing': 211, u'report': 2951, u'kalo': 1621, u'dr': 949, u'ds': 958, u'dp': 945, u'dasar': 725, u'emg': 1079, u'buah': 494, u'bas': 275, u'dipertanggungjawabkan': 851, u'ditilep': 884, u'musti': 2352, u'bag': 199, u'bad': 197, u'colek': 635, u'fokus': 1144, u'ems': 1083, u'buat': 496, u'bal': 214, u'cj4728760us': 617, u'santun': 3118, u'rc1336561my': 2920, u'habis': 1282, u'tasik': 3504, u'ybs': 3902, u'muncul': 2347, u'etik': 1108, u'bagai': 200, u'enggak': 1089, u'result': 2974, u'rg81690576cn': 2985, u'sakti': 3080, u'periksa': 2710, u'untk': 3783, u'awas': 187, u'payah': 2655, u'konon': 1842, u'atur': 183, u'bertnya': 358, u'lain': 1938, u'hallow': 1299, u'managaskar': 2135, u'mud': 2340, u'rx01467633jp': 3056, u'timur': 3615, u'sedang': 3161, u'tindak': 3616, u'ciledug': 598, u'atuh': 182, u'hasilanya': 1327, u'awal': 186, u'sanasini': 3109, u'lamar': 1946, u'tololrir': 3648, u'wb': 3850, u'wa': 3828, u'hai': 1292, u'lx085617id': 2073, u'lupa': 2066, u'boss': 450, u'ber': 335, u'wu': 3886, u'loading': 2027, u'mlehoy': 2288, u'aktif': 63, u'prayforlombok': 2823, u'laman': 1945, u'nomernya': 2479, u'coy': 657, u'country': 655, u'ortu': 2579, u'rs0799409gb': 3036, u'games': 1188, u'resending': 2955, u'rx0194355jp': 3058, u'aftership': 38, u'viralkan': 3822, u'kodepos': 1812, u'bijaksana': 383, u'ptposindonesia': 2861, u'skill': 3295, u'smpai': 3322, u'terang': 3563, u'tong': 3654, u'tanggung': 3486, u'jaya': 1527, u'dbdgkn': 736, u'dikirimkn': 835, u'jambar': 1504, u'puluh': 2873, u'bikin': 385, u'perintah': 2711, u'billing': 389, u'menuggu': 2239, u'sal': 3082, u'robertha': 3009, u'been': 303, u'selong': 3190, u'ditmbakan': 889, u'revolusi': 2980, u'komestik': 1819, u'tadi': 3454, u'ancurr': 113, u'website': 3855, u'semprot': 3199, u'uc4946784cn': 3748, u'uh01358360us': 3759, u'apartemen': 142, u'infopos': 1433, u'senang': 3202, u'skali': 3290, u'tanggepannya': 3482, u'lebih': 1983, u'selip': 3186, u'input': 1440, u'estimasi': 1105, u'sebel': 3156, u'sembarang': 3194, u'kota': 1865, u'nyaman': 2512, u'mnanykan': 2294, u'ey10339345kr': 1118, u'tang': 3475, u'aman': 94, u'air': 49, u'priok': 2831, u'wkkwk': 3872, u'slh': 3307, u'tany': 3491, u'ternate': 3572, u'lahh': 1936, u'servis': 3232, u'bantuin': 255, u'soalny': 3337, u'lebaran': 1981, u'iy': 1477, u'usps': 3806, u'cont': 646, u'duit': 973, u'doha': 931, u'is': 1463, u'sndiri': 3330, u'it': 1469, u'sempet': 3198, u'palangkaraya': 2612, u'shame': 3238, u'upaya': 3790, u'karyawan': 1651, u'efisiensi': 1015, u'in': 1418, u'udah': 3753, u'id': 1401, u'setia': 3235, u'wonosobo': 3880, u'dijakarta': 828, u'dhl': 794, u'kualitas': 1899, u'ngilang': 2451, u'maki': 2110, u'kompak': 1824, u'tebu': 3518, u'yuni': 3915, u'hahah': 1290, u'trackingnya': 3665, u'galur': 1183, u'rupiah': 3051, u'plin': 2771, u'nih': 2464, u'adl': 26, u'rm580078005jp': 3004, u'soal': 3335, u'kmrn': 1800, u'yakin': 3898, u'bentuk': 334, u'angkat': 122, u'merespon': 2244, u'keliling': 1695, u'nasib': 2374, u'pekan': 2671, u'kie': 1755, u'klik': 1788, u'webny': 3853, u'dimintain': 843, u'thx': 3597, u'jaksel': 1496, u'komplin': 1835, u'min': 2263, u'uc68491047cn': 3749, u'thn': 3595, u'contact': 647, u'the': 3592, u'beacukai': 294, u'menggunakakn': 2224, u'gondol': 1261, u'just': 1588, u'bacain': 195, u'kedetect': 1684, u'mending': 2218, u'unfair': 3773, u'gituu': 1247, u'sangan': 3110, u'via': 3817, u'thanks': 3589, u'human': 1394, u'telor': 3537, u'dbntu': 737, u'sppbmcp': 3368, u'micin': 2257, u'crewet': 671, u'mksd': 2282, u'institusi': 1445, u'anter': 130, u'denpasarambon': 767, u'rampok': 2896, u'bnr': 430, u'royal': 3013, u'hay': 1330, u'anjir': 125, u'logika': 2029, u'massa': 2172, u'whatsapp': 3865, u'gang': 1191, u'gaada': 1166, u'alur': 92, u'brt': 481, u'maya': 2187, u'gadibalas': 1174, u'brs': 480, u'ry9303859cn': 3070, u'skalian': 3291, u'arab': 151, u'luber': 2061, u'okesip': 2549, u'cape': 550, u'arah': 152, u'ekonomis': 1058, u'pencerahanya': 2690, u'nyampe': 2515, u'rahmad': 2893, u'miskom': 2277, u'sering': 3223, u'bpk': 456, u'manual': 2149, u'gada': 1170, u'jika': 1551, u'posindonesia': 2805, u'bpp': 458, u'rh083831539tr': 2988, u'komplain': 1828, u'sederhana': 3162, u'alami': 72, u'alamt': 73, u'pejanggik': 2670, u'blibli': 414, u'ole': 2554, u'ngendap': 2434, u'acak': 11, u'boro': 446, u'malaysia': 2124, u'rimba': 2994, u'dopastikan': 942, u'invoice': 1457, u'dear': 739, u'lp101556340sg': 2044, u'tolonf': 3649, u'tolong': 3650, u'mar': 2152, u'disruh': 873, u'adpis': 31, u'martadinata': 2161, u'for': 1150, u'pemberitauan': 2683, u'la11861678us': 1923, u'masang': 2167, u'ciri': 612, u'percaya': 2704, u'miris': 2274, u'bola': 440, u'berharihari': 346, u'kabar': 1595, u'pls': 2773, u'mirip': 2273, u'anatara': 110, u'arjowinagun': 155, u'semarang': 3193, u'barcode': 267, u'bangun': 239, u'bgaimana': 369, u'buru': 515, u'ditangerang': 880, u'post': 2813, u'ditracking': 892, u'goranggareng': 1264, u'luar': 2059, u'lgsg': 2003, u'taput': 3495, u'saran': 3121, u'bukti': 504, u'datng': 732, u'kurang': 1910, u'mpds312533954691': 2320, u'langgan': 1957, u'produk': 2839, u'luah': 2058, u'obu': 2538, u'mngmbil': 2299, u'ea9459396hk': 993, u'buruburu': 516, u'lahir': 1937, u'dadak': 700, u'sok': 3347, u'camat': 540, u'mba': 2188, u'gaperlu': 1197, u'down': 944, u'sop': 3358, u'batu': 283, u'dnk': 924, u'karanganyar': 1643, u'muak': 2337, u'smnggu': 3318, u'jarak': 1513, u'olahraga': 2553, u'hallo': 1298, u'nganter': 2409, u'wah': 3831, u'suruh': 3435, u'dewi': 787, u'support': 3428, u'cc0658857jp': 561, u'awb': 188, u'stuck': 3404, u'gadiantar': 1173, u'lagi': 1931, u'lp100546791sg': 2043, u'sragen': 3374, u'gin': 1242, u'gim': 1237, u'was': 3847, u'ramah': 2895, u'pake': 2603, u'trus': 3698, u'lngsung': 2024, u'promonya': 2850, u'tinta': 3620, u'truk': 3697, u'piye': 2749, u'mkasih': 2279, u'pmblian': 2778, u'beri': 348, u'unsuccessful': 3780, u'waduch': 3829, u'responding': 2966, u'banjar': 240, u'tengah': 3554, u'urgent': 3794, u'ditreking': 894, u'prdk': 2824, u'aneh': 118, u'dampak': 712, u'nginep': 2452, u'brubah': 483, u'lestari': 1997, u'songong': 3356, u'nanya': 2371, u'tolonh': 3651, u'positif': 2808, u'tengar': 3555, u'eg1136450kr': 1018, u'cacat': 535, u'kjadian': 1774, u'undang': 3769, u'petir': 2723, u'ngelayanin': 2430, u'haallow': 1281, u'kealmt': 1676, u'iyah': 1479, u'komen': 1817, u'check': 586, u'physical': 2731, u'nh': 2461, u'ni': 2462, u'siska': 3281, u'hilangg': 1354, u'depok': 770, u'no': 2474, u'na': 2358, u'pecahh': 2667, u'smuanya': 3328, u'deket': 750, u'sampe': 3098, u'assalamualaikum': 167, u'lampias': 1951, u'tik': 3607, u'warehouse': 3843, u'kemang': 1704, u'nr': 2494, u'nu': 2499, u'selasa': 3182, u'ekpress': 1060, u'ngarepnya': 2416, u'dianteranter': 799, u'lotim': 2037, u'update': 3791, u'kondisi': 1839, u'trouble': 3693, u'serta': 3226, u'lawu': 1969, u'hedeh': 1332, u'spy': 3373, u'pngrman': 2783, u'senior': 3208, u'mdps3759378146857': 2197, u'nebusnya': 2379, u'customerservice': 692, u'waro': 3845, u'operatorny': 2570, u'pecah': 2666, u'sdah': 3148, u'cantumin': 548, u'time': 3613, u'cikutra': 596, u'asli': 166, u'sepeda': 3212, u'rr03916685id': 3021, u'lbih': 1978, u'perush': 2720, u'brgnya': 471, u'semboyan': 3195, u'global': 1250, u'ngasal': 2418, u'sampainyaa': 3094, u'sumatera': 3421, u'sekaligus': 3174, u'mampet': 2130, u'def7449830846': 742, u'kusut': 1916, u'jilbab': 1552, u'mksdnya': 2283, u'kadang': 1601, u'sejak': 3172, u'eg2041607kr': 1027, u'hrsnya': 1382, u'zona': 3920, u'bersih': 356, u'standar': 3383, u'responya': 2972, u'bangett': 233, u'ditrack': 891, u'charge': 583, u'janji': 1511, u'sttus': 3403, u'nores': 2483, u'utama': 3807, u'apaapa': 138, u'ingin': 1437, u'ceksortirdistribusi': 569, u'depan': 768, u'kece': 1679, u'smpek': 3324, u'bermingguminggu': 354, u'jdi': 1530, u'dkirim': 910, u'nomer': 2478, u'jarang': 1514, u'gua': 1273, u'rusak': 3053, u'nyasar': 2523, u'staples': 3386, u'gue': 1276, u'level': 1998, u'sawangan': 3131, u'maha': 2090, u'bukit': 503, u'dia': 796, u'ea18584418cn': 989, u'item': 1471, u'diy': 905, u'edar': 1001, u'team': 3516, u'trlebih': 3686, u'nelpon': 2387, u'fotokopi': 1155, u'sulit': 3418, u'malu': 2128, u'ee134665775id': 1004, u'antri': 132, u'bravo': 465, u'eg71871508kr': 1048, u'tumpah': 3719, u'pikir': 2735, u'poslentengagung': 2811, u'alloohh': 85, u'dibenerin': 803, u'ptgs': 2860, u'ngubah': 2459, u'pengalamanpertama': 2691, u'bales': 219, u'dapat': 717, u'mu': 2336, u'tanjungpinang': 3490, u'tarik': 3499, u'bc': 289, u'papa': 2631, u'teman': 3544, u'direktur': 858, u'pngriman': 2782, u'gadang': 1171, u'matras': 2181, u'reply': 2949, u'krna': 1884, u'lp11653558sg': 2054, u'gilee': 1235, u'mudah': 2341, u'saking': 3079, u'keluar': 1699, u'situbondo': 3285, u'ratih': 2908, u'denda': 761, u'kamu': 1631, u'address': 22, u'oiya': 2547, u'btuh': 491, u'box': 452, u'boy': 454, u'kerjasama': 1729, u'medan': 2199, u'bos': 447, u'bot': 451, u'bpom': 457, u'hilang': 1353, u'marahmarah': 2155, u'lokal': 2031, u'afdasfgaga': 35, u'ua657846134us': 3742, u'ginih': 1243, u'toraja': 3656, u'disms': 872, u'transparan': 3676, u'pketan': 2757, u'cerah': 576, u'knalpot': 1803, u'gajadi': 1178, u'gubris': 1274, u'bs': 486, u'mdhan': 2195, u'kayak': 1665, u'pilihbkilat': 2737, u'gendong': 1221, u'sebut': 3159, u'sahabat': 3075, u'pihak': 2734, u'nuhun': 2501, u'gambut': 1187, u'lampung': 1953, u'ayo': 190, u'akibat': 61, u'daritadi': 723, u'sake': 3078, u'super': 3426, u'senen': 3204, u'scan': 3145, u'ekspor': 1063, u'jgnkan': 1550, u'live': 2016, u'going': 1260, u'msk': 2335, u'iphone': 1461, u'msh': 2333, u'saku': 3081, u'msa': 2332, u'tingkat': 3618, u'tunda': 3721, u'rencana': 2945, u'telepon': 3533, u'ditanggapin': 881, u'slama': 3303, u'malay': 2123, u'ranji': 2900, u'nongol': 2482, u'rr046571463id': 3025, u'didik': 815, u'malam': 2119, u'ktnya': 1894, u'malah': 2118, u'kampus': 1630, u'ekspetasi': 1062, u'slogan': 3310, u'wartaekonomi': 3846, u'amarah': 96, u'dthan': 965, u'tugas': 3709, u'eg11987kr': 1019, u'cap': 549, u'ranah': 2898, u'rb': 2914, u'salur': 3087, u'menegecek': 2220, u'ciawibogor': 591, u'cab': 532, u'tambun': 3468, u'ibu': 1399, u'kasar': 1652, u'kyk': 1919, u'claim': 622, u'figura': 1135, u'ribu': 2991, u'kya': 1918, u'spt': 3370, u'brang': 461, u'sample': 3105, u'akhirny': 60, u'muas': 2339, u'spm': 3367, u'posind': 2803, u'mungkin': 2349, u'serang': 3217, u'plg': 2770, u'rr049413705id': 3028, u'papua': 2633, u'iblis': 1398, u'monitoring': 2311, u'gelagat': 1215, u'poslaju': 2810, u'ping': 2741, u'justru': 1589, u'raya': 2913, u'keluh': 1702, u'ru1056248nl': 3039, u'selalu': 3180, u'optimal': 2573, u'sblh': 3138, u'sblm': 3139, u'brcode': 467, u'map': 2150, u'mas': 2162, u'bawa': 284, u'mau': 2183, u'bantuanny': 252, u'marah104677360208513': 2154, u'sna': 3329, u'may': 2186, u'max': 2185, u'maa': 2075, u'aov': 135, u'skg': 3294, u'nerima': 2394, u'koreanya': 1856, u'maf': 2084, u'date': 729, u'mah': 2089, u'atas': 172, u'data': 726, u'atau': 174, u'kembang': 1710, u'sy': 3444, u'haloo': 1302, u'lampir': 1952, u'amuse': 108, u'sp': 3365, u'favorit': 1126, u'verifikasi': 3814, u'kel': 1689, u'sk': 3289, u'sj': 3287, u'ngecewain': 2425, u'so': 3334, u'deposit': 772, u'sm': 3313, u'percuma': 2705, u'servernya': 3229, u'adek': 23, u'kurangya': 1911, u'travel': 3678, u'sd': 3147, u'refund': 2929, u'lsg': 2056, u'makash': 2101, u'waduh': 3830, u'ttp': 3703, u'cuth': 694, u'wajar': 3834, u'sinkron': 3277, u'disdukcapil': 867, u'wajah': 3833, u'kabur': 1598, u'dikeluarin': 833, u'balikpapan': 224, u'ttg': 3702, u'terkirimx': 3570, u'berangkat': 336, u'nympe': 2532, u'thank': 3588, u'ongkos': 2563, u'tuli': 3715, u'maklum': 2112, u'dijwb': 830, u'berubahubah': 359, u'gtu': 1272, u'empat': 1082, u'mail': 2093, u'main': 2094, u'ahh': 48, u'prosedur': 2851, u'mrusak': 2330, u'diupdate': 899, u'la81391004us': 1925, u'noh': 2476, u'pasifik': 2645, u'ea96175580hk': 994, u'sabar': 3073, u'temen': 3546, u'lembut': 1991, u'records': 2926, u'lp0106713hk': 2040, u'dpt': 948, u'not': 2486, u'nov': 2491, u'kka': 1776, u'halo': 1301, u'nama': 2365, u'ry0955810cn': 3062, u'alternatif': 91, u'tanda': 3473, u'medsosnya': 2202, u'komplaindan': 1829, u'tera': 3561, u'berbagaimacam': 341, u'biaya': 380, u'viconya': 3818, u'oya': 2586, u'ttrack': 3704, u'alesan': 79, u'dikit': 836, u'mosok': 2314, u'eh': 1052, u'eg': 1016, u'bongkar': 445, u'padhl': 2596, u'aliexpress': 83, u'replay': 2948, u'samping': 3104, u'paling': 2616, u'jasa': 1516, u'ep': 1093, u'jatim': 1519, u'yak': 3897, u'album': 78, u'nelponin': 2388, u'seperti': 3213, u'maksimal': 2115, u'jogja': 1565, u'usaha': 3801, u'bnyak': 432, u'sidang': 3258, u'alhasil': 82, u'bls': 424, u'tanggap': 3480, u'eg58485468jp': 1036, u'stngah': 3397, u'autoreply': 185, u'palinggam': 2617, u'rl798576cn': 3001, u'internet': 1453, u'nofik': 2475, u'palangka': 2611, u'blg': 413, u'dusun': 982, u'cc765318185fr': 563, u'rln': 3002, u'indonesiasiaga': 1426, u'judes': 1577, u'sholat': 3243, u'terakir': 3562, u'barat': 266, u'hulu': 1393, u'kolaka': 1816, u'cari': 555, u'kirain': 1761, u'kawatir': 1663, u'profesional': 2841, u'ajar': 54, u'org': 2577, u'sampesampe': 3102, u'cara': 552, u'def91183305433': 745, u'card': 553, u'entah': 1090, u'training': 3669, u'pulang': 2870, u'standby': 3385, u'tigaraksa': 3606, u'wanita': 3841, u'yuk': 3914, u'qo': 2883, u'lagu': 1933, u'jwb': 1591, u'amanah': 95, u'ayokebank': 191, u'first': 1139, u'oper': 2567, u'vomplain': 3824, u'kuat': 1900, u'menginput': 2225, u'rr04799595id': 3027, u'yaelah': 3893, u'tmpel': 3636, u'teluk': 3541, u'skrg': 3299, u'sebentar': 3157, u'fast': 1124, u'mpcyogyakarta': 2319, u'message': 2247, u'sbybatam': 3142, u'open': 2566, u'tomorrow': 3653, u'rs916649ch': 3038, u'manfaatin': 2140, u'em410543815jp': 1073, u'plastik': 2764, u'ngirim': 2453, u'zamanpelayanan': 3919, u'fiere': 1134, u'sumpah': 3424, u'utuh': 3810, u'mengunakan': 2227, u'ukm': 3763, u'juga': 1579, u'hujan': 1391, u'crosscheck': 672, u'kuntit': 1909, u'simpul': 3270, u'kirman': 1771, u'kosannya': 1861, u'buta': 521, u'sihh': 3262, u'way': 3849, u'hub': 1386, u'sangkut': 3116, u'duluan': 976, u'alam': 70, u'becuk': 300, u'blacklist': 411, u'released': 2940, u'alas': 74, u'alat': 77, u'duuh': 983, u'becus': 301, u'gamasalah': 1184, u'gabisa': 1167, u'copy': 650, u'rela': 2938, u'laah': 1926, u'sanggup': 3114, u'smpe': 3323, u'smpi': 3325, u'stlh': 3396, u'smpn': 3326, u'cuekin': 678, u'barcode145535105': 268, u'ry71053805cn': 3066, u'and': 114, u'ane': 117, u'register': 2931, u'pra': 2819, u'san': 3107, u'cuit': 680, u'pekanbaru': 2672, u'pangkat': 2624, u'tuntut': 3725, u'faktor': 1121, u'say': 3132, u'slah': 3301, u'deliv': 753, u'trmksih': 3690, u'hukum': 1392, u'canggih': 545, u'any': 134, u'brdasar': 468, u'penuh': 2699, u'berkalikali': 352, u'opsi': 2572, u'ngelapor': 2429, u'form': 1151, u'maupun': 2184, u'efficient': 1013, u'kan': 1632, u'gimna': 1241, u'dkat': 908, u'lp1124774sg': 2051, u'note': 2488, u'nota': 2487, u'airmail': 50, u'online': 2564, u'heol': 1345, u'adaptasi': 20, u'printer': 2830, u'trace': 3661, u'normal': 2484, u'rr030106107id': 3017, u'urgh': 3795, u'baris': 272, u'surh': 3432, u'suri': 3433, u'gesit': 1229, u'suru': 3434, u'ee161610391id': 1005, u'brng': 475, u'cleared': 623, u'beneran': 326, u'kesal': 1734, u'kesan': 1735, u'pntsn': 2786, u'rada': 2890, u'kilat': 1757, u'makasar': 2100, u'jakarta': 1490, u'wilayah': 3870, u'bangil': 235, u'cp168575181kr': 663, u'ulang': 3765, u'bulan': 508, u'bulak': 507, u'mrk': 2329, u'professional': 2843, u'kilah': 1756, u'tetangga': 3578, u'shop': 3245, u'rating': 2909, u'nunggu': 2505, u'german': 1226, u'hadiah': 1285, u'permisi': 2714, u'mince': 2265, u'hellow': 1339, u'istirahat': 1467, u'berita': 349, u'tks': 3626, u'corner': 651, u'sekrang': 3178, u'help': 1340, u'bisabisa': 399, u'slow': 3311, u'recomended': 2924, u'bingitz': 392, u'lgkp': 2002, u'kilometer': 1758, u'radioelshinta': 2891, u'daan': 699, u'nganternya': 2411, u'khawatir': 1752, u'ua4139738us': 3741, u'detik': 784, u'rc70409701sg': 2921, u'detil': 786, u'masak': 2164, u'sst': 3380, u'juara': 1575, u'rr03088057id': 3018, u'kesanakemari': 1737, u'masal': 2165, u'lagilagi': 1932, u'cannot': 546, u'nelp': 2386, u'bunyi': 514, u'hormat': 1374, u'ngobrol': 2455, u'drkmren': 956, u'gel': 1214, u'bekas': 308, u'lp00897300hk': 2038, u'emirat': 1080, u'bubar': 497, u'garagara': 1200, u'dukung': 974, u'npwp': 2493, u'email': 1075, u'blng': 419, u'playstore': 2767, u'pelalubeaan': 2673, u'ec41545053sg': 998, u'hampir': 1306, u'kirimin': 1767, u'cp93614439hk': 664, u'nyangkut': 2521, u'nembus': 2390, u'kirimanya': 1766, u'pengaruh': 2693, u'berhatihati': 347, u'cipinang': 608, u'gambir': 1186, u'tlng': 3630, u'rmh': 3006, u'soetta': 3344, u'bangsat': 238, u'camping': 542, u'sosial': 3362, u'psat': 2857, u'nyambung': 2513, u'outsourcing': 2583, u'rupa': 3050, u'label': 1928, u'soetts': 3345, u'seremm': 3221, u'landline': 1956, u'yth': 3913, u'dirut': 864, u'herbal': 1347, u'import': 1417, u'urusin': 3797, u'wuss': 3888, u'tega': 3520, u'lp10939849sg': 2048, u'sngat': 3332, u'nggilani': 2449, u'kristal': 1880, u'komplaint': 1830, u'jp': 1570, u'supermarket': 3427, u'js': 1571, u'mutlak': 2354, u'memprosesk': 2213, u'tuj': 3711, u'dimasukkin': 841, u'jk': 1555, u'paham': 2598, u'klanjutan': 1780, u'jg': 1547, u'come': 638, u'ja': 1482, u'jb': 1528, u'shingga': 3241, u'contoh': 648, u'libat': 2009, u'menayakan': 2215, u'vua': 3827, u'ruang': 3044, u'ganti': 1193, u'dicancel': 810, u'direject': 857, u'mana': 2133, u'mang': 2141, u'lazadahebat': 1975, u'lipat': 2014, u'serikat': 3222, u'meja': 2205, u'brati': 464, u'jatiasih': 1518, u'twit': 3734, u'oknum': 2550, u'pos': 2799, u'jd': 1529, u'tua': 3707, u'cancel': 543, u'pod': 2789, u'antardan': 129, u'akses': 62, u'jwbnya': 1592, u'bolak': 441, u'susun': 3441, u'tabel': 3453, u'folow': 1149, u'mreka': 2328, u'mengeck': 2221, u'sehat': 3171, u'busuk': 519, u'susilo': 3439, u'cirebon': 611, u'layang': 1973, u'jadwal': 1485, u'hrus': 1383, u'sambung': 3091, u'arti': 158, u'followup': 1147, u'tungguin': 3723, u'ditelfon': 882, u'ongkir': 2561, u'yogya': 3908, u'khusus': 1753, u'takut': 3464, u'belit': 316, u'plyanan': 2775, u'kaos': 1639, u'jeruklegi': 1545, u'patok': 2654, u'dkp': 911, u'bagaimana': 201, u'sayang': 3135, u'negara': 2380, u'dkantor': 907, u'trsebut': 3695, u'lucu': 2062, u'nila': 2467, u'kumpul': 1906, u'ucap': 3750, u'tambah': 3467, u'memang': 2211, u'ingat': 1436, u'memble': 2212, u'rma13169': 3005, u'dripada': 955, u'kasus': 1657, u'good': 1262, u'broh': 477, u'return': 2978, u'gapapa': 1196, u'bgini': 370, u'makdudnya': 2108, u'mpc': 2316, u'dikenain': 834, u'pas': 2641, u'sedih': 3164, u'april': 148, u'balik': 222, u'media': 2200, u'sama': 3088, u'minahasa': 2264, u'kejar': 1686, u'sedia': 3163, u'jl': 1558, u'ya': 3890, u'bijak': 382, u'rg949873578cn': 2987, u'inquiry': 1441, u'pungut': 2875, u'bagi': 202, u'segitu': 3169, u'status': 3390, u'pelita': 2680, u'etd': 1107, u'screenshot': 3146, u'singapore': 3272, u'dngn': 923, u'tayan': 3509, u'ru836814468cn': 3043, u'em058537jp': 1070, u'plemburan': 2769, u'cheers': 588, u'ngawi': 2420, u'tolak': 3644, u'yg': 3904, u'srvcs': 3379, u'um66971396us': 3766, u'tsb': 3700, u'tracking': 3664, u'def8755807474': 744, u'yha': 3905, u'pakaipos': 2602, u'sayaa': 3134, u'ndak': 2376, u'plis': 2772, u'gilir': 1236, u'uji': 3760, u'cium': 614, u'eg6434275jp': 1043, u'pkknny': 2758, u'pemberitahuan': 2682, u'akurat': 68, u'compang': 639, u'ne': 2378, u'gda': 1207, u'halang': 1296, u'resi': 2957, u'jauh': 1522, u'hadeh': 1284, u'laminating': 1950, u'sertifikat': 3227, u'nemberikan': 2389, u'ketimbang': 1746, u'cy675035733de': 696, u'ogah': 2544, u'tinggal': 3617, u'jakartaaceh': 1491, u'parah': 2634, u'kntr': 1809, u'blog': 420, u'ngadu': 2401, u'kiri': 1763, u'sofifi': 3346, u'treatment': 3680, u'ngerti': 2443, u'rilis': 2992, u'kesini': 1740, u'skrang': 3298, u'blok': 421, u'cobak': 631, u'eg2406745kr': 1030, u'tobat': 3641, u'panjang': 2626, u'kursi': 1915, u'ama': 93, u'eb0082949kr': 997, u'bksnya': 408, u'digital': 823, u'delvery': 758, u'mesti': 2249, u'kisar': 1772, u'early': 995, u'darj': 724, u'klasik': 1783, u'katany': 1659, u'ngelempar': 2431, u'kulu': 1905, u'gitu': 1245, u'kesana': 1736, u'harap': 1316, u'server': 3228, u'hirau': 1358, u'servicenya': 3231, u'posindonesiahebat': 2806, u'atatus': 173, u'sptnya': 3372, u'nosi': 2485, u'hapus': 1315, u'tenggara': 3556, u'masukin': 2174, u'eh001733736sg': 1053, u'sih': 3261, u'rs374383699gb': 3037, u'komennya': 1818, u'judul': 1578, u'konfirmasi': 1841, u'haripelanggannasional': 1321, u'difollow': 820, u'mpds3744934166576': 2323, u'nolakin': 2477, u'stiba': 3395, u'dobel': 929, u'gorontalo': 1265, u'viral': 3821, u'jgn': 1549, u'benta': 330, u'sbypasuruan': 3144, u'kmn': 1795, u'cuman': 685, u'kompetitor': 1827, u'sudah': 3411, u'jakut': 1498, u'provider': 2853, u'pemdataan': 2686, u'pasarbaru': 2644, u'nganterin': 2410, u'ktika': 1892, u'tdk': 3515, u'tdi': 3514, u'nmr': 2473, u'dianterin': 800, u'asap': 163, u'mhon': 2256, u'tlpn': 3633, u'rekam': 2935, u'ngeri': 2441, u'nyediain': 2529, u'agentnya': 43, u'gagal': 1176, u'nmn': 2472, u'asal': 162, u'cj1610046us': 615, u'asai': 161, u'asah': 160, u'on': 2559, u'om': 2557, u'ol': 2552, u'jelang': 1533, u'oi': 2546, u'terupdate': 3576, u'of': 2540, u'srh': 3376, u'mengeluhka': 2222, u'rapi': 2903, u'ru10563951nl': 3040, u'henti': 1344, u'mantap': 2147, u'srt': 3378, u'alesannya': 80, u'or': 2574, u'maintainance': 2095, u'bjb': 404, u'inbok': 1419, u'kerdusnya': 1723, u'makas': 2099, u'image': 1415, u'wahai': 3832, u'gedor': 1211, u'gara': 1199, u'rf605414805sg': 2982, u'landa': 1955, u'masalah': 2166, u'makan': 2097, u'eg59745kr': 1037, u'tetep': 3580, u'mdn': 2196, u'besar': 360, u'santai': 3117, u'marlina': 2160, u'piring': 2745, u'loa': 2026, u'teduh': 3519, u'area': 153, u'satusatu': 3128, u'pokok': 2790, u'loh': 2030, u'sesuai': 3233, u'hey': 1348, u'eg700665945kr': 1045, u'lom': 2034, u'pluginnya': 2774, u'dititipin': 886, u'lot': 2036, u'cukai': 682, u'hem': 1341, u'bagus': 204, u'beres': 344, u'ehh': 1054, u'jabodetabek': 1483, u'from': 1160, u'costumers': 653, u'lainy': 1939, u'beda': 302, u'ckckckck': 619, u'numbernya': 2504, u'kirin': 1769, u'gatau': 1203, u'husus': 1395, u'gaplek': 1198, u'with': 3871, u'ngadatnya': 2400, u'packingannya': 2591, u'tumben': 3718, u'tangsel': 3488, u'pngirimannya': 2780, u'puasa': 2864, u'pengirimin': 2695, u'nuampe': 2500, u'samperin': 3101, u'bening': 329, u'ragu': 2892, u'agust': 45, u'paketmenumpukwargacarisendirikirimandikantorposmataram': 2608, u'lp10778116sg': 2046, u'tutup': 3729, u'tahap': 3458, u'ac': 10, u'aceh': 14, u'sampaisampai': 3095, u'ad': 17, u'sangatsangag': 3112, u'tekan': 3524, u'ah': 47, u'ak': 57, u'pantau': 2628, u'pantas': 2627, u'laut': 1968, u'an': 109, u'aq': 149, u'ap': 136, u'lgi': 2001, u'at': 171, u'gmna': 1257, u'rr188179088my': 3031, u'tahan': 3457, u'again': 40, u'bodoh': 434, u'syarat': 3446, u'besol': 363, u'besok': 362, u'insurance': 1446, u'field': 1133, u'valid': 3812, u'you': 3911, u'kntor': 1807, u'jakpus': 1495, u'sengaja': 3206, u'lp10987648sg': 2049, u'komplein': 1831, u'diresponnya': 862, u'bapak': 259, u'seprti': 3214, u'jelasin': 1535, u'wenang': 3859, u'pinang': 2739, u'ilay': 1414, u'track': 3663, u'doken': 933, u'agt': 44, u'remote': 2943, u'rr': 3015, u'masa': 2163, u'cpd': 667, u'mash': 2169, u'eb005814188kr': 996, u'ej5641076au': 1056, u'misal': 2275, u'mimik': 2260, u'cpt': 669, u'mimin': 2261, u'liat': 2008, u'liar': 2007, u'timpa': 3614, u'plynan': 2776, u'dellivery': 757, u'abis': 8, u'curi': 687, u'mnt': 2301, u'ee04715167my': 1003, u'month': 2312, u'gt': 1271, u'dilakban': 839, u'cuka': 681, u'follow': 1146, u'kampung': 1629, u'juta': 1590, u'mpds368847461175': 2321, u'apartment': 143, u're': 2922, u'tv': 3731, u'tt': 3701, u'tu': 3706, u'tp': 3658, u'tq': 3660, u'dantar': 716, u'to': 3640, u'program': 2847, u'tj': 3624, u'tk': 3625, u'pemberitauannya': 2684, u'tg': 3582, u'sosok': 3364, u'otw': 2581, u'tb': 3510, u'webtrack': 3857, u'ra': 2887, u'case': 556, u'fax': 1127, u'mpe': 2326, u'iparcel': 1460, u'hemm': 1342, u'very': 3815, u'iyamin': 1480, u'efisien': 1014, u'sono': 3357, u'smg': 3316, u'worst': 3883, u'telefon': 3531, u'aplikasi': 145, u'sampak': 3097, u'jelek': 1536, u'ketuk': 1748, u'iur': 1475, u'syok': 3448, u'pkai': 2753, u'peyot': 2724, u'sampai': 3093, u'jurumudi': 1587, u'barangny': 264, u'kmana': 1792, u'makasiih': 2106, u't4': 3451, u'ge': 1208, u'gerangan': 1225, u'resah': 2954, u'gd': 1206, u'pbb': 2657, u'rinciannya': 2996, u'orang': 2575, u'consultant': 645, u'harga': 1317, u'rb4474848sg': 2918, u'samapai': 3089, u'beji': 307, u'dahsedih': 707, u'pegawai': 2668, u'es15937351kr': 1100, u'ketik': 1745, u'bngkus': 428, u'go': 1259, u'reputasi': 2953, u'sbenernya': 3136, u'rata': 2906, u'ter': 3560, u'detiknews': 785, u'pura': 2877, u'dian': 798, u'eg1838595kr': 1024, u'what': 3864, u'pasuruan': 2651, u'sub': 3408, u'slmt': 3308, u'waras': 3842, u'pempek': 2687, u'teledor': 3530, u'ngereject': 2439, u'guna': 1277, u'tanya': 3492, u'tggu': 3584, u'sus': 3436, u'publik': 2866, u'ntp': 2498, u'jangan': 1509, u'tampak': 3470, u'public': 2865, u'resolusi': 2963, u'swasta': 3442, u'hingga': 1357, u'full': 1162, u'bener': 325, u'jonan': 1568, u'unprofessional': 3777, u'mula': 2344, u'eg6867645jp': 1044, u'hours': 1376, u'bgtu': 374, u'tiap': 3600, u'november': 2492, u'kzl': 1921, u'mulu': 2346, u'muara': 2338, u'search': 3153, u'mandiri': 2138, u'keliru': 1697, u'lp110670100sg': 2050, u'airport': 51, u'tdak': 3513, u'gabung': 1169, u'pick': 2732, u'action': 15, u'ngrasa': 2458, u'byr': 530, u'buset': 518, u'olshop': 2555, u'pondok': 2793, u'enak': 1086, u'transit': 3675, u'cpet': 668, u'tikus': 3609, u'mentionan': 2235, u'buruk': 517, u'ngambil': 2405, u'gosh': 1266, u'diri': 863, u'komitmen': 1822, u'kendari': 1718, u'kalohilang': 1622, u'dgan': 789, u'cp95811310hk': 666, u'syukur': 3450, u'harikonsumennasional': 1320, u'banjarbr': 242, u'agustus': 46, u'ngetweet': 2446, u'followupnya': 1148, u'unsuccesfull': 3779, u'trmakasih': 3688, u'melegis': 2208, u'nyampesedih': 2519, u'almost': 86, u'brisi': 474, u'satpam': 3126, u'yahh': 3896, u'site': 3283, u'professionalnya': 2845, u'datang': 728, u'caca': 534, u'klarifikadi': 1781, u'inspeksi': 1442, u'livechat': 2017, u'document': 930, u'drpd': 957, u'ej2334739au': 1055, u'ditulistangan': 896, u'kelarin': 1693, u'des': 775, u'seblak': 3158, u'kli': 1786, u'histori': 1359, u'deh': 747, u'klu': 1791, u'iklan': 1410, u'lihat': 2011, u'diem': 817, u'semenjak': 3196, u'packingan': 2590, u'kmren': 1798, u'history': 1360, u'jemput': 1540, u'heran': 1346, u'seluruh': 3191, u'mnta': 2302, u'tahu': 3459, u'share': 3239, u'kalbar': 1615, u'states': 3388, u'smartphone': 3315, u'partner': 2640, u'sawah': 3130, u'pong': 2794, u'mn': 2293, u'cakung': 537, u'banding': 228, u'kecil': 1682, u'soeta': 3343, u'eg2078044kr': 1028, u'tangan': 3477, u'alasanpos': 75, u'responrespon': 2968, u'maps': 2151, u'ngantar': 2407, u'eg2509731kr': 1031, u'investigasi': 1456, u'malang': 2120, u'reguler': 2934, u'hopeless': 1373, u'ipos': 1462, u'fu': 1161, u'djwb': 906, u'bkn': 407, u'marah': 2153, u'maap': 2077, u'fb': 1128, u'marau': 2156, u'meketin': 2207, u'fi': 1132, u'bloom': 423, u'response': 2969, u'uang': 3743, u'folloup': 1145, u'susah': 3437, u'susak': 3438, u'makasihh': 2103, u'lha': 2004, u'lho': 2005, u'egp': 1051, u'bertanggungjawab': 357, u'pajak': 2599, u'cabang': 533, u'bastiong': 278, u'lancar': 1954, u'globegistics': 1251, u'ngejar': 2428, u'brada': 460, u'brarti': 463, u'diweb': 902, u'pa': 2587, u'catetan': 558, u'nanti': 2370, u'september': 3215, u'selatan': 3183, u'dwi': 985, u'attitude': 181, u'hell': 1337, u'dibalikin': 802, u'itu': 1474, u'tomohon': 3652, u'eror': 1096, u'kudus': 1902, u'maaf': 2076, u'solusiny': 3352, u'lokasi': 2032, u'kntorpos': 1808, u'inward': 1459, u'late': 1967, u'runah': 3049, u'bypass': 529, u'yi': 3906, u'belakang': 311, u'blitar': 416, u'kurirny': 1913, u'maling': 2127, u'eg64016933jp': 1042, u'pergi': 2707, u'males': 2126, u'ye': 3903, u'sarana': 3122, u'reture': 2977, u'timbun': 3612, u'oke': 2548, u'malem': 2125, u'complain': 640, u'pernah': 2716, u'bendahara': 324, u'balikin': 223, u'tanjung': 3489, u'kaset': 1653, u'gagas': 1177, u'sentani': 3209, u'kaca': 1599, u'eg95495kr': 1050, u'elegan': 1068, u'jejaknnya': 1532, u'soekarnohatta': 3342, u'amatir': 97, u'stayusnya': 3393, u'found': 1156, u'gebetan': 1209, u'ifi': 1403, u'klean': 1785, u'jonblang': 1569, u'vinylnya': 3820, u'fragile': 1157, u'mental': 2233, u'hari': 1319, u'beranta': 338, u'energy': 1087, u'connect': 644, u'benda': 323, u'ringan': 2998, u'smntra': 3319, u'ongkirnya': 2562, u'resiko': 2961, u'cipedes': 607, u'bima': 390, u'solved': 3354, u'pasrah': 2646, u'berehenti': 343, u'msih': 2334, u'shipment': 3242, u'alsannya': 90, u'ry90419167sg': 3069, u'offline': 2543, u'dunk': 978, u'rw973719407ch': 3055, u'balek': 218, u'akumulasi': 66, u'mksudnya': 2287, u'haduh': 1287, u'sby': 3141, u'buang': 495, u'asa': 159, u'sbg': 3137, u'basa': 276, u'mmg': 2291, u'thxs': 3598, u'basi': 277, u'ry69079306cn': 3065, u'koo': 1849, u'thread': 3596, u'mogot': 2307, u'direcognize': 855, u'maklumin': 2113, u'terrible': 3574, u'wlw': 3877, u'permai': 2713, u'pande': 2620, u'mahu': 2092, u'gnti': 1258, u'turah': 3726, u'misi': 2276, u'punya': 2876, u'number': 2503, u'dramaga': 952, u'tatar': 3506, u'utara': 3808, u'semalem': 3192, u'dong': 938, u'kapan': 1640, u'kantorpos10': 1636, u'donk': 940, u'krimn': 1879, u'ecommerce': 1000, u'mintain': 2271, u'kok': 1815, u'dishare': 869, u'jet': 1546, u'cekin': 568, u'niat': 2463, u'bkin': 406, u'makassar': 2107, u'kog': 1813, u'rr03675638id': 3019, u'neng': 2392, u'kop': 1851, u'kos': 1860, u'gpp': 1267, u'pngn': 2781, u'store': 3399, u'jem': 1537, u'jamin': 1506, u'pare': 2635, u'akal': 58, u'lp0443711kr': 2042, u'pcr': 2658, u'eg14471447kr': 1020, u'rekomendasi': 2936, u'hotel': 1375, u'rg791816308cn': 2983, u'direspon': 860, u'koq': 1852, u'part': 2638, u'lngkp': 2023, u'nyertain': 2531, u'emang': 1077, u'la1859163us': 1924, u'center': 572, u'gemes': 1219, u'boxnya': 453, u'mahal': 2091, u'hanya': 1312, u'dta': 960, u'dtg': 963, u'kini': 1759, u'kapok': 1641, u'renyek': 2947, u'str': 3400, u'bahkan': 209, u'knapa': 1804, u'cepet': 575, u'daha': 705, u'declare': 741, u'dana': 714, u'voucher': 3825, u'evaluasi': 1111, u'pukul': 2868, u'saya': 3133, u'rugi': 3046, u'balikpapannya': 225, u'oaket': 2537, u'tolerir': 3646, u'blak': 412, u'tegalbrebes': 3522, u'apakh': 141, u'ngalamin': 2403, u'eg4901415kr': 1035, u'kering': 1726, u'bhs': 376, u'karo': 1648, u'macam': 2079, u'brgkt': 470, u'disamperin': 866, u'puas': 2863, u'maksdnya': 2114, u'lin': 2012, u'simak': 3267, u'anjing': 124, u'internal': 1450, u'pasar': 2643, u'useless': 3803, u'dulu': 975, u'rusa': 3052, u'widiningtyas': 3869, u'kendal': 1716, u'kab': 1594, u'play': 2765, u'denpasar': 766, u'tepat': 3559, u'kak': 1608, u'gile': 1234, u'nyasarnya': 2524, u'bankbri': 245, u'quota': 2886, u'kam': 1625, u'nitip': 2470, u'bungkam': 512, u'plan': 2762, u'kau': 1661, u'rumah': 3048, u'bayar': 286, u'em410497546jp': 1072, u'opname': 2571, u'tempel': 3548, u'huhu': 1388, u'ka': 1593, u'kg': 1750, u'lebar': 1980, u'kk': 1775, u'puja': 2867, u'ko': 1810, u'kn': 1802, u'tpi': 3659, u'kl': 1777, u'kq': 1872, u'terimakasih': 3569, u'ej6041917jp': 1057, u'ku': 1897, u'kt': 1890, u'rakyat': 2894, u'dijogja': 829, u'pemuda': 2688, u'spti': 3371, u'ganggu': 1192, u'apabisa': 140, u'berfikir': 345, u'lambat': 1948, u'ngambang': 2404, u'biru': 397, u'trayek': 3679, u'birokrasi': 396, u'sapa': 3119, u'gerai': 1223, u'shopee': 3246, u'solanya': 3348, u'kabarin': 1596, u'pdhal': 2664, u'nanggala': 2369, u'bukubergerak': 506, u'urus': 3796, u'surabaya': 3429, u'eg605561940jp': 1038, u'wasiat': 3848, u'kado': 1603, u'telpon': 3540, u'bisnis': 401, u'srobot': 3377, u'etika': 1109, u'slalu': 3302, u'langkah': 1958, u'professionality': 2844, u'yaampun': 3892, u'astaghfirullah': 169, u'ambil': 100, u'diupload': 901, u'hatta': 1329, u'abai': 6, u'gratis': 1270, u'sukses': 3416, u'express': 1115, u'karena': 1645, u'struk': 3402, u'sila': 3264, u'bbrpa': 288, u'kompleks': 1833, u'international': 1452, u'during': 979, u'ck2234031fr': 618, u'banner': 246, u'pengirman': 2696, u'target': 3497, u'lobby': 2028, u'sialamat': 3252, u'notprofesional': 2490, u'ckckkckck': 620, u'mananyakan': 2136, u'lp115935118sg': 2052, u'diendapin': 819, u'rb401776635sg': 2916, u'cease': 566, u'jepara': 1543, u'perihal': 2709, u'websitenya': 3856, u'layan': 1971, u'set': 3234, u'baru': 273, u'pontianak': 2795, u'layak': 1970, u'doank': 928, u'serdangsumut': 3220, u'angin': 120, u'ara': 150, u'see': 3165, u'belanja': 313, u'resmi': 2962, u'sea': 3152, u'tertib': 3575, u'sen': 3201, u'emak': 1076, u'retak': 2975, u'outward': 2584, u'woy': 3885, u'dkrm': 912, u'wow': 3884, u'tokopedia': 3643, u'please': 2768, u'dproses': 947, u'ngetik': 2445, u'juru': 1586, u'diimbangin': 826, u'woi': 3878, u'gimanaa': 1239, u'em77953074kr': 1074, u'pingpong': 2743, u'muter': 2353, u'solo': 3349, u'induk': 1431, u'korea': 1855, u'mbak': 2190, u'iku': 1411, u'barangbarang': 262, u'distrbusi': 875, u'bumnhadiruntuknegeri': 510, u'hnya': 1367, u'ikan': 1409, u'cikini': 595, u'nyangka': 2520, u'diphpin': 852, u'ngecawain': 2422, u'aloe': 87, u'nungguin': 2506, u'dicheck': 811, u'paketab': 2606, u'minus': 2272, u'prnh': 2834, u'alow': 88, u'ngendon': 2435, u'pdf': 2663, u'pda': 2660, u'solusi': 3351, u'tweetku': 3733, u'beli': 314, u'sosmed': 3363, u'kontak': 1846, u'sweet': 3443, u'banteng': 248, u'andal': 115, u'tgg': 3583, u'cipunagara': 609, u'vessel': 3816, u'rapih': 2904, u'tgl': 3587, u'prihatin': 2827, u'duh': 972, u'ps': 2856, u'kecewapos': 1681, u'pt': 2859, u'dua': 968, u'krena': 1875, u'lurah': 2067, u'taat': 3452, u'pungli': 2874, u'warga': 3844, u'melulu': 2210, u'pg': 2725, u'pd': 2659, u'potong': 2817, u'netral': 2395, u'pk': 2752, u'dus': 980, u'ntah': 2495, u'pl': 2761, u'pm': 2777, u'tiga': 3605, u'gap': 1195, u'gan': 1190, u'gak': 1180, u'taek': 3455, u'solojayapura': 3350, u'ry79380459cn': 3067, u'blom': 422, u'bilg': 388, u'udara': 3754, u'handling': 1309, u'iya': 1478, u'bila': 386, u'agen': 42, u'mlh': 2289, u'prpindhan': 2855, u'sekarg': 3176, u'nakal': 2364, u'banjarmasin': 243, u'error': 1097, u'cibinong': 592, u'milik': 2259, u'koran': 1853, u'kabupaten': 1597, u'nganjuk': 2406, u'bogor': 436, u'sidoarjo': 3259, u'lamban': 1947, u'hoax': 1368, u'erti': 1098, u'rim': 2993, u'ktny': 1893, u'ataupn': 175, u'madagaskar': 2082, u'bantuannga': 251, u'rx016540096jp': 3057, u'minim': 2267, u'gila': 1232, u'kosong': 1863, u'suak': 3405, u'gituan': 1246, u'itali': 1470, u'dunia': 977, u'nyampenya': 2517, u'taiwan': 3462, u'indonesisa': 1427, u'melempem': 2209, u'bom': 444, u'sya': 3445, u'remotenya': 2944, u'stasiun': 3387, u'paketanya': 2607, u'nomor': 2481, u'eg1788980kr': 1023, u'attempted': 180, u'tlalu': 3627, u'kembali': 1709, u'tamora': 3469, u'user': 3804, u'wkwkwwk': 3876, u'sngt': 3333, u'lmayan': 2020, u'tiket': 3608, u'hindar': 1356, u'undelivered': 3770, u'banda': 226, u'expedisi': 1112, u'ampo': 106, u'perna': 2715, u'database': 727, u'pertama': 2718, u'poland': 2791, u'bntk': 431, u'ampe': 104, u'dharmala': 793, u'banting': 249, u'batas': 281, u'libur': 2010, u'rm57195096jp': 3003, u'kesiapn': 1739, u'self': 3185, u'knp': 1805, u'tim': 3610, u'terlalu': 3571, u'untu': 3784, u'buku': 505, u'telegram': 3532, u'brapa': 462, u'buka': 499, u'izin': 1481, u'sikeras': 3263, u'gaji': 1179, u'selamat': 3181, u'bicara': 381, u'engga': 1088, u'ea16818415th': 987, u're70073048gr': 2923, u'yah': 3895, u'mendeclare': 2217, u'demikian': 760, u'kdua': 1674, u'nyepam': 2530, u'recommended': 2925, u'mekanisme': 2206, u'hsil': 1384, u'mencatata': 2216, u'dipake': 849, u'uc4817147cn': 3747, u'situs': 3286, u'bnget': 427, u'hmpir': 1365, u'complaint': 641, u'australia': 184, u'rf510663351sg': 2981, u'sekarang': 3175, u'dubai': 969, u'antar': 128, u'dtnyain': 967, u'kasi': 1654, u'tanggal': 3479, u'el341071530jp': 1066, u'daerah': 702, u'paketpos': 2609, u'teknis': 3525, u'onlineshop': 2565, u'inovasi': 1439, u'progres': 2848, u'areal': 154, u'bukan': 501, u'manifest': 2142, u'collect': 636, u'bahas': 207, u'rx747643877cn': 3060, u'des17': 776, u'alamat': 71, u'lepas': 1996, u'modus': 2305, u'cek': 567, u'google': 1263, u'negeri': 2381, u'baca': 194, u'do': 925, u'cuih': 679, u'back': 196, u'sampi': 3103, u'dar': 719, u'korban': 1854, u'kemarin': 1707, u'resi15359304989': 2958, u'csnya': 674, u'apabila': 139, u'ep847094413us': 1094, u'bosan': 448, u'delivered': 755, u'ekspres': 1064, u'sistem': 3282, u'tenda': 3553, u'jnt': 1564, u'lelet': 1989, u'saat': 3072, u'rr1411350de': 3030, u'per': 2701, u'seller': 3189, u'deteksi': 783, u'statys': 3392, u'belanda': 312, u'prof': 2840, u'lari': 1966, u'minimal': 2268, u'reformasi': 2928, u'eg618475374jp': 1040, u'be': 292, u'cgk': 582, u'bg': 368, u'hasanuddin': 1325, u'processing': 2837, u'costumer': 652, u'riskan': 2999, u'ketemu': 1743, u'bu': 493, u'gera': 1222, u'kalisari': 1620, u'br': 459, u'dtgnya': 964, u'tanggepin': 3483, u'tidal': 3602, u'ampun': 107, u'impor': 1416, u'by': 526, u'erni': 1095, u'minggu': 2266, u'manaa': 2134, u'lewat': 1999, u'padan': 2593, u'jinglenya': 1553, u'tracing': 3662, u'jm': 1561, u'bisq': 402, u'drama': 951, u'kaskusnews': 1656, u'ry124855sg': 3063, u'menjga': 2231, u'bakal': 212, u'yll': 3907, u'ide': 1402, u'padat': 2595, u'diberantakin': 804, u'bisa': 398, u'bkti': 409, u'fan': 1122, u'tetap': 3579, u'telpnya': 3539, u'aya': 189, u'planggan': 2763, u'inti': 1454, u'kemanaa': 1703, u'drain': 950, u'hape': 1313, u'kyknya': 1920, u'ee1895773id': 1009, u'klo': 1789, u'kasih': 1655, u'eg700811507kr': 1046, u'ke11': 1675, u'kunjung': 1908, u'dalam': 708, u'cardnya': 554, u'submit': 3409, u'custom': 690, u'kagak': 1605, u'nasabah': 2372, u'adam': 19, u'sungguh': 3425, u'segel': 3167, u'dalih': 711, u'ngantarnya': 2408, u'dini': 847, u'slanjutx': 3304, u'lubang': 2060, u'jago': 1487, u'poster': 2814, u'registered': 2932, u'jaga': 1486, u'dmna': 920, u'tipikal': 3621, u'kemas': 1708, u'kalau': 1613, u'mcp': 2193, u'sdg': 3149, u'link': 2013, u'sdm': 3151, u'sdh': 3150, u'info': 1432, u'jalan': 1499, u'utk': 3809, u'diblesekblesekin': 807, u'up': 3788, u'us': 3798, u'bukankah': 502, u'hargaa': 1318, u'dehh': 748, u'uk': 3762, u'jumbo': 1583, u'ud': 3751, u'rostock': 3012, u'ua': 3740, u'wakil': 3836, u'legok': 1987, u'keterlambatankirimanpaket': 1744, u'ekpedisi': 1059, u'sekali': 3173, u'difollowup': 821, u'cuek': 677, u'chat': 584, u'home': 1371, u'berjutajuta': 351, u'work': 3882, u'rr0515749id': 3029, u'blsnya': 425, u'profil': 2846, u'taro': 3500, u'saudara': 3129, u'nah': 2361, u'malas': 2121, u'rubah': 3045, u'betul': 366, u'butuh': 522, u'kp': 1868, u'kirm': 1770, u'kategori': 1660, u'kira': 1760, u'provinsi': 2854, u'ctatan': 675, u'jawbannya': 1526, u'sbyjkt': 3143, u'derita': 774, u'lumayan': 2064, u'drespon': 953, u'ekspress': 1065, u'instansi': 1443, u'resign': 2960, u'turutin': 3728, u'kenal': 1714, u'ky': 1917, u'ryand': 3071, u'ea90110389cn': 992, u'gm2753224840225563': 1252, u'dvd': 984, u'jaktim': 1497, u'omong': 2558, u'adminnya': 30, u'bandung': 229, u'rb4194860sg': 2917, u'soekarno': 3341, u'posjuara': 2809, u'jga': 1548, u'mantep': 2148, u'fatmawati': 1125, u'hello': 1338, u'ry5750851cn': 3064, u'gw': 1279, u'code': 633, u'gr': 1268, u'sibuk': 3257, u'dihubungin': 825, u'bentak': 331, u'pnilaian': 2784, u'gx': 1280, u'gg': 1231, u'ditraining': 893, u'bentar': 332, u'ranti': 2902, u'reseptionis': 2956, u'efektif': 1012, u'ga': 1165, u'rg9341515cn': 2986, u'dkembalikan': 909, u'kata': 1658, u'walaupun': 3838, u'gk': 1248, u'cincin': 605, u'traking': 3673, u'segmen': 3170, u'berperangko': 355, u'et80014793sg': 1106, u'ngehubungi': 2426, u'ngepos': 2436, u'mutu': 2355, u'rr03675641id': 3020, u'bilang': 387, u'friendly': 1159, u'arogan': 157, u'customer': 691, u'koordinasi': 1850, u'kcb': 1668, u'pulau': 2871, u'mampu': 2132, u'cctv': 564, u'gampang': 1189, u'hak': 1294, u'kcw': 1671, u'facebook': 1119, u'kcp': 1670, u'pulak': 2869, u'serius': 3224, u'ngantri': 2412, u'nyampek': 2516, u'istimewa': 1466, u'cisurupan': 613, u'pdam': 2662, u'tri': 3683, u'trm': 3687, u'tampung': 3472, u'mngatakan': 2297, u'a06318061101k7': 4, u'akun': 67, u'kmungkinan': 1801, u'pospay': 2812, u'trz': 3699, u'lempuing': 1994, u'fitur': 1142, u'trs': 3694, u'custmer': 689, u'rb78511790us': 2919, u'velg': 3813, u'biang': 377, u'murah': 2350, u'tanggungjawabnya': 3487, u'za': 3917, u'matiseganhiduptakmau': 2180, u'ressi': 2973, u'usah': 3800, u'terapy': 3564, u'barang': 261, u'jepang': 1542, u'dipacking': 848, u'dgn': 790, u'pegiriman': 2669, u'laahh': 1927, u'wkwkwk': 3875, u'ketapang': 1742, u'dengat': 763, u'kmplain': 1797, u'ee17966370id': 1006, u'harustegas': 1324, u'dengar': 762, u'access': 13, u'tunjuk': 3724, u'krim': 1878, u'dsini': 959, u'kelit': 1698, u'ngeliat': 2433, u'brunei': 484, u'bungkus': 513, u'jakartautara': 1493, u'ngarahin': 2415, u'packing': 2589, u'lalubea': 1943, u'kterlambatan': 1891, u'kantung': 1638, u'sini': 3275, u'rekrutmen': 2937, u'sing': 3271, u'lapak': 1962, u'pembyaran': 2685, u'gudang': 1275, u'wgwgwg': 3863, u'pasti': 2649, u'39': 3, u'bareng': 271, u'respon': 2964, u'diemon': 818, u'elektronik': 1069, u'telat': 3529, u'35': 2, u'pemberihuan': 2681, u'huufft': 1396, u'telah': 3528, u'lemparlemparan': 1993, u'kuker': 1904, u'negoro': 2382, u'fisik': 1141, u'pesan': 2721, u'wib': 3868, u'berat': 340, u'apr': 147, u'ry07690603cn': 3061, u'app': 146, u'jkrt': 1556, u'masuk': 2173, u'sgt': 3237, u'dateng': 730, u'dusbook': 981, u'api': 144, u'motor': 2315, u'purapura': 2878, u'singpore': 3273, u'prioritas': 2832, u'apa': 137, u'naekin': 2360, u'jatiwarna': 1520, u'usd': 3802, u'feb': 1129, u'posbisa': 2801, u'usa': 3799, u'posexpress': 2802, u'dinaekin': 845, u'wesel': 3861, u'jelas': 1534, u'oktober': 2551, u'ngerasa': 2438, u'purwodadi': 2879, u'maghrib': 2088, u'ngabarinnya': 2398, u'nelfon': 2385, u'hendak': 1343, u'pnyaku': 2787, u'pertanggungjawabannya': 2719, u'pket': 2756, u'ndk': 2377, u'lhokseumawe': 2006, u'sore': 3360, u'kmarin': 1794, u'mantaf': 2146, u'departure': 769, u'teller': 3536, u'telvon': 3543, u'urai': 3793, u'alih': 84, u'gembor': 1218, u'olshopnya': 2556, u'nemu': 2391, u'this': 3593, u'salah': 3083, u'jawabanya': 1525, u'cikarang': 594, u'salam': 3084, u'pantes': 2629, u'mabok': 2078, u'diinternet': 827, u'operasional': 2569, u'twiter': 3735, u'rr84383165cz': 3034, u'closing': 625, u'eg6373357jp': 1041, u'oe': 2539, u'nyampeq': 2518, u'unsuccesful': 3778, u'control': 649, u'tau': 3507, u'selaku': 3179, u'bantul': 256, u'tar': 3496, u'tas': 3503, u'process': 2836, u'antrianya': 133, u'sudh': 3412, u'dl': 914, u'ngerespon': 2440, u'answering': 126, u'acara': 12, u'kost': 1864, u'tolang': 3645, u'tai': 3461, u'jumlah': 1584, u'sis': 3279, u'tujuanpengiriman': 3713, u'mpds386841668691': 2324, u'lama': 1944, u'sampek': 3099, u'belum': 318, u'menguhubungi': 2226, u'kamis': 1626, u'kecewa': 1680, u'cuap': 676, u'alhamdulillah': 81, u'ngaret': 2417, u'delay': 751, u'halimah': 1297, u'sia': 3249, u'panik': 2625, u'attachment': 178, u'sie': 3260, u'palet': 2615, u'tak': 3463, u'palem': 2613, u'mmuaskan': 2292, u'tracnya': 3667, u'duduk': 971, u'ijazah': 1407, u'jember': 1538, u'kaki': 1611, u'benar': 321, u'tuyul': 3730, u'benah': 319, u'ngetem': 2444, u'united': 3775, u'men': 2214, u'formulir': 1153, u'pelayananna': 2678, u'lp01456964hk': 2041, u'merah': 2240, u'daring': 722, u'mjd': 2278, u'angke': 123, u'angka': 121, u'batrenya': 282, u'direct': 856, u'korim': 1858, u'bina': 391, u'jateng': 1517, u'batam': 280, u'perhati': 2708, u'kirimn': 1768, u'kroscek': 1886, u'hongkong': 1372, u'tanggerang': 3484, u'ikut': 1412, u'nyq': 2534, u'banyak': 257, u'hancur': 1308, u'rendah': 2946, u'sangkan': 3115, u'halopos': 1303, u'salatiga': 3085, u'kompensasi': 1825, u'ngasih': 2419, u'sobat': 3338, u'jng': 1563, u'jne': 1562, u'lengkap': 1995, u'kbr': 1667, u'ubtuk': 3745, u'rl79055404cn': 3000, u'mentionnya': 2236, u'galaxy': 1182, u'lapang': 1963, u'rabu': 2889, u'eg2236970kr': 1029, u'diupgrade': 900, u'ln': 2021, u'ancur': 112, u'bandungmedan': 230, u'ea317735891cn': 990, u'juanda': 1573, u'taruh': 3501, u'jerman': 1544, u'mknya': 2281, u'lu': 2057, u'lp10911798sg': 2047, u'byk': 528, u'garansi': 1201, u'lombok': 2035, u'nasional': 2375, u'cust': 688, u'ratau': 2907, u'nada': 2359, u'dah': 704, u'cover': 656, u'mention': 2234, u'eg39659kr': 1034, u'jangka': 1510, u'pisah': 2747, u'jakbar': 1494, u'lanjut': 1960, u'bar': 260, u'pak': 2600, u'disitusitu': 871, u'proses': 2852, u'nya': 2510, u'temu': 3551, u'amburadul': 101, u'university': 3776, u'diwebnya': 903, u'sarua': 3124, u'februari': 1130, u'waktu': 3837, u'kpd': 1869, u'mode': 2304, u'pakai': 2601, u'surat': 3431, u'toko': 3642, u'kpn': 1871, u'terbang': 3565, u'tentu': 3558, u'kepanjen': 1722, u'adlh': 27, u'slnjtnya': 3309, u'terus': 3577, u'product': 2838, u'pelalubean': 2674, u'komolain': 1823, u'amerika': 102, u'siang': 3253, u'bumn': 509, u'nasbah': 2373, u'terbit': 3566, u'gantung': 1194, u'menit': 2230, u'habisin': 1283, u'performa': 2706, u'tagih': 3456, u'barangnyaa': 265, u'mereka': 2243, u'diberitahukan': 806, u'your': 3912, u'layanankurir': 1972, u'acuh': 16, u'mata': 2177, u'rr043854514id': 3023, u'eg30511595kr': 1032, u'reg': 2930, u'bagimana': 203, u'mati': 2179, u'hebat': 1331, u'bwt': 525, u'berjamjam': 350, u'brikut': 473, u'undi': 3771, u'kaur': 1662, u'dissapointedposindonesia': 874, u'mardjana': 2157, u'sabtu': 3074, u'release': 2939, u'mudik': 2342, u'tgjwb': 3585, u'bwh': 524, u'el364608035jp': 1067, u'maret': 2158, u'es8567967kr': 1103, u'ciputat': 610, u'cair': 536, u'tulong': 3717, u'konsumen': 1845, u'fungsi': 1163, u'could': 654, u'harusdiambil': 1323, u'benak': 320, u'kirimam': 1765, u'keep': 1685, u'pentingin': 2698, u'rr041351960id': 3022, u'co9829938ro': 629, u'istrahat': 1468, u'personilnya': 2717, u'emank': 1078, u'ext': 1116, u'bakul': 213, u'posisi': 2807, u'unsuccessfull': 3781, u'unair': 3768, u'segala': 3166, u'kendala': 1717, u'belabelain': 309, u'ihh': 1406, u'ttup': 3705, u'spertinya': 3366, u'hehe': 1333, u'ngawur': 2421, u'kcewa': 1669, u'sekian': 3177, u'ducument': 970, u'hmpr': 1366, u'jadi': 1484, u'diabalas': 797, u'siap': 3255, u'cp939181833us': 665, u'respond': 2965, u'mundur': 2348, u'gmarket': 1255, u'system': 3449, u'pribadi': 2826, u'papan': 2632, u'tanggapanny': 3481, u'sumatra': 3422, u'kerja': 1727, u'disubmit': 878, u'rx301956569de': 3059, u'sial': 3251, u'siak': 3250, u'final': 1138, u'ee196985854id': 1010, u'nyebelin': 2527, u'nyolong': 2533, u'statusny': 3391, u'negri': 2383, u'juli': 1581, u'legenda': 1986, u'cerdas': 577, u'stress': 3401, u'domisili': 937, u'knpa': 1806, u'uda': 3752, u'karung': 1650, u'trimakasih': 3684, u'condong': 643, u'oge': 2545, u'selesai': 3184, u'orng': 2578, u'polda': 2792, u'hampa': 1305, u'bei': 306, u'cerits': 579, u'shp01e047': 3247, u'jancok': 1508, u'panggil': 2621, u'kaga': 1604, u'asean': 164, u'cp084345id': 662, u'trakhr': 3672, u'setiawan': 3236, u'beliau': 315, u'bet': 364, u'dalamnias': 709, u'kantong': 1633, u'dikatain': 832, u'blik': 415, u'hitung': 1362, u'es113468545kr': 1099, u'robot': 3010, u'halah': 1295, u'kelapa': 1691, u'diprovide': 853, u'close': 624, u'cetak': 580, u'dteng': 962, u'batal': 279, u'tidk': 3603, u'sprti': 3369, u'sasar': 3125, u'suka': 3414, u'rr04717115id': 3026, u'binjai': 394, u'si': 3248, u'kresnadi': 1876, u'tuh': 3710, u'kotor': 1867, u'pr': 2818, u'hitam': 1361, u'which': 3866, u'destinasi': 781, u'dpake': 946, u'rg80709655cn': 2984, u'sanggau': 3113, u'tumpuk': 3720, u'singpost': 3274, u'keluarin': 1701, u'tandon': 3474, u'hiduppersib': 1351, u'trmksh': 3689, u'kitkat': 1773, u'begitu': 305, u'teriak': 3567, u'why': 3867, u'smoga': 3320, u'cp0135887id': 661, u'delivery': 756, u'saia': 3076, u'kurs': 1914, u'mpospay': 2327, u'bencana': 322, u'mndapat': 2295, u'chatnya': 585, u'ngeceknya': 2424, u'transaksi': 3674, u'ngeposin': 2437, u'indo': 1423, u'tidur': 3604, u'beberapa': 298, u'kejelasanm': 1687, u'ngga': 2448, u'siantar': 3254, u'nggk': 2450, u'tarif': 3498, u'fiktif': 1137, u'kemudian': 1711, u'hafal': 1288, u'akhir': 59, u'kurir': 1912, u'staff': 3382, u'bgmn': 372, u'ditlp': 888, u'piyungan': 2750, u'kerttas': 1732, u'posting': 2815, u'rasa': 2905, u'pusing': 2881, u'print': 2829, u'mug': 2343, u'mpcjakarta': 2317, u'ngk': 2454, u'jan': 1507, u'perlu': 2712, u'ditrace': 890, u'jak': 1489, u'pulsa': 2872, u'tapi': 3494, u'psti': 2858, u'en00405800jp': 1085, u'ksh': 1889, u'ngurus': 2460, u'sebal': 3155, u'tenaga': 3552, u'mgg': 2252, u'palmerahjakbar': 2618, u'terima': 3568, u'telfon': 3535, u'sebab': 3154, u'ee0071563my': 1002, u'hilangin': 1355, u'silah': 3265, u'expres': 1114, u'ush': 3805, u'buyer': 523, u'ptugas': 2862, u'magelang': 2086, u'qq': 2884, u'lp009781131hk': 2039, u'ibadah': 1397, u'qt': 2885, u'cepat': 574, u'bea': 293, u'mngalami': 2296, u'babat': 192, u'randudongkal': 2899, u'bolong': 443, u'ditweet': 898, u'jumat': 1582, u'shg': 3240, u'lalu': 1942, u'dikrm': 837, u'kereta': 1725, u'tiada': 3599, u'manfaat': 2139, u'uh0123679us': 3758, u'btw': 492, u'resi1579640406': 2959, u'rb347536568de': 2915, u'malatex': 2122, u'emosi': 1081, u'pengiriaman': 2694, u'ditrskannya': 895, u'we': 3851, u'biar': 378, u'amplop': 105, u'ujung': 3761, u'popup': 2797, u'pusat': 2880, u'desperate': 780, u'btl': 490, u'fasilitas': 1123, u'brharap': 472, u'kibin': 1754, u'suatu': 3407, u'statu': 3389, u'kmna': 1796, u'mbah': 2189, u'gelisah': 1217, u'bravobeacukai': 466, u'partisan': 2639, u'kakak': 1609, u'dll': 915, u'kakau': 1610, u'jiwa': 1554, u'maff': 2085, u'dlu': 917, u'ngak': 2402, u'progress': 2849, u'disalahin': 865, u'lum': 2063, u'meunju': 2251, u'kotak': 1866, u'internasional': 1451, u'ken': 1712, u'tuju': 3712, u'kelae': 1690, u'kek': 1688, u'tangal': 3476, u'lg': 2000, u'15689806001': 0, u'posbergerak': 2800, u'tebet': 3517, u'bnyk': 433, u'kompetitif': 1826, u'kelar': 1692, u'kelas': 1694, u'pimpin': 2738, u'sbrt': 3140, u'hobi': 1369, u'webnya': 3854, u'ket': 1741, u'kes': 1733, u'depoksiantar': 771, u'biasa': 379, u'nyari': 2522, u'tlp': 3632, u'instant': 1444, u'ngerjain': 2442, u'berapa': 339, u'admin': 28, u'stempel': 3394, u'gram': 1269, u'ditampilkn': 879, u'sisa': 3280, u'komunikasi': 1838, u'tlg': 3629, u'wajib': 3835, u'lo': 2025, u'berkas': 353, u'kpercayaan': 1870, u'ci': 590, u'cimanggis': 603, u'co': 628, u'jalur': 1501, u'cm': 626, u'yohi': 3910, u'cc': 560, u'cb': 559, u'dicuekkin': 813, u'makin': 2111, u'cd': 565, u'packaging': 2588, u'cz': 697, u'mboten': 2192, u'rincian': 2995, u'interaktif': 1449, u'cs': 673, u'ae': 34, u'cp': 658, u'tlpnya': 3634, u'16037847811': 1, u'mpcmakassar': 2318, u'kalah': 1612, u'sari': 3123, u'antah': 127, u'distribusiin': 877, u'ktsh': 1896, u'disintegrate': 870, u'enteng': 1092, u'eg17347510kr': 1022, u'sopan': 3359, u'kalideres': 1618, u'kirakira': 1762, u'cinta': 606, u'porsi': 2798, u'silet': 3266, u'euy': 1110, u'giropos': 1244, u'yaa': 3891, u'define': 746, u'cilegon': 599, u'pengap': 2692, u'ditungguin': 897, u'aj': 52, u'lp10164985sg': 2045, u'diberitahu': 805, u'bengitu': 327, u'anggap': 119, u'maturnuwun': 2182, u'walikukun': 3839, u'bpjs': 455, u'srengseng': 3375, u'hmm': 1364, u'kalteng': 1624, u'bln': 418, u'keren': 1724, u'klaim': 1778, u'c1': 531, u'sndri': 3331, u'nyungsep': 2535, u'ancen': 111, u'holiday': 1370, u'astaga': 168, u'sodara': 3340, u'bearti': 295, u'macem': 2080, u'agah': 39, u'tekuk': 3526, u'bantugempalombok': 254, u'rr59455145es': 3033, u'bawah': 285, u'hasil': 1326, u'xpress': 3889, u'lusa': 2069, u'bangga': 234, u'ribet': 2990, u'messages': 2248, u'keong': 1721, u'lambe': 1949, u'dokter': 934, u'ind': 1421, u'sempat': 3197, u'vs': 3826, u'ngehubungin': 2427, u'poolantar': 2796, u'pnjg': 2785, u'informatif': 1435, u'ketintang': 1747, u'wkt': 3873, u'responsif': 2970, u'sebutin': 3160, u'jual': 1572, u'diputerin': 854, u'klarifikasi': 1782, u'rawan': 2911, u'cina': 604, u'ea1775949cn': 988, u'rr0254770id': 3016, u'android': 116, u'gadingrejo': 1175, u'dan': 713, u'sultan': 3419, u'phk': 2728, u'makasii': 2105, u'makasih': 2102, u'johar': 1566, u'hehehe': 1334, u'mgkn': 2253, u'ukur': 3764, u'phe': 2727, u'pita': 2748, u'thks': 3594, u'huhuhu': 1389, u'uni': 3774, u'susul': 3440, u'em34675kr': 1071, u'itikad': 1472, u'diblg': 808, u'medsos': 2201, u'photocard': 2730, u'playanan': 2766, u'indonesia': 1425, u'cileungsi': 600, u'dinas': 846, u'cerita': 578, u'pangkalpinang': 2623, u'tukang': 3714, u'arjowinangub': 156, u'didpn': 816, u'alasanya': 76, u'jawab': 1524, u'klakson': 1779, u'diblz': 809, u'shoope': 3244, u'ny': 2509, u'lk14985078us': 2018, u'zaman': 3918, u'kenyataanya': 1720, u'dosa': 943, u'kantorpos': 1635, u'abal': 7, u'langsung': 1959, u'dicuekin': 812, u'itikat': 1473, u'skalinya': 3292, u'eg7574198kr': 1049, u'kmrin': 1799, u'alakadarnya': 69, u'web': 3852, u'adu': 32, u'ijin': 1408, u'gmn': 1256, u'nilai': 2468, u'dikanpos': 831, u'mikir': 2258, u'weh': 3858, u'day': 733, u'wes': 3860, u'add': 21, u'serba': 3219, u'expedite': 1113, u'ada': 18, u'skl': 3296, u'tax': 3508, u'rampokzamannow': 2897, u'luthfi': 2070, u'laku': 1940, u'menggangu': 2223, u'brpa': 479, u'pngantaran': 2779, u'sminggu': 3317, u'ngeles': 2432, u'tlpon': 3635, u'eg0113435kr': 1017, u'checking': 587, u'mksih': 2286, u'komisi': 1821, u'fyi': 1164, u'masiv': 2170, u'trnyt': 3691, u'password': 2647, u'desa': 777, u'jejak': 1531, u'mhn': 2255, u'mhl': 2254, u'tnya': 3639, u'eg3566165kr': 1033, u'pagi': 2597, u'taman': 3466, u'budeg': 498, u'kuala': 1898, u'canda': 544, u'bantuanya': 253, u'ri6801886bg': 2989, u'kmaren': 1793, u'aktual': 64, u'skarang': 3293, u'jls': 1560, u'kontrak': 1848, u'sampenya': 3100, u'centernya': 573, u'twitter': 3737, u'kdg': 1673, u'twittet': 3738, u'ngantuk': 2413, u'gelap': 1216, u'jln': 1559, u'halmahera': 1300, u'semua': 3200, u'dekat': 749, u'masker': 2171, u'turun': 3727, u'tangerang': 3478, u'karakter': 1642, u'literally': 2015, u'datengnya': 731, u'untung': 3787, u'coklat': 634, u'disemarang': 868, u'kerjasamanya': 1730, u'cp00681074id': 659, u'wong': 3879, u'happend': 1314, u'simpan': 3268, u'leader': 1979, u'byari': 527, u'paksa': 2610, u'dimatiin': 842, u'belah': 310, u'dibales': 801, u'padahal': 2592, u'mensyen': 2232, u'walopun': 3840, u'kenjeran': 1719, u'wkwk': 3874, u'tampil': 3471, u'januari': 1512, u'serasa': 3218, u'paste': 2648, u'bandara': 227, u'jam': 1502, u'desak': 778, u'firsttime': 1140, u'iwan': 1476, u'prajabatan': 2820, u'computerized': 642, u'jokowi': 1567, u'darat': 720, u'krt': 1887, u'perangko': 2703, u'revisi': 2979, u'krn': 1883, u'saing': 3077, u'bangkrut': 237, u'krm': 1882, u'ey103109804kr': 1117, u'sudha': 3413, u'krg': 1877, u'keburu': 1677, u'tyan': 3739, u'pilih': 2736, u'koreksi': 1857, u'hangus': 1310, u'barusan': 274, u'cemberut': 570, u'lahat': 1935, u'patah': 2652, u'darimana': 721, u'cocok': 632, u'gaboleh': 1168, u'jalanjalan': 1500, u'tamah': 3465, u'baharu': 206, u'val': 3811, u'demak': 759, u'babtuan': 193, u'nurani': 2508, u'mandek': 2137, u'bukalapak': 500, u'afrika': 36, u'maksud': 2116, u'bgt': 373, u'lempar': 1992, u'ekspedisi': 1061, u'samarinda': 3090, u'ee1995435kid': 1011, u'hikss': 1352, u'nisfu': 2469, u'garut': 1202, u'hp': 1377, u'cf0806073us': 581, u'but': 520, u'volume': 3823, u'nulis': 2502, u'hi': 1349, u'lalai': 1941, u'nyuri': 2536, u'kcwa': 1672, u'hm': 1363, u'masyakarat': 2175, u'beberapakali': 299, u'robek': 3008, u'merdeka': 2242, u'komputer': 1837, u'ratus': 2910, u'mendung': 2219, u'dangerous': 715, u'official': 2542, u'cl04810136jp': 621, u'haish': 1293, u'dmn': 919, u'po': 2788, u'telusur': 3542, u'tgjwbnya': 3586, u'kartu': 1649, u'ee18458858id': 1008, u'problem': 2835, u'pangkal': 2622, u'deliver': 754, u'gmanaa': 1254, u'segera': 3168, u'situ': 3284, u'antre': 131, u'marketplace': 2159, u'tnpa': 3637, u'overload': 2585, u'lelah': 1988, u'inv': 1455, u'slawi': 3305, u'aditya': 25, u'pie': 2733, u'dapet': 718, u'sellau': 3188, u'ini': 1438, u'sulut': 3420, u'cundang': 686, u'some': 3355, u'alsan': 89, u'pis': 2746, u'thdp': 3591, u'inc': 1420, u'wewenang': 3862, u'balas': 216, u'balesnya': 221, u'detail': 782, u'balau': 217, u'cp01141841id': 660, u'balai': 215, u'gerutu': 1228, u'simpang': 3269, u'bahagia': 205, u'out': 2582, u'bosen': 449, u'guys': 1278, u'juni': 1585, u'subroto': 3410, u'jawa': 1523, u'pesawat': 2722, u'terobrak': 3573, u'kritik': 1881, u'staf': 3381, u'dtng': 966, u'kena': 1713, u'traumatis': 3677, u'slowres': 3312, u'palembang': 2614, u'sinis': 3276, u'ubudgianyar': 3746, u'loket': 2033, u'hubung': 1387, u'fakta': 1120, u'tingkatin': 3619, u'bisikbisik': 400, u'ketuker': 1749, u'barcode1516843954': 269, u'came': 541, u'kait': 1606, u'formalitas': 1152, u'mojokerto': 2309, u'surabayanya': 3430, u'lnggnan': 2022, u'trims': 3685, u'gilaa': 1233, u'senewen': 3205, u'bcr': 290, u'bcs': 291}\n",
      "\n",
      "Jumlah fitur x(tweet): 3921\n"
     ]
    }
   ],
   "source": [
    "from sklearn.feature_extraction.text import CountVectorizer\n",
    "# create the transform\n",
    "df_x=df[\"tweet\"]\n",
    "vectorizer = CountVectorizer()\n",
    "# tokenize and build vocab\n",
    "a=vectorizer.fit(df_x)\n",
    "Fitur= len(vectorizer.vocabulary_)\n",
    "print(vectorizer.vocabulary_)\n",
    "print '\\nJumlah fitur x(tweet): %s' % Fitur"
   ]
  },
  {
   "cell_type": "code",
   "execution_count": 10,
   "metadata": {},
   "outputs": [
    {
     "name": "stdout",
     "output_type": "stream",
     "text": [
      "CountVectorizer(analyzer=u'word', binary=False, decode_error=u'strict',\n",
      "        dtype=<type 'numpy.int64'>, encoding=u'utf-8', input=u'content',\n",
      "        lowercase=True, max_df=1.0, max_features=None, min_df=1,\n",
      "        ngram_range=(1, 1), preprocessor=None, stop_words=None,\n",
      "        strip_accents=None, token_pattern=u'(?u)\\\\b\\\\w\\\\w+\\\\b',\n",
      "        tokenizer=None, vocabulary=None)\n",
      "\n",
      "\n",
      "  (0, 1992)\t0.16641741071\n",
      "  (0, 2598)\t0.465364593651\n",
      "  (0, 830)\t0.256475244781\n",
      "  (0, 1604)\t0.179598346991\n",
      "  (0, 3326)\t0.291050304989\n",
      "  (0, 674)\t0.267367551064\n",
      "  (0, 1421)\t0.255576847635\n",
      "  (0, 90)\t0.271878544735\n",
      "  (0, 1440)\t0.189058152859\n",
      "  (0, 2468)\t0.128729391085\n",
      "  (0, 2822)\t0.305604844718\n",
      "  (0, 1700)\t0.465364593651\n",
      "  (1, 1992)\t0.190874206614\n",
      "  (1, 830)\t0.294166990428\n",
      "  (1, 508)\t0.421480470195\n",
      "  (1, 3387)\t0.241667297391\n",
      "  (1, 1599)\t0.395689561813\n",
      "  (1, 1022)\t0.207148738321\n",
      "  (1, 2064)\t0.430692377626\n",
      "  (1, 3428)\t0.505971537092\n",
      "  (2, 1445)\t0.265515550379\n",
      "  (2, 1734)\t0.601694948276\n",
      "  (2, 1664)\t0.304357454275\n",
      "  (2, 1032)\t0.208865423885\n",
      "  (2, 115)\t0.193432723918\n",
      "  :\t:\n",
      "  (1774, 2026)\t0.241976947417\n",
      "  (1774, 1004)\t0.284271220912\n",
      "  (1774, 3198)\t0.284271220912\n",
      "  (1774, 333)\t0.299880778853\n",
      "  (1774, 2563)\t0.299880778853\n",
      "  (1774, 2884)\t0.299880778853\n",
      "  (1774, 2993)\t0.299880778853\n",
      "  (1775, 2468)\t0.0988223548815\n",
      "  (1775, 2294)\t0.0985773177864\n",
      "  (1775, 1558)\t0.197154635573\n",
      "  (1775, 3140)\t0.153228009115\n",
      "  (1775, 1460)\t0.183177577656\n",
      "  (1775, 2518)\t0.194850996155\n",
      "  (1775, 1006)\t0.247274962329\n",
      "  (1775, 3333)\t0.241412182954\n",
      "  (1775, 2801)\t0.196889672548\n",
      "  (1775, 195)\t0.190419431746\n",
      "  (1775, 3357)\t0.199023204543\n",
      "  (1775, 827)\t0.225980668743\n",
      "  (1775, 1416)\t0.288267834118\n",
      "  (1775, 947)\t0.225980668743\n",
      "  (1775, 1868)\t0.239613416439\n",
      "  (1775, 1246)\t0.338653123899\n",
      "  (1775, 2942)\t0.357248835215\n",
      "  (1775, 1162)\t0.357248835215\n"
     ]
    }
   ],
   "source": [
    "from sklearn.model_selection import train_test_split\n",
    "from sklearn.feature_extraction.text import TfidfVectorizer\n",
    "\n",
    "df=pd.read_csv('data/CleanDatasetStopwordStemmer.csv',sep=',', header=0,names=['id','label','tweet',],encoding=\"ISO-8859-1\")\n",
    "\n",
    "df.loc[df[\"label\"]=='terlambat',\"label\"]=0\n",
    "df.loc[df[\"label\"]=='sistem',\"label\"]=1\n",
    "df.loc[df[\"label\"]=='gagal',\"label\"]=2\n",
    "df.loc[df[\"label\"]=='jaminan',\"label\"]=3\n",
    "df.loc[df[\"label\"]=='pelayanan',\"label\"]=4\n",
    "df.loc[df[\"label\"]=='respon',\"label\"]=5\n",
    "\n",
    "df_x=df[\"tweet\"]\n",
    "df_y=df[\"label\"]\n",
    "\n",
    "x_train, x_test, y_train, y_test = train_test_split(df_x, df_y, test_size=0.2,random_state=3)\n",
    "\n",
    "cv=CountVectorizer()\n",
    "print(cv)\n",
    "print '\\n'\n",
    "x_traincv=cv.fit_transform(x_train)\n",
    "\n",
    "z=x_traincv.toarray()\n",
    "\n",
    "vectorizer = TfidfVectorizer(min_df=1)\n",
    "X = vectorizer.fit_transform(df_x)\n",
    "idf = vectorizer._tfidf.idf_\n",
    "cv1=TfidfVectorizer(min_df=1,stop_words=[\"\"])\n",
    "x_traincv1 = cv1.fit_transform(x_train)\n",
    "a=x_traincv1.toarray() \n",
    "print(x_traincv1)"
   ]
  },
  {
   "cell_type": "code",
   "execution_count": 27,
   "metadata": {},
   "outputs": [
    {
     "data": {
      "text/plain": [
       "matrix([[ 0.,  0.,  0., ...,  0.,  0.,  0.],\n",
       "        [ 0.,  0.,  0., ...,  0.,  0.,  0.],\n",
       "        [ 0.,  0.,  0., ...,  0.,  0.,  0.],\n",
       "        ..., \n",
       "        [ 0.,  0.,  0., ...,  0.,  0.,  0.],\n",
       "        [ 0.,  0.,  0., ...,  0.,  0.,  0.],\n",
       "        [ 0.,  0.,  0., ...,  0.,  0.,  0.]])"
      ]
     },
     "execution_count": 27,
     "metadata": {},
     "output_type": "execute_result"
    }
   ],
   "source": [
    "x_traincv1.todense()"
   ]
  },
  {
   "cell_type": "code",
   "execution_count": 57,
   "metadata": {},
   "outputs": [
    {
     "data": {
      "image/png": "[encoded data removed]",
      "text/plain": [
       "<matplotlib.figure.Figure at 0x1cad85f8>"
      ]
     },
     "metadata": {},
     "output_type": "display_data"
    }
   ],
   "source": [
    "from sklearn.feature_extraction.text import CountVectorizer, TfidfTransformer\n",
    "from sklearn.decomposition import PCA\n",
    "from sklearn.pipeline import Pipeline\n",
    "import matplotlib.pyplot as plt\n",
    "\n",
    "pipeline = Pipeline([\n",
    "    ('vect', CountVectorizer()),\n",
    "    ('tfidf', TfidfTransformer()),\n",
    "])        \n",
    "X = pipeline.fit_transform(x_train).todense()\n",
    "\n",
    "pca = PCA(n_components=2).fit(X)\n",
    "data2D = pca.transform(X)\n",
    "plt.scatter(data2D[:,0], data2D[:,1])\n",
    "\n",
    "plt.show()          "
   ]
  },
  {
   "cell_type": "code",
   "execution_count": 18,
   "metadata": {},
   "outputs": [
    {
     "data": {
      "image/png": "[encoded data removed]",
      "text/plain": [
       "<matplotlib.figure.Figure at 0x1620efd0>"
      ]
     },
     "metadata": {},
     "output_type": "display_data"
    }
   ],
   "source": [
    "from sklearn.feature_extraction.text import CountVectorizer, TfidfTransformer\n",
    "from sklearn.decomposition import PCA\n",
    "from sklearn.pipeline import Pipeline\n",
    "import matplotlib.pyplot as plt\n",
    "\n",
    "\n",
    "pipeline = Pipeline([\n",
    "    ('vect', CountVectorizer()),\n",
    "    ('tfidf', TfidfTransformer()),\n",
    "])        \n",
    "X = pipeline.fit_transform(x_test).todense()\n",
    "\n",
    "pca = PCA(n_components=2).fit(X)\n",
    "data2D = pca.transform(X)\n",
    "# plt.scatter(data2D[:,0], data2D[:,1],c=df.label)\n",
    "plt.scatter(data2D[:,0], data2D[:,1])\n",
    "plt.show() "
   ]
  },
  {
   "cell_type": "markdown",
   "metadata": {},
   "source": [
    "## Contoh data baris 1"
   ]
  },
  {
   "cell_type": "code",
   "execution_count": 41,
   "metadata": {},
   "outputs": [
    {
     "name": "stdout",
     "output_type": "stream",
     "text": [
      "Sample 0: \n",
      "  (0, 1992)\t0.16641741071\n",
      "  (0, 2598)\t0.465364593651\n",
      "  (0, 830)\t0.256475244781\n",
      "  (0, 1604)\t0.179598346991\n",
      "  (0, 3326)\t0.291050304989\n",
      "  (0, 674)\t0.267367551064\n",
      "  (0, 1421)\t0.255576847635\n",
      "  (0, 90)\t0.271878544735\n",
      "  (0, 1440)\t0.189058152859\n",
      "  (0, 2468)\t0.128729391085\n",
      "  (0, 2822)\t0.305604844718\n",
      "  (0, 1700)\t0.465364593651\n",
      "()\n"
     ]
    }
   ],
   "source": [
    "print('Sample 0: ')\n",
    "print(x_traincv1[0])\n",
    "print()"
   ]
  },
  {
   "cell_type": "code",
   "execution_count": 30,
   "metadata": {},
   "outputs": [
    {
     "name": "stdout",
     "output_type": "stream",
     "text": [
      "Sample 0 (vectorized): \n",
      "[ 0.  0.  0. ...,  0.  0.  0.]\n",
      "()\n"
     ]
    }
   ],
   "source": [
    "v0 = vectorizer.transform([x_train[0]]).toarray()[0]\n",
    "print('Sample 0 (vectorized): ')\n",
    "print(v0)\n",
    "print()"
   ]
  },
  {
   "cell_type": "code",
   "execution_count": 39,
   "metadata": {},
   "outputs": [
    {
     "name": "stdout",
     "output_type": "stream",
     "text": [
      "Whats the length Sample 0 (vectorized) length: \n",
      "3921\n",
      "()\n"
     ]
    }
   ],
   "source": [
    "print('Whats the length Sample 0 (vectorized) length: ')\n",
    "print(len(v0))\n",
    "print()\n"
   ]
  },
  {
   "cell_type": "code",
   "execution_count": 38,
   "metadata": {},
   "outputs": [
    {
     "name": "stdout",
     "output_type": "stream",
     "text": [
      "How many words does it have? Sample 0 (vectorized) sum: \n",
      "3.3180214204\n",
      "()\n"
     ]
    }
   ],
   "source": [
    "print('How many words does it have? Sample 0 (vectorized) sum: ')\n",
    "print(np.sum(v0))\n",
    "print()"
   ]
  },
  {
   "cell_type": "code",
   "execution_count": 40,
   "metadata": {},
   "outputs": [
    {
     "name": "stdout",
     "output_type": "stream",
     "text": [
      "To the source:\n",
      "[array([u'cuma', u'dri', u'gk', u'hari', u'kau', u'lot', u'paket',\n",
      "       u'posindonesia', u'sangat', u'sekali', u'sungguh', u'surabaya'],\n",
      "      dtype='<U54')]\n",
      "()\n"
     ]
    }
   ],
   "source": [
    "print('To the source:')\n",
    "print(vectorizer.inverse_transform(v0))\n",
    "print()"
   ]
  }
 ],
 "metadata": {
  "kernelspec": {
   "display_name": "Python 2",
   "language": "python",
   "name": "python2"
  },
  "language_info": {
   "codemirror_mode": {
    "name": "ipython",
    "version": 2
   },
   "file_extension": ".py",
   "mimetype": "text/x-python",
   "name": "python",
   "nbconvert_exporter": "python",
   "pygments_lexer": "ipython2",
   "version": "2.7.14"
  }
 },
 "nbformat": 4,
 "nbformat_minor": 2
}
