{
 "cells": [
  {
   "cell_type": "markdown",
   "metadata": {
    "collapsed": true
   },
   "source": [
    "# Grafik perbandingan akurasi SVM"
   ]
  },
  {
   "cell_type": "markdown",
   "metadata": {},
   "source": [
    "## Perbandingan akurasi "
   ]
  },
  {
   "cell_type": "code",
   "execution_count": 3,
   "metadata": {},
   "outputs": [
    {
     "data": {
      "image/png": "[encoded data removed]",
      "text/plain": [
       "<matplotlib.figure.Figure at 0x8fdc978>"
      ]
     },
     "metadata": {},
     "output_type": "display_data"
    }
   ],
   "source": [
    "import numpy as np\n",
    "import matplotlib.pyplot as plt\n",
    "from matplotlib.ticker import MaxNLocator\n",
    "from collections import namedtuple\n",
    "\n",
    "n_groups = 3\n",
    "\n",
    "means_men = (81.26, 67.12, 81.44)\n",
    "\n",
    "fig, ax = plt.subplots()\n",
    "\n",
    "index = np.arange(n_groups)\n",
    "bar_width = 0.5\n",
    "\n",
    "opacity = 0.5\n",
    "error_config = {'ecolor': '0.3'}\n",
    "\n",
    "rects1 = ax.bar(index, means_men, bar_width,\n",
    "                alpha=opacity, color='b',error_kw=error_config)\n",
    "\n",
    "ax.set_xlabel('Kernel')\n",
    "ax.set_ylabel('Akurasi')\n",
    "ax.set_title('Perbandingan Akurasi')\n",
    "ax.set_xticks(index + bar_width / 2)\n",
    "ax.set_xticklabels(('Linear','Polynomial','RBF'))\n",
    "ax.legend()\n",
    "\n",
    "fig.tight_layout()\n",
    "plt.ylim([60,85])\n",
    "plt.show()"
   ]
  },
  {
   "cell_type": "markdown",
   "metadata": {},
   "source": [
    "## Grafik presisi, recall, f1-score "
   ]
  },
  {
   "cell_type": "code",
   "execution_count": 4,
   "metadata": {},
   "outputs": [
    {
     "data": {
      "image/png": "[encoded data removed]",
      "text/plain": [
       "<matplotlib.figure.Figure at 0x91f0fd0>"
      ]
     },
     "metadata": {},
     "output_type": "display_data"
    }
   ],
   "source": [
    "import numpy as np\n",
    "import matplotlib.pyplot as plt\n",
    "N = 3\n",
    "ind = np.arange(N)  \n",
    "width = 0.2       \n",
    "\n",
    "fig, ax = plt.subplots(figsize=(6, 4))\n",
    "presisi = (89,83,89)\n",
    "rects1 = ax.bar(ind, presisi, width, color='black')\n",
    "recall = (89, 77, 88)\n",
    "rects2 = ax.bar(ind + width, recall, width, color='grey')\n",
    "f1score = (89, 78, 88)\n",
    "rects3 = ax.bar(ind + 2*width, f1score, width, color='grey',alpha=opacity)\n",
    "\n",
    "ax.set_ylabel('Nilai(%)')\n",
    "ax.set_xticks(ind + width / 2)\n",
    "ax.set_xticklabels(('Linear', 'Polynomial', 'RBF', 'Sigmoid'))\n",
    "\n",
    "ax.legend((rects1[0], rects2[0], rects3[0]), ('Presisi', 'Recall', 'F1-score'))\n",
    "\n",
    "def autolabel(rects):\n",
    "    for rect in rects:\n",
    "        height = rect.get_height()\n",
    "        ax.text(rect.get_x() + rect.get_width()/2, 0.1+height,\n",
    "                '%d' % int(height),\n",
    "                ha='center', va='bottom')\n",
    "\n",
    "autolabel(rects1)\n",
    "autolabel(rects2)\n",
    "autolabel(rects3)\n",
    "\n",
    "fig.tight_layout()\n",
    "plt.ylim([60,100])\n",
    "plt.show()"
   ]
  }
 ],
 "metadata": {
  "kernelspec": {
   "display_name": "Python 2",
   "language": "python",
   "name": "python2"
  },
  "language_info": {
   "codemirror_mode": {
    "name": "ipython",
    "version": 2
   },
   "file_extension": ".py",
   "mimetype": "text/x-python",
   "name": "python",
   "nbconvert_exporter": "python",
   "pygments_lexer": "ipython2",
   "version": "2.7.14"
  }
 },
 "nbformat": 4,
 "nbformat_minor": 2
}
