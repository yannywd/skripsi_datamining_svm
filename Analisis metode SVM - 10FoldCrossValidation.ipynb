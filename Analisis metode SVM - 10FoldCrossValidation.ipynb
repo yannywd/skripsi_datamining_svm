{
 "cells": [
  {
   "cell_type": "markdown",
   "metadata": {},
   "source": [
    "## Analisis Klasifikasi SVM 10 Fold Cross Validation"
   ]
  },
  {
   "cell_type": "markdown",
   "metadata": {},
   "source": [
    "Memproses data yang sudah bersih (di preprocessing) :"
   ]
  },
  {
   "cell_type": "code",
   "execution_count": 1,
   "metadata": {
    "scrolled": true
   },
   "outputs": [
    {
     "data": {
      "text/html": [
       "<div>\n",
       "<style>\n",
       "    .dataframe thead tr:only-child th {\n",
       "        text-align: right;\n",
       "    }\n",
       "\n",
       "    .dataframe thead th {\n",
       "        text-align: left;\n",
       "    }\n",
       "\n",
       "    .dataframe tbody tr th {\n",
       "        vertical-align: top;\n",
       "    }\n",
       "</style>\n",
       "<table border=\"1\" class=\"dataframe\">\n",
       "  <thead>\n",
       "    <tr style=\"text-align: right;\">\n",
       "      <th></th>\n",
       "      <th>ID</th>\n",
       "      <th>label</th>\n",
       "      <th>tweet</th>\n",
       "    </tr>\n",
       "  </thead>\n",
       "  <tbody>\n",
       "    <tr>\n",
       "      <th>0</th>\n",
       "      <td>1</td>\n",
       "      <td>terlambat</td>\n",
       "      <td>posindonesia kau sungguh sangat lot sekali cum...</td>\n",
       "    </tr>\n",
       "    <tr>\n",
       "      <th>1</th>\n",
       "      <td>2</td>\n",
       "      <td>terlambat</td>\n",
       "      <td>min resi sampai kapan yah koo lama bgt ga sampaj</td>\n",
       "    </tr>\n",
       "    <tr>\n",
       "      <th>2</th>\n",
       "      <td>3</td>\n",
       "      <td>terlambat</td>\n",
       "      <td>blm pernah pake next day telat minggu koq pali...</td>\n",
       "    </tr>\n",
       "    <tr>\n",
       "      <th>3</th>\n",
       "      <td>4</td>\n",
       "      <td>terlambat</td>\n",
       "      <td>barang ambil aja gak takut lama klu anter gpp ...</td>\n",
       "    </tr>\n",
       "    <tr>\n",
       "      <th>4</th>\n",
       "      <td>5</td>\n",
       "      <td>terlambat</td>\n",
       "      <td>paket no blm jg padahal pake pos express udah ...</td>\n",
       "    </tr>\n",
       "  </tbody>\n",
       "</table>\n",
       "</div>"
      ],
      "text/plain": [
       "   ID      label                                              tweet\n",
       "0   1  terlambat  posindonesia kau sungguh sangat lot sekali cum...\n",
       "1   2  terlambat   min resi sampai kapan yah koo lama bgt ga sampaj\n",
       "2   3  terlambat  blm pernah pake next day telat minggu koq pali...\n",
       "3   4  terlambat  barang ambil aja gak takut lama klu anter gpp ...\n",
       "4   5  terlambat  paket no blm jg padahal pake pos express udah ..."
      ]
     },
     "execution_count": 1,
     "metadata": {},
     "output_type": "execute_result"
    }
   ],
   "source": [
    "import pandas as pd\n",
    "\n",
    "df = pd.read_csv('Data/CleanDatasetStopwordStemmer.csv', header=0, names=['ID','label','tweet'])\n",
    "df.head()"
   ]
  },
  {
   "cell_type": "markdown",
   "metadata": {},
   "source": [
    "## Proses Klasifikasi dengan SVM"
   ]
  },
  {
   "cell_type": "markdown",
   "metadata": {},
   "source": [
    "Mengimport library yang diperlukan untuk klasifikasi dengan metode SVM, fold yang disarankan adalah 10 fold yaitu membagi data jadi 10 partisi yang bergantian menjadi data uji dan training, bagus untuk data berjumlah kecil, tapi akan diuji untuk data ini agar semua data bisa digunakan sbg training dan testing."
   ]
  },
  {
   "cell_type": "code",
   "execution_count": 2,
   "metadata": {
    "collapsed": true
   },
   "outputs": [],
   "source": [
    "import numpy as np\n",
    "import pandas as pd\n",
    "import matplotlib.pyplot as plt\n",
    "from sklearn.feature_extraction.text import CountVectorizer\n",
    "from sklearn.feature_extraction.text import TfidfVectorizer\n",
    "from sklearn.metrics import average_precision_score\n",
    "from sklearn.metrics import precision_recall_curve\n",
    "from sklearn.model_selection import train_test_split\n",
    "from sklearn.model_selection import KFold\n",
    "from sklearn.metrics import confusion_matrix\n",
    "from sklearn.metrics import classification_report\n",
    "from sklearn import metrics\n",
    "# from sklearn.multiclass import OneVsRestClassifier\n",
    "#SVM\n",
    "from sklearn import svm\n",
    "from sklearn.svm import LinearSVC\n",
    "import time"
   ]
  },
  {
   "cell_type": "markdown",
   "metadata": {
    "collapsed": true
   },
   "source": [
    "# 10-fold cross validation (Linear)"
   ]
  },
  {
   "cell_type": "code",
   "execution_count": 3,
   "metadata": {},
   "outputs": [
    {
     "name": "stdout",
     "output_type": "stream",
     "text": [
      "[ 0.69369369  0.77927928  0.78828829  0.82882883  0.83783784  0.88738739\n",
      "  0.81981982  0.84234234  0.80630631  0.84234234]\n"
     ]
    }
   ],
   "source": [
    "from sklearn.model_selection import cross_val_score\n",
    "\n",
    "start_time = time.time()\n",
    "\n",
    "df=pd.read_csv('data/CleanDatasetStopwordStemmer.csv',sep=',', header=0,names=['id','label','tweet',],encoding=\"ISO-8859-1\")\n",
    "\n",
    "df.loc[df[\"label\"]=='terlambat',\"label\"]=0\n",
    "df.loc[df[\"label\"]=='sistem',\"label\"]=1\n",
    "df.loc[df[\"label\"]=='gagal',\"label\"]=2\n",
    "df.loc[df[\"label\"]=='jaminan',\"label\"]=3\n",
    "df.loc[df[\"label\"]=='pelayanan',\"label\"]=4\n",
    "df.loc[df[\"label\"]=='respon',\"label\"]=5\n",
    "\n",
    "df_x=df[\"tweet\"]\n",
    "df_y=df[\"label\"]\n",
    "\n",
    "cv=CountVectorizer()\n",
    "\n",
    "x_traincv=cv.fit_transform(df_x)\n",
    "z=x_traincv.toarray()\n",
    "vectorizer = TfidfVectorizer(min_df=1)\n",
    "X = vectorizer.fit_transform(df_x)\n",
    "idf = vectorizer._tfidf.idf_\n",
    "cv1=TfidfVectorizer(min_df=1,stop_words=[\"\"])\n",
    "x_traincv1 = cv1.fit_transform(df_x)\n",
    "a=x_traincv1.toarray() \n",
    "\n",
    "metode = svm.SVC(kernel='linear', C=1) \n",
    "\n",
    "y_train =df_y.astype('int')\n",
    "metode.fit(x_traincv1,y_train)\n",
    "scores = cross_val_score(metode, x_traincv1, y_train, cv=10, scoring='accuracy')\n",
    "print(scores)"
   ]
  },
  {
   "cell_type": "code",
   "execution_count": 5,
   "metadata": {},
   "outputs": [
    {
     "name": "stdout",
     "output_type": "stream",
     "text": [
      "0.812612612613\n"
     ]
    }
   ],
   "source": [
    "print(scores.mean())"
   ]
  },
  {
   "cell_type": "markdown",
   "metadata": {},
   "source": [
    "# 10-fold cross validation (RBF)"
   ]
  },
  {
   "cell_type": "code",
   "execution_count": 14,
   "metadata": {},
   "outputs": [
    {
     "name": "stdout",
     "output_type": "stream",
     "text": [
      "[ 0.67117117  0.77027027  0.78828829  0.83783784  0.85585586  0.88288288\n",
      "  0.86486486  0.84684685  0.79279279  0.83333333]\n"
     ]
    }
   ],
   "source": [
    "from sklearn.model_selection import cross_val_score\n",
    "\n",
    "start_time = time.time()\n",
    "\n",
    "df=pd.read_csv('data/CleanDatasetStopwordStemmer.csv',sep=',', header=0,names=['id','label','tweet',],encoding=\"ISO-8859-1\")\n",
    "\n",
    "df.loc[df[\"label\"]=='terlambat',\"label\"]=0\n",
    "df.loc[df[\"label\"]=='sistem',\"label\"]=1\n",
    "df.loc[df[\"label\"]=='gagal',\"label\"]=2\n",
    "df.loc[df[\"label\"]=='jaminan',\"label\"]=3\n",
    "df.loc[df[\"label\"]=='pelayanan',\"label\"]=4\n",
    "df.loc[df[\"label\"]=='respon',\"label\"]=5\n",
    "\n",
    "df_x=df[\"tweet\"]\n",
    "df_y=df[\"label\"]\n",
    "\n",
    "cv=CountVectorizer()\n",
    "\n",
    "x_traincv=cv.fit_transform(df_x)\n",
    "z=x_traincv.toarray()\n",
    "vectorizer = TfidfVectorizer(min_df=1)\n",
    "X = vectorizer.fit_transform(df_x)\n",
    "idf = vectorizer._tfidf.idf_\n",
    "cv1=TfidfVectorizer(min_df=1,stop_words=[\"\"])\n",
    "x_traincv1 = cv1.fit_transform(df_x)\n",
    "a=x_traincv1.toarray() \n",
    "\n",
    "# Kernel RBF\n",
    "metode = svm.SVC(kernel='rbf', C=10, gamma=1) \n",
    "y_train =df_y.astype('int')\n",
    "metode.fit(x_traincv1,y_train)\n",
    "\n",
    "scores = cross_val_score(metode, x_traincv1, y_train, cv=10, scoring='accuracy')\n",
    "print(scores)"
   ]
  },
  {
   "cell_type": "code",
   "execution_count": 15,
   "metadata": {},
   "outputs": [
    {
     "name": "stdout",
     "output_type": "stream",
     "text": [
      "0.814414414414\n"
     ]
    }
   ],
   "source": [
    "print(scores.mean())"
   ]
  },
  {
   "cell_type": "markdown",
   "metadata": {},
   "source": [
    "# 10-fold cross validation (Polynomial)"
   ]
  },
  {
   "cell_type": "code",
   "execution_count": 4,
   "metadata": {},
   "outputs": [
    {
     "name": "stdout",
     "output_type": "stream",
     "text": [
      "[ 0.56756757  0.65315315  0.64414414  0.67117117  0.67567568  0.77477477\n",
      "  0.64864865  0.68918919  0.63063063  0.75675676]\n"
     ]
    }
   ],
   "source": [
    "from sklearn.model_selection import cross_val_score\n",
    "\n",
    "start_time = time.time()\n",
    "\n",
    "df=pd.read_csv('data/CleanDatasetStopwordStemmer.csv',sep=',', header=0,names=['id','label','tweet',],encoding=\"ISO-8859-1\")\n",
    "\n",
    "df.loc[df[\"label\"]=='terlambat',\"label\"]=0\n",
    "df.loc[df[\"label\"]=='sistem',\"label\"]=1\n",
    "df.loc[df[\"label\"]=='gagal',\"label\"]=2\n",
    "df.loc[df[\"label\"]=='jaminan',\"label\"]=3\n",
    "df.loc[df[\"label\"]=='pelayanan',\"label\"]=4\n",
    "df.loc[df[\"label\"]=='respon',\"label\"]=5\n",
    "\n",
    "df_x=df[\"tweet\"]\n",
    "df_y=df[\"label\"]\n",
    "\n",
    "cv=CountVectorizer()\n",
    "\n",
    "x_traincv=cv.fit_transform(df_x)\n",
    "z=x_traincv.toarray()\n",
    "vectorizer = TfidfVectorizer(min_df=1)\n",
    "X = vectorizer.fit_transform(df_x)\n",
    "idf = vectorizer._tfidf.idf_\n",
    "cv1=TfidfVectorizer(min_df=1,stop_words=[\"\"])\n",
    "x_traincv1 = cv1.fit_transform(df_x)\n",
    "a=x_traincv1.toarray() \n",
    "\n",
    "# Kernel Poly\n",
    "metode = svm.SVC(kernel='poly', degree=5) \n",
    "y_train =df_y.astype('int')\n",
    "metode.fit(x_traincv1,y_train)\n",
    "\n",
    "scores = cross_val_score(metode, x_traincv1, y_train, cv=10, scoring='accuracy')\n",
    "print(scores)"
   ]
  },
  {
   "cell_type": "code",
   "execution_count": 5,
   "metadata": {},
   "outputs": [
    {
     "name": "stdout",
     "output_type": "stream",
     "text": [
      "0.671171171171\n"
     ]
    }
   ],
   "source": [
    "print(scores.mean())"
   ]
  },
  {
   "cell_type": "markdown",
   "metadata": {},
   "source": [
    "## Range nilai C, gamma, degree dengan cross validation 10 fold"
   ]
  },
  {
   "cell_type": "markdown",
   "metadata": {},
   "source": [
    "## Linear parameter C"
   ]
  },
  {
   "cell_type": "code",
   "execution_count": 7,
   "metadata": {
    "collapsed": true
   },
   "outputs": [],
   "source": [
    "from sklearn.svm import SVC\n",
    "from sklearn.model_selection import cross_val_score\n",
    "svm_model= SVC()"
   ]
  },
  {
   "cell_type": "code",
   "execution_count": 10,
   "metadata": {},
   "outputs": [
    {
     "name": "stdout",
     "output_type": "stream",
     "text": [
      "[0.81261261261261253, 0.81396396396396398, 0.8112612612612613, 0.80675675675675684, 0.80945945945945952, 0.80900900900900896, 0.80945945945945952, 0.80900900900900896, 0.80900900900900896, 0.80855855855855852, 0.80855855855855852, 0.80855855855855852, 0.80810810810810807, 0.80765765765765773, 0.80810810810810829, 0.80810810810810829, 0.80855855855855852, 0.80855855855855852, 0.80855855855855852, 0.80810810810810829, 0.80810810810810829, 0.80810810810810829, 0.80810810810810829, 0.80810810810810829, 0.80810810810810829]\n"
     ]
    }
   ],
   "source": [
    "C_range=list(range(1,26))\n",
    "acc_score=[]\n",
    "for c in C_range:\n",
    "    metode = svm.SVC(kernel='linear', C=c)\n",
    "    scores = cross_val_score(metode, x_traincv1, y_train, cv=10, scoring='accuracy')\n",
    "    acc_score.append(scores.mean())\n",
    "print(acc_score)"
   ]
  },
  {
   "cell_type": "code",
   "execution_count": 13,
   "metadata": {},
   "outputs": [
    {
     "name": "stdout",
     "output_type": "stream",
     "text": [
      "('Tertinggi : ', 0.81396396396396398)\n"
     ]
    }
   ],
   "source": [
    "highest = max(acc_score)\n",
    "print(\"Tertinggi : \",highest)"
   ]
  },
  {
   "cell_type": "code",
   "execution_count": 8,
   "metadata": {},
   "outputs": [
    {
     "name": "stdout",
     "output_type": "stream",
     "text": [
      "[0.44909909909909917, 0.44909909909909917, 0.72927927927927938, 0.81261261261261253, 0.80855855855855852, 0.80720720720720729, 0.80720720720720729]\n"
     ]
    }
   ],
   "source": [
    "C_range=[0.001,0.01,0.1,1,10,100,1000]\n",
    "acc_score=[]\n",
    "for c in C_range:\n",
    "    metode = svm.SVC(kernel='linear', C=c)\n",
    "    scores = cross_val_score(metode, x_traincv1, y_train, cv=10, scoring='accuracy')\n",
    "    acc_score.append(scores.mean())\n",
    "print(acc_score)"
   ]
  },
  {
   "cell_type": "code",
   "execution_count": 9,
   "metadata": {},
   "outputs": [
    {
     "name": "stdout",
     "output_type": "stream",
     "text": [
      "('Tertinggi : ', 0.81261261261261253)\n"
     ]
    }
   ],
   "source": [
    "highest = max(acc_score)\n",
    "print(\"Tertinggi : \",highest)"
   ]
  },
  {
   "cell_type": "markdown",
   "metadata": {},
   "source": [
    "## Polynomial c,d, dan gamma"
   ]
  },
  {
   "cell_type": "code",
   "execution_count": 14,
   "metadata": {},
   "outputs": [
    {
     "name": "stdout",
     "output_type": "stream",
     "text": [
      "[0.27521345105924172, 0.29761488475099807, 0.19690678089576594, 0.62758618177579628, 0.60821531602412804]\n"
     ]
    }
   ],
   "source": [
    "degree=[2,3,4,5,6]\n",
    "acc_score=[]\n",
    "for d in degree:\n",
    "    metode = svm.SVC(kernel='poly', degree=d)\n",
    "    scores = cross_val_score(metode, x_traincv1, y_train,  scoring='accuracy')\n",
    "    acc_score.append(scores.mean())\n",
    "print(acc_score)   "
   ]
  },
  {
   "cell_type": "code",
   "execution_count": 15,
   "metadata": {},
   "outputs": [
    {
     "name": "stdout",
     "output_type": "stream",
     "text": [
      "[0.37297297297297299, 0.36036036036036034, 0.36126126126126124, 0.36081081081081079, 0.36081081081081079, 0.36081081081081079, 0.36081081081081079]\n"
     ]
    }
   ],
   "source": [
    "C_range=[0.001,0.01,0.1,1,10,100,1000]\n",
    "acc_score=[]\n",
    "for c in C_range:\n",
    "    metode = svm.SVC(kernel='poly', C=c)\n",
    "    scores = cross_val_score(metode, x_traincv1, y_train, cv=10, scoring='accuracy')\n",
    "    acc_score.append(scores.mean())\n",
    "print(acc_score)"
   ]
  },
  {
   "cell_type": "code",
   "execution_count": 17,
   "metadata": {},
   "outputs": [
    {
     "name": "stdout",
     "output_type": "stream",
     "text": [
      "[0.3603603603603604, 0.36081081081081079, 0.36081081081081079, 0.36081081081081079, 0.36081081081081079, 0.36081081081081079, 0.36081081081081079, 0.36081081081081079, 0.36396396396396391, 0.37972972972972974, 0.38378378378378375, 0.4635135135135135, 0.65405405405405403, 0.67162162162162153, 0.67162162162162153, 0.67162162162162153, 0.67162162162162153, 0.67162162162162153, 0.67162162162162153, 0.67162162162162153, 0.67162162162162153, 0.67162162162162153, 0.67162162162162153]\n"
     ]
    }
   ],
   "source": [
    "gamma_range=[0.0001,0.001,0.01,0.1,0.2,0.3,0.4,0.5,0.6,0.7,0.8,0.9,1,2,3,4,5,6,7,8,10,100,1000]\n",
    "acc_score=[]\n",
    "for g in gamma_range:\n",
    "    metode = svm.SVC(kernel='poly', gamma=g)\n",
    "    scores = cross_val_score(metode, x_traincv1, y_train, cv=10, scoring='accuracy')\n",
    "    acc_score.append(scores.mean())\n",
    "print(acc_score)   "
   ]
  },
  {
   "cell_type": "code",
   "execution_count": 9,
   "metadata": {},
   "outputs": [
    {
     "name": "stdout",
     "output_type": "stream",
     "text": [
      "[0.67117117117117109, 0.67117117117117109, 0.67117117117117109, 0.67117117117117109, 0.67117117117117109, 0.20765765765765765, 0.17882882882882883]\n"
     ]
    }
   ],
   "source": [
    "C_range=[0.001,0.01,0.1,1,10,100,1000]\n",
    "acc_score=[]\n",
    "for c in C_range:\n",
    "    metode = svm.SVC(kernel='poly', C=c, degree=5, )\n",
    "    scores = cross_val_score(metode, x_traincv1, y_train, cv=10, scoring='accuracy')\n",
    "    acc_score.append(scores.mean())\n",
    "print(acc_score)"
   ]
  },
  {
   "cell_type": "code",
   "execution_count": 10,
   "metadata": {},
   "outputs": [
    {
     "name": "stdout",
     "output_type": "stream",
     "text": [
      "[0.67117117117117109, 0.67117117117117109, 0.67117117117117109, 0.67117117117117109, 0.67117117117117109, 0.20765765765765765, 0.17882882882882883]\n"
     ]
    }
   ],
   "source": [
    "C_range=[0.001,0.01,0.1,1,10,100,1000]\n",
    "acc_score=[]\n",
    "for c in C_range:\n",
    "    metode = svm.SVC(kernel='poly', C=c, gamma='auto', degree=5, )\n",
    "    scores = cross_val_score(metode, x_traincv1, y_train, cv=10, scoring='accuracy')\n",
    "    acc_score.append(scores.mean())\n",
    "print(acc_score)"
   ]
  },
  {
   "cell_type": "code",
   "execution_count": 11,
   "metadata": {},
   "outputs": [
    {
     "name": "stdout",
     "output_type": "stream",
     "text": [
      "('Tertinggi : ', 0.67117117117117109)\n"
     ]
    }
   ],
   "source": [
    "highest = max(acc_score)\n",
    "print(\"Tertinggi : \",highest)"
   ]
  },
  {
   "cell_type": "markdown",
   "metadata": {},
   "source": [
    "## RBF c dan gamma"
   ]
  },
  {
   "cell_type": "code",
   "execution_count": 23,
   "metadata": {},
   "outputs": [
    {
     "name": "stdout",
     "output_type": "stream",
     "text": [
      "[0.44909909909909917, 0.44909909909909917, 0.44864864864864867, 0.77252252252252251, 0.80045045045045049, 0.17972972972972973, 0.16936936936936936, 0.1707207207207207]\n"
     ]
    }
   ],
   "source": [
    "gamma_range=[0.0001,0.001,0.01,0.1,1,10,100,1000]\n",
    "acc_score=[]\n",
    "for g in gamma_range:\n",
    "    metode = svm.SVC(kernel='rbf', gamma=g)\n",
    "    scores = cross_val_score(metode, x_traincv1, y_train, cv=10, scoring='accuracy')\n",
    "    acc_score.append(scores.mean())\n",
    "print(acc_score)    "
   ]
  },
  {
   "cell_type": "code",
   "execution_count": 25,
   "metadata": {},
   "outputs": [
    {
     "name": "stdout",
     "output_type": "stream",
     "text": [
      "[0.44909909909909917, 0.44909909909909917, 0.44909909909909917, 0.44909909909909917, 0.44909909909909917, 0.53198198198198199, 0.80585585585585595]\n"
     ]
    }
   ],
   "source": [
    "C_range=[0.001,0.01,0.1,1,10,100,1000]\n",
    "acc_score=[]\n",
    "for c in C_range:\n",
    "    metode = svm.SVC(kernel='rbf', C=c)\n",
    "    scores = cross_val_score(metode, x_traincv1, y_train, cv=10, scoring='accuracy')\n",
    "    acc_score.append(scores.mean())\n",
    "print(acc_score)"
   ]
  },
  {
   "cell_type": "code",
   "execution_count": 12,
   "metadata": {},
   "outputs": [
    {
     "name": "stdout",
     "output_type": "stream",
     "text": [
      "[0.37522522522522522, 0.37522522522522522, 0.40225225225225225, 0.80045045045045049, 0.81441441441441442, 0.81441441441441442, 0.81441441441441442]\n"
     ]
    }
   ],
   "source": [
    "C_range=[0.001,0.01,0.1,1,10,100,1000]\n",
    "acc_score=[]\n",
    "for c in C_range:\n",
    "    metode = svm.SVC(kernel='rbf', C=c, gamma=1)\n",
    "    scores = cross_val_score(metode, x_traincv1, y_train, cv=10, scoring='accuracy')\n",
    "    acc_score.append(scores.mean())\n",
    "print(acc_score)"
   ]
  },
  {
   "cell_type": "code",
   "execution_count": 13,
   "metadata": {},
   "outputs": [
    {
     "name": "stdout",
     "output_type": "stream",
     "text": [
      "('Tertinggi : ', 0.81441441441441442)\n"
     ]
    }
   ],
   "source": [
    "highest = max(acc_score)\n",
    "print(\"Tertinggi : \",highest)"
   ]
  },
  {
   "cell_type": "markdown",
   "metadata": {},
   "source": [
    "## GRIDSEARCH CV 10"
   ]
  },
  {
   "cell_type": "markdown",
   "metadata": {},
   "source": [
    "Metode Grid Search untuk menemukan parameter dari kernel dengan akurasi terbaik"
   ]
  },
  {
   "cell_type": "code",
   "execution_count": 27,
   "metadata": {
    "collapsed": true
   },
   "outputs": [],
   "source": [
    "from sklearn.svm import SVC\n",
    "svm_model= SVC()"
   ]
  },
  {
   "cell_type": "code",
   "execution_count": 28,
   "metadata": {
    "collapsed": true
   },
   "outputs": [],
   "source": [
    "tuned_parameters = {\n",
    " 'C': (np.arange(0.1,1,0.1)) , 'kernel': ['linear'],\n",
    " 'C': (np.arange(0.1,1,0.1)) , 'gamma': [0.1,0.2,0.3,0.4,0.5,0.6,0.7,0.8,0.9,1], 'kernel': ['rbf']\n",
    "                   }"
   ]
  },
  {
   "cell_type": "code",
   "execution_count": 30,
   "metadata": {
    "collapsed": true
   },
   "outputs": [],
   "source": [
    "from sklearn.model_selection import GridSearchCV\n",
    "\n",
    "model_svm = GridSearchCV(svm_model, tuned_parameters,cv=10,scoring='accuracy')"
   ]
  },
  {
   "cell_type": "code",
   "execution_count": 33,
   "metadata": {},
   "outputs": [
    {
     "name": "stdout",
     "output_type": "stream",
     "text": [
      "0.800900900901\n"
     ]
    }
   ],
   "source": [
    "model_svm.fit( x_traincv1, y_train)\n",
    "print(model_svm.best_score_)"
   ]
  },
  {
   "cell_type": "code",
   "execution_count": 34,
   "metadata": {},
   "outputs": [
    {
     "name": "stdout",
     "output_type": "stream",
     "text": [
      "[mean: 0.44144, std: 0.09014, params: {'kernel': 'rbf', 'C': 0.10000000000000001, 'gamma': 0.1}, mean: 0.43694, std: 0.08679, params: {'kernel': 'rbf', 'C': 0.10000000000000001, 'gamma': 0.2}, mean: 0.44279, std: 0.09245, params: {'kernel': 'rbf', 'C': 0.10000000000000001, 'gamma': 0.3}, mean: 0.44009, std: 0.09445, params: {'kernel': 'rbf', 'C': 0.10000000000000001, 'gamma': 0.4}, mean: 0.44009, std: 0.09097, params: {'kernel': 'rbf', 'C': 0.10000000000000001, 'gamma': 0.5}, mean: 0.43604, std: 0.09227, params: {'kernel': 'rbf', 'C': 0.10000000000000001, 'gamma': 0.6}, mean: 0.42523, std: 0.08728, params: {'kernel': 'rbf', 'C': 0.10000000000000001, 'gamma': 0.7}, mean: 0.41712, std: 0.08606, params: {'kernel': 'rbf', 'C': 0.10000000000000001, 'gamma': 0.8}, mean: 0.41126, std: 0.08599, params: {'kernel': 'rbf', 'C': 0.10000000000000001, 'gamma': 0.9}, mean: 0.40225, std: 0.08578, params: {'kernel': 'rbf', 'C': 0.10000000000000001, 'gamma': 1}, mean: 0.45405, std: 0.09284, params: {'kernel': 'rbf', 'C': 0.20000000000000001, 'gamma': 0.1}, mean: 0.57297, std: 0.08568, params: {'kernel': 'rbf', 'C': 0.20000000000000001, 'gamma': 0.2}, mean: 0.65811, std: 0.08149, params: {'kernel': 'rbf', 'C': 0.20000000000000001, 'gamma': 0.3}, mean: 0.68063, std: 0.08064, params: {'kernel': 'rbf', 'C': 0.20000000000000001, 'gamma': 0.4}, mean: 0.68739, std: 0.07906, params: {'kernel': 'rbf', 'C': 0.20000000000000001, 'gamma': 0.5}, mean: 0.68649, std: 0.07826, params: {'kernel': 'rbf', 'C': 0.20000000000000001, 'gamma': 0.6}, mean: 0.68288, std: 0.07722, params: {'kernel': 'rbf', 'C': 0.20000000000000001, 'gamma': 0.7}, mean: 0.67297, std: 0.07803, params: {'kernel': 'rbf', 'C': 0.20000000000000001, 'gamma': 0.8}, mean: 0.65811, std: 0.07842, params: {'kernel': 'rbf', 'C': 0.20000000000000001, 'gamma': 0.9}, mean: 0.63919, std: 0.07584, params: {'kernel': 'rbf', 'C': 0.20000000000000001, 'gamma': 1}, mean: 0.52162, std: 0.08688, params: {'kernel': 'rbf', 'C': 0.30000000000000004, 'gamma': 0.1}, mean: 0.69595, std: 0.08186, params: {'kernel': 'rbf', 'C': 0.30000000000000004, 'gamma': 0.2}, mean: 0.73243, std: 0.07602, params: {'kernel': 'rbf', 'C': 0.30000000000000004, 'gamma': 0.3}, mean: 0.74910, std: 0.07114, params: {'kernel': 'rbf', 'C': 0.30000000000000004, 'gamma': 0.4}, mean: 0.75586, std: 0.06957, params: {'kernel': 'rbf', 'C': 0.30000000000000004, 'gamma': 0.5}, mean: 0.75586, std: 0.07044, params: {'kernel': 'rbf', 'C': 0.30000000000000004, 'gamma': 0.6}, mean: 0.75270, std: 0.06980, params: {'kernel': 'rbf', 'C': 0.30000000000000004, 'gamma': 0.7}, mean: 0.74775, std: 0.07136, params: {'kernel': 'rbf', 'C': 0.30000000000000004, 'gamma': 0.8}, mean: 0.73559, std: 0.07224, params: {'kernel': 'rbf', 'C': 0.30000000000000004, 'gamma': 0.9}, mean: 0.72477, std: 0.07397, params: {'kernel': 'rbf', 'C': 0.30000000000000004, 'gamma': 1}, mean: 0.64910, std: 0.07696, params: {'kernel': 'rbf', 'C': 0.40000000000000002, 'gamma': 0.1}, mean: 0.74369, std: 0.07381, params: {'kernel': 'rbf', 'C': 0.40000000000000002, 'gamma': 0.2}, mean: 0.76712, std: 0.07042, params: {'kernel': 'rbf', 'C': 0.40000000000000002, 'gamma': 0.3}, mean: 0.76802, std: 0.06967, params: {'kernel': 'rbf', 'C': 0.40000000000000002, 'gamma': 0.4}, mean: 0.77027, std: 0.07159, params: {'kernel': 'rbf', 'C': 0.40000000000000002, 'gamma': 0.5}, mean: 0.77072, std: 0.07166, params: {'kernel': 'rbf', 'C': 0.40000000000000002, 'gamma': 0.6}, mean: 0.77072, std: 0.06994, params: {'kernel': 'rbf', 'C': 0.40000000000000002, 'gamma': 0.7}, mean: 0.76802, std: 0.06927, params: {'kernel': 'rbf', 'C': 0.40000000000000002, 'gamma': 0.8}, mean: 0.76441, std: 0.06727, params: {'kernel': 'rbf', 'C': 0.40000000000000002, 'gamma': 0.9}, mean: 0.76126, std: 0.07004, params: {'kernel': 'rbf', 'C': 0.40000000000000002, 'gamma': 1}, mean: 0.69820, std: 0.08281, params: {'kernel': 'rbf', 'C': 0.5, 'gamma': 0.1}, mean: 0.76802, std: 0.07216, params: {'kernel': 'rbf', 'C': 0.5, 'gamma': 0.2}, mean: 0.77162, std: 0.07255, params: {'kernel': 'rbf', 'C': 0.5, 'gamma': 0.3}, mean: 0.77613, std: 0.07462, params: {'kernel': 'rbf', 'C': 0.5, 'gamma': 0.4}, mean: 0.77658, std: 0.07443, params: {'kernel': 'rbf', 'C': 0.5, 'gamma': 0.5}, mean: 0.77748, std: 0.07391, params: {'kernel': 'rbf', 'C': 0.5, 'gamma': 0.6}, mean: 0.77703, std: 0.07441, params: {'kernel': 'rbf', 'C': 0.5, 'gamma': 0.7}, mean: 0.77838, std: 0.07159, params: {'kernel': 'rbf', 'C': 0.5, 'gamma': 0.8}, mean: 0.77748, std: 0.07213, params: {'kernel': 'rbf', 'C': 0.5, 'gamma': 0.9}, mean: 0.77568, std: 0.07133, params: {'kernel': 'rbf', 'C': 0.5, 'gamma': 1}, mean: 0.72793, std: 0.07805, params: {'kernel': 'rbf', 'C': 0.59999999999999998, 'gamma': 0.1}, mean: 0.77207, std: 0.07314, params: {'kernel': 'rbf', 'C': 0.59999999999999998, 'gamma': 0.2}, mean: 0.77748, std: 0.07372, params: {'kernel': 'rbf', 'C': 0.59999999999999998, 'gamma': 0.3}, mean: 0.78468, std: 0.06989, params: {'kernel': 'rbf', 'C': 0.59999999999999998, 'gamma': 0.4}, mean: 0.78604, std: 0.07074, params: {'kernel': 'rbf', 'C': 0.59999999999999998, 'gamma': 0.5}, mean: 0.78739, std: 0.06878, params: {'kernel': 'rbf', 'C': 0.59999999999999998, 'gamma': 0.6}, mean: 0.78739, std: 0.06878, params: {'kernel': 'rbf', 'C': 0.59999999999999998, 'gamma': 0.7}, mean: 0.78604, std: 0.06859, params: {'kernel': 'rbf', 'C': 0.59999999999999998, 'gamma': 0.8}, mean: 0.78559, std: 0.06938, params: {'kernel': 'rbf', 'C': 0.59999999999999998, 'gamma': 0.9}, mean: 0.78288, std: 0.07159, params: {'kernel': 'rbf', 'C': 0.59999999999999998, 'gamma': 1}, mean: 0.75000, std: 0.07037, params: {'kernel': 'rbf', 'C': 0.70000000000000007, 'gamma': 0.1}, mean: 0.77748, std: 0.07449, params: {'kernel': 'rbf', 'C': 0.70000000000000007, 'gamma': 0.2}, mean: 0.78694, std: 0.06858, params: {'kernel': 'rbf', 'C': 0.70000000000000007, 'gamma': 0.3}, mean: 0.78964, std: 0.07054, params: {'kernel': 'rbf', 'C': 0.70000000000000007, 'gamma': 0.4}, mean: 0.79099, std: 0.06918, params: {'kernel': 'rbf', 'C': 0.70000000000000007, 'gamma': 0.5}, mean: 0.79099, std: 0.06805, params: {'kernel': 'rbf', 'C': 0.70000000000000007, 'gamma': 0.6}, mean: 0.79189, std: 0.06928, params: {'kernel': 'rbf', 'C': 0.70000000000000007, 'gamma': 0.7}, mean: 0.79144, std: 0.07048, params: {'kernel': 'rbf', 'C': 0.70000000000000007, 'gamma': 0.8}, mean: 0.79054, std: 0.07267, params: {'kernel': 'rbf', 'C': 0.70000000000000007, 'gamma': 0.9}, mean: 0.78874, std: 0.07214, params: {'kernel': 'rbf', 'C': 0.70000000000000007, 'gamma': 1}, mean: 0.76486, std: 0.07013, params: {'kernel': 'rbf', 'C': 0.80000000000000004, 'gamma': 0.1}, mean: 0.78243, std: 0.07173, params: {'kernel': 'rbf', 'C': 0.80000000000000004, 'gamma': 0.2}, mean: 0.78919, std: 0.07076, params: {'kernel': 'rbf', 'C': 0.80000000000000004, 'gamma': 0.3}, mean: 0.79144, std: 0.06787, params: {'kernel': 'rbf', 'C': 0.80000000000000004, 'gamma': 0.4}, mean: 0.79640, std: 0.06795, params: {'kernel': 'rbf', 'C': 0.80000000000000004, 'gamma': 0.5}, mean: 0.79595, std: 0.06633, params: {'kernel': 'rbf', 'C': 0.80000000000000004, 'gamma': 0.6}, mean: 0.79414, std: 0.06763, params: {'kernel': 'rbf', 'C': 0.80000000000000004, 'gamma': 0.7}, mean: 0.79324, std: 0.07049, params: {'kernel': 'rbf', 'C': 0.80000000000000004, 'gamma': 0.8}, mean: 0.79234, std: 0.07035, params: {'kernel': 'rbf', 'C': 0.80000000000000004, 'gamma': 0.9}, mean: 0.79189, std: 0.07144, params: {'kernel': 'rbf', 'C': 0.80000000000000004, 'gamma': 1}, mean: 0.76892, std: 0.07280, params: {'kernel': 'rbf', 'C': 0.90000000000000002, 'gamma': 0.1}, mean: 0.79009, std: 0.06879, params: {'kernel': 'rbf', 'C': 0.90000000000000002, 'gamma': 0.2}, mean: 0.79234, std: 0.06918, params: {'kernel': 'rbf', 'C': 0.90000000000000002, 'gamma': 0.3}, mean: 0.79685, std: 0.06770, params: {'kernel': 'rbf', 'C': 0.90000000000000002, 'gamma': 0.4}, mean: 0.79910, std: 0.06581, params: {'kernel': 'rbf', 'C': 0.90000000000000002, 'gamma': 0.5}, mean: 0.80090, std: 0.06446, params: {'kernel': 'rbf', 'C': 0.90000000000000002, 'gamma': 0.6}, mean: 0.80090, std: 0.06672, params: {'kernel': 'rbf', 'C': 0.90000000000000002, 'gamma': 0.7}, mean: 0.79955, std: 0.06544, params: {'kernel': 'rbf', 'C': 0.90000000000000002, 'gamma': 0.8}, mean: 0.79865, std: 0.06805, params: {'kernel': 'rbf', 'C': 0.90000000000000002, 'gamma': 0.9}, mean: 0.79730, std: 0.06805, params: {'kernel': 'rbf', 'C': 0.90000000000000002, 'gamma': 1}]\n"
     ]
    },
    {
     "name": "stderr",
     "output_type": "stream",
     "text": [
      "C:\\Users\\yannywd\\Anaconda2\\lib\\site-packages\\sklearn\\model_selection\\_search.py:761: DeprecationWarning: The grid_scores_ attribute was deprecated in version 0.18 in favor of the more elaborate cv_results_ attribute. The grid_scores_ attribute will not be available from 0.20\n",
      "  DeprecationWarning)\n"
     ]
    }
   ],
   "source": [
    "print(model_svm.grid_scores_)"
   ]
  },
  {
   "cell_type": "code",
   "execution_count": 32,
   "metadata": {},
   "outputs": [
    {
     "name": "stdout",
     "output_type": "stream",
     "text": [
      "{'kernel': 'rbf', 'C': 0.90000000000000002, 'gamma': 0.6}\n"
     ]
    }
   ],
   "source": [
    "print(model_svm.best_params_)"
   ]
  }
 ],
 "metadata": {
  "kernelspec": {
   "display_name": "Python 2",
   "language": "python",
   "name": "python2"
  },
  "language_info": {
   "codemirror_mode": {
    "name": "ipython",
    "version": 2
   },
   "file_extension": ".py",
   "mimetype": "text/x-python",
   "name": "python",
   "nbconvert_exporter": "python",
   "pygments_lexer": "ipython2",
   "version": "2.7.14"
  }
 },
 "nbformat": 4,
 "nbformat_minor": 2
}
